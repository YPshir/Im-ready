{
  "nbformat": 4,
  "nbformat_minor": 0,
  "metadata": {
    "kernelspec": {
      "display_name": "Python 3",
      "language": "python",
      "name": "python3"
    },
    "language_info": {
      "codemirror_mode": {
        "name": "ipython",
        "version": 3
      },
      "file_extension": ".py",
      "mimetype": "text/x-python",
      "name": "python",
      "nbconvert_exporter": "python",
      "pygments_lexer": "ipython3",
      "version": "3.7.1"
    },
    "colab": {
      "name": "project.ipynb",
      "provenance": [],
      "include_colab_link": true
    }
  },
  "cells": [
    {
      "cell_type": "markdown",
      "metadata": {
        "id": "view-in-github",
        "colab_type": "text"
      },
      "source": [
        "<a href=\"https://colab.research.google.com/github/YPshir/datamining-project/blob/master/dataminning.ipynb\" target=\"_parent\"><img src=\"https://colab.research.google.com/assets/colab-badge.svg\" alt=\"Open In Colab\"/></a>"
      ]
    },
    {
      "cell_type": "markdown",
      "metadata": {
        "id": "N97_CAvgDPOn",
        "colab_type": "text"
      },
      "source": [
        "In this project, we will deal with the death row prisoners in Texas (such as race, gender, education level, their  race and thier victims etc.) \n",
        "and their recent statements"
      ]
    },
    {
      "cell_type": "markdown",
      "metadata": {
        "id": "e6I9f1VyE-Wo",
        "colab_type": "text"
      },
      "source": [
        "# New Section"
      ]
    },
    {
      "cell_type": "code",
      "metadata": {
        "id": "tVQANxfzDPOp",
        "colab_type": "code",
        "colab": {}
      },
      "source": [
        "import numpy as np\n",
        "import pandas as pd\n",
        "import matplotlib.pyplot as plt\n",
        "import seaborn as sns\n",
        "import os"
      ],
      "execution_count": 0,
      "outputs": []
    },
    {
      "cell_type": "code",
      "metadata": {
        "id": "BEUmfk26DPOx",
        "colab_type": "code",
        "outputId": "0d83249b-479e-47a5-c264-3d943658118a",
        "colab": {
          "base_uri": "https://localhost:8080/",
          "height": 221
        }
      },
      "source": [
        "from IPython.display import Image\n",
        "pic1= Image(url= 'https://socialimages.sakalmediagroup.com/sakaltimes-prod/s3fs-public/styles/generic_md_75/public/news-story/cover-images/0Pune_year_old_rape_accused_.jpg' ,width=500,height=200)\n",
        "pic1"
      ],
      "execution_count": 0,
      "outputs": [
        {
          "output_type": "execute_result",
          "data": {
            "text/html": [
              "<img src=\"https://socialimages.sakalmediagroup.com/sakaltimes-prod/s3fs-public/styles/generic_md_75/public/news-story/cover-images/0Pune_year_old_rape_accused_.jpg\" width=\"500\" height=\"200\"/>"
            ],
            "text/plain": [
              "<IPython.core.display.Image object>"
            ]
          },
          "metadata": {
            "tags": []
          },
          "execution_count": 6
        }
      ]
    },
    {
      "cell_type": "code",
      "metadata": {
        "id": "wIIHFjw2DPO5",
        "colab_type": "code",
        "colab": {}
      },
      "source": [
        "Part 1: Initiate the dataset"
      ],
      "execution_count": 0,
      "outputs": []
    },
    {
      "cell_type": "markdown",
      "metadata": {
        "id": "ZKZW3gvrD8Ie",
        "colab_type": "text"
      },
      "source": [
        "# New Section"
      ]
    },
    {
      "cell_type": "markdown",
      "metadata": {
        "id": "G-WJxEPwDPO_",
        "colab_type": "text"
      },
      "source": [
        "First, load the data file and look at the basic data.\n",
        "Second, we will describe the data."
      ]
    },
    {
      "cell_type": "code",
      "metadata": {
        "id": "_faUwTtdDPPA",
        "colab_type": "code",
        "outputId": "c39dda6a-d1e4-4afe-d6a4-c83a86124c26",
        "colab": {}
      },
      "source": [
        "# Read csv file and store in variable\n",
        "df = pd.read_csv(\"./Texas Last Statement - CSV.csv\" , encoding='latin1')\n",
        "# fix table column name\n",
        "newNames = df.columns.values\n",
        "newNames[16] = 'VictimOtherRaces'\n",
        "df.columns = newNames\n",
        "df.head()"
      ],
      "execution_count": 0,
      "outputs": [
        {
          "output_type": "execute_result",
          "data": {
            "text/html": [
              "<div>\n",
              "<style scoped>\n",
              "    .dataframe tbody tr th:only-of-type {\n",
              "        vertical-align: middle;\n",
              "    }\n",
              "\n",
              "    .dataframe tbody tr th {\n",
              "        vertical-align: top;\n",
              "    }\n",
              "\n",
              "    .dataframe thead th {\n",
              "        text-align: right;\n",
              "    }\n",
              "</style>\n",
              "<table border=\"1\" class=\"dataframe\">\n",
              "  <thead>\n",
              "    <tr style=\"text-align: right;\">\n",
              "      <th></th>\n",
              "      <th>Execution</th>\n",
              "      <th>LastName</th>\n",
              "      <th>FirstName</th>\n",
              "      <th>TDCJNumber</th>\n",
              "      <th>Age</th>\n",
              "      <th>Race</th>\n",
              "      <th>CountyOfConviction</th>\n",
              "      <th>AgeWhenReceived</th>\n",
              "      <th>EducationLevel</th>\n",
              "      <th>NativeCounty</th>\n",
              "      <th>PreviousCrime</th>\n",
              "      <th>Codefendants</th>\n",
              "      <th>NumberVictim</th>\n",
              "      <th>WhiteVictim</th>\n",
              "      <th>HispanicVictim</th>\n",
              "      <th>BlackVictim</th>\n",
              "      <th>VictimOtherRaces</th>\n",
              "      <th>FemaleVictim</th>\n",
              "      <th>MaleVictim</th>\n",
              "      <th>LastStatement</th>\n",
              "    </tr>\n",
              "  </thead>\n",
              "  <tbody>\n",
              "    <tr>\n",
              "      <th>0</th>\n",
              "      <td>545</td>\n",
              "      <td>Cardenas</td>\n",
              "      <td>Ruben</td>\n",
              "      <td>999275</td>\n",
              "      <td>47</td>\n",
              "      <td>Hispanic</td>\n",
              "      <td>Hidalgo</td>\n",
              "      <td>28.0</td>\n",
              "      <td>11.0</td>\n",
              "      <td>1.0</td>\n",
              "      <td>0.0</td>\n",
              "      <td>0.0</td>\n",
              "      <td>1.0</td>\n",
              "      <td>0.0</td>\n",
              "      <td>1.0</td>\n",
              "      <td>0.0</td>\n",
              "      <td>0.0</td>\n",
              "      <td>1.0</td>\n",
              "      <td>0.0</td>\n",
              "      <td>This is my statement: My final words. First, I...</td>\n",
              "    </tr>\n",
              "    <tr>\n",
              "      <th>1</th>\n",
              "      <td>544</td>\n",
              "      <td>Pruett</td>\n",
              "      <td>Robert</td>\n",
              "      <td>999411</td>\n",
              "      <td>38</td>\n",
              "      <td>White</td>\n",
              "      <td>Bee</td>\n",
              "      <td>22.0</td>\n",
              "      <td>8.0</td>\n",
              "      <td>0.0</td>\n",
              "      <td>1.0</td>\n",
              "      <td>0.0</td>\n",
              "      <td>1.0</td>\n",
              "      <td>1.0</td>\n",
              "      <td>0.0</td>\n",
              "      <td>0.0</td>\n",
              "      <td>0.0</td>\n",
              "      <td>0.0</td>\n",
              "      <td>1.0</td>\n",
              "      <td>I just want to let everyone in here to know I ...</td>\n",
              "    </tr>\n",
              "    <tr>\n",
              "      <th>2</th>\n",
              "      <td>543</td>\n",
              "      <td>Preyor</td>\n",
              "      <td>Taichin</td>\n",
              "      <td>999494</td>\n",
              "      <td>46</td>\n",
              "      <td>Black</td>\n",
              "      <td>Bexar</td>\n",
              "      <td>34.0</td>\n",
              "      <td>10.0</td>\n",
              "      <td>0.0</td>\n",
              "      <td>0.0</td>\n",
              "      <td>0.0</td>\n",
              "      <td>1.0</td>\n",
              "      <td>1.0</td>\n",
              "      <td>0.0</td>\n",
              "      <td>0.0</td>\n",
              "      <td>0.0</td>\n",
              "      <td>0.0</td>\n",
              "      <td>1.0</td>\n",
              "      <td>First and foremost I'd like to say, \"Justice h...</td>\n",
              "    </tr>\n",
              "    <tr>\n",
              "      <th>3</th>\n",
              "      <td>542</td>\n",
              "      <td>Bigby</td>\n",
              "      <td>James</td>\n",
              "      <td>997</td>\n",
              "      <td>61</td>\n",
              "      <td>White</td>\n",
              "      <td>Tarrant</td>\n",
              "      <td>36.0</td>\n",
              "      <td>9.0</td>\n",
              "      <td>0.0</td>\n",
              "      <td>1.0</td>\n",
              "      <td>0.0</td>\n",
              "      <td>1.0</td>\n",
              "      <td>1.0</td>\n",
              "      <td>0.0</td>\n",
              "      <td>0.0</td>\n",
              "      <td>0.0</td>\n",
              "      <td>0.0</td>\n",
              "      <td>1.0</td>\n",
              "      <td>Yes, I do, Grace Kehler is that you? I have gi...</td>\n",
              "    </tr>\n",
              "    <tr>\n",
              "      <th>4</th>\n",
              "      <td>541</td>\n",
              "      <td>Ruiz</td>\n",
              "      <td>Rolando</td>\n",
              "      <td>999145</td>\n",
              "      <td>44</td>\n",
              "      <td>Hispanic</td>\n",
              "      <td>Bexar</td>\n",
              "      <td>22.0</td>\n",
              "      <td>10.0</td>\n",
              "      <td>0.0</td>\n",
              "      <td>1.0</td>\n",
              "      <td>4.0</td>\n",
              "      <td>1.0</td>\n",
              "      <td>0.0</td>\n",
              "      <td>1.0</td>\n",
              "      <td>0.0</td>\n",
              "      <td>0.0</td>\n",
              "      <td>1.0</td>\n",
              "      <td>0.0</td>\n",
              "      <td>Yes sir, I would first like to say to the Sanc...</td>\n",
              "    </tr>\n",
              "  </tbody>\n",
              "</table>\n",
              "</div>"
            ],
            "text/plain": [
              "   Execution  LastName FirstName  TDCJNumber  Age      Race  \\\n",
              "0        545  Cardenas     Ruben      999275   47  Hispanic   \n",
              "1        544    Pruett    Robert      999411   38     White   \n",
              "2        543    Preyor   Taichin      999494   46     Black   \n",
              "3        542     Bigby     James         997   61     White   \n",
              "4        541      Ruiz   Rolando      999145   44  Hispanic   \n",
              "\n",
              "  CountyOfConviction  AgeWhenReceived  EducationLevel  NativeCounty   \\\n",
              "0            Hidalgo             28.0            11.0            1.0   \n",
              "1                Bee             22.0             8.0            0.0   \n",
              "2              Bexar             34.0            10.0            0.0   \n",
              "3            Tarrant             36.0             9.0            0.0   \n",
              "4              Bexar             22.0            10.0            0.0   \n",
              "\n",
              "   PreviousCrime  Codefendants  NumberVictim  WhiteVictim  HispanicVictim  \\\n",
              "0            0.0           0.0           1.0          0.0             1.0   \n",
              "1            1.0           0.0           1.0          1.0             0.0   \n",
              "2            0.0           0.0           1.0          1.0             0.0   \n",
              "3            1.0           0.0           1.0          1.0             0.0   \n",
              "4            1.0           4.0           1.0          0.0             1.0   \n",
              "\n",
              "   BlackVictim  VictimOtherRaces  FemaleVictim  MaleVictim  \\\n",
              "0          0.0               0.0           1.0         0.0   \n",
              "1          0.0               0.0           0.0         1.0   \n",
              "2          0.0               0.0           0.0         1.0   \n",
              "3          0.0               0.0           0.0         1.0   \n",
              "4          0.0               0.0           1.0         0.0   \n",
              "\n",
              "                                       LastStatement  \n",
              "0  This is my statement: My final words. First, I...  \n",
              "1  I just want to let everyone in here to know I ...  \n",
              "2  First and foremost I'd like to say, \"Justice h...  \n",
              "3  Yes, I do, Grace Kehler is that you? I have gi...  \n",
              "4  Yes sir, I would first like to say to the Sanc...  "
            ]
          },
          "metadata": {
            "tags": []
          },
          "execution_count": 19
        }
      ]
    },
    {
      "cell_type": "code",
      "metadata": {
        "id": "dvL-6_p8DPPG",
        "colab_type": "code",
        "outputId": "7fb9807d-3cbb-4dec-9b2d-6313d0989daf",
        "colab": {}
      },
      "source": [
        "df.describe()"
      ],
      "execution_count": 0,
      "outputs": [
        {
          "output_type": "execute_result",
          "data": {
            "text/html": [
              "<div>\n",
              "<style scoped>\n",
              "    .dataframe tbody tr th:only-of-type {\n",
              "        vertical-align: middle;\n",
              "    }\n",
              "\n",
              "    .dataframe tbody tr th {\n",
              "        vertical-align: top;\n",
              "    }\n",
              "\n",
              "    .dataframe thead th {\n",
              "        text-align: right;\n",
              "    }\n",
              "</style>\n",
              "<table border=\"1\" class=\"dataframe\">\n",
              "  <thead>\n",
              "    <tr style=\"text-align: right;\">\n",
              "      <th></th>\n",
              "      <th>Execution</th>\n",
              "      <th>TDCJNumber</th>\n",
              "      <th>Age</th>\n",
              "      <th>AgeWhenReceived</th>\n",
              "      <th>EducationLevel</th>\n",
              "      <th>NativeCounty</th>\n",
              "      <th>PreviousCrime</th>\n",
              "      <th>Codefendants</th>\n",
              "      <th>NumberVictim</th>\n",
              "      <th>WhiteVictim</th>\n",
              "      <th>HispanicVictim</th>\n",
              "      <th>BlackVictim</th>\n",
              "      <th>VictimOtherRaces</th>\n",
              "      <th>FemaleVictim</th>\n",
              "      <th>MaleVictim</th>\n",
              "    </tr>\n",
              "  </thead>\n",
              "  <tbody>\n",
              "    <tr>\n",
              "      <th>count</th>\n",
              "      <td>545.00000</td>\n",
              "      <td>545.000000</td>\n",
              "      <td>545.000000</td>\n",
              "      <td>527.000000</td>\n",
              "      <td>500.000000</td>\n",
              "      <td>516.000000</td>\n",
              "      <td>509.000000</td>\n",
              "      <td>517.000000</td>\n",
              "      <td>527.000000</td>\n",
              "      <td>424.000000</td>\n",
              "      <td>423.000000</td>\n",
              "      <td>423.000000</td>\n",
              "      <td>423.000000</td>\n",
              "      <td>526.000000</td>\n",
              "      <td>526.000000</td>\n",
              "    </tr>\n",
              "    <tr>\n",
              "      <th>mean</th>\n",
              "      <td>273.00000</td>\n",
              "      <td>517422.089908</td>\n",
              "      <td>39.339450</td>\n",
              "      <td>28.426945</td>\n",
              "      <td>10.148000</td>\n",
              "      <td>0.368217</td>\n",
              "      <td>0.542240</td>\n",
              "      <td>0.736944</td>\n",
              "      <td>1.394687</td>\n",
              "      <td>0.915094</td>\n",
              "      <td>0.255319</td>\n",
              "      <td>0.203310</td>\n",
              "      <td>0.026005</td>\n",
              "      <td>0.678707</td>\n",
              "      <td>0.712928</td>\n",
              "    </tr>\n",
              "    <tr>\n",
              "      <th>std</th>\n",
              "      <td>157.47222</td>\n",
              "      <td>499381.226644</td>\n",
              "      <td>8.458398</td>\n",
              "      <td>7.828356</td>\n",
              "      <td>2.076227</td>\n",
              "      <td>0.539757</td>\n",
              "      <td>0.498703</td>\n",
              "      <td>1.187976</td>\n",
              "      <td>0.799126</td>\n",
              "      <td>0.826487</td>\n",
              "      <td>0.616567</td>\n",
              "      <td>0.628161</td>\n",
              "      <td>0.210585</td>\n",
              "      <td>0.784009</td>\n",
              "      <td>0.692342</td>\n",
              "    </tr>\n",
              "    <tr>\n",
              "      <th>min</th>\n",
              "      <td>1.00000</td>\n",
              "      <td>511.000000</td>\n",
              "      <td>24.000000</td>\n",
              "      <td>17.000000</td>\n",
              "      <td>0.000000</td>\n",
              "      <td>0.000000</td>\n",
              "      <td>0.000000</td>\n",
              "      <td>0.000000</td>\n",
              "      <td>0.000000</td>\n",
              "      <td>0.000000</td>\n",
              "      <td>0.000000</td>\n",
              "      <td>0.000000</td>\n",
              "      <td>0.000000</td>\n",
              "      <td>0.000000</td>\n",
              "      <td>0.000000</td>\n",
              "    </tr>\n",
              "    <tr>\n",
              "      <th>25%</th>\n",
              "      <td>137.00000</td>\n",
              "      <td>808.000000</td>\n",
              "      <td>33.000000</td>\n",
              "      <td>22.000000</td>\n",
              "      <td>9.000000</td>\n",
              "      <td>0.000000</td>\n",
              "      <td>0.000000</td>\n",
              "      <td>0.000000</td>\n",
              "      <td>1.000000</td>\n",
              "      <td>0.000000</td>\n",
              "      <td>0.000000</td>\n",
              "      <td>0.000000</td>\n",
              "      <td>0.000000</td>\n",
              "      <td>0.000000</td>\n",
              "      <td>0.000000</td>\n",
              "    </tr>\n",
              "    <tr>\n",
              "      <th>50%</th>\n",
              "      <td>273.00000</td>\n",
              "      <td>999014.000000</td>\n",
              "      <td>38.000000</td>\n",
              "      <td>27.000000</td>\n",
              "      <td>10.000000</td>\n",
              "      <td>0.000000</td>\n",
              "      <td>1.000000</td>\n",
              "      <td>0.000000</td>\n",
              "      <td>1.000000</td>\n",
              "      <td>1.000000</td>\n",
              "      <td>0.000000</td>\n",
              "      <td>0.000000</td>\n",
              "      <td>0.000000</td>\n",
              "      <td>1.000000</td>\n",
              "      <td>1.000000</td>\n",
              "    </tr>\n",
              "    <tr>\n",
              "      <th>75%</th>\n",
              "      <td>409.00000</td>\n",
              "      <td>999246.000000</td>\n",
              "      <td>44.000000</td>\n",
              "      <td>33.000000</td>\n",
              "      <td>12.000000</td>\n",
              "      <td>1.000000</td>\n",
              "      <td>1.000000</td>\n",
              "      <td>1.000000</td>\n",
              "      <td>2.000000</td>\n",
              "      <td>1.000000</td>\n",
              "      <td>0.000000</td>\n",
              "      <td>0.000000</td>\n",
              "      <td>0.000000</td>\n",
              "      <td>1.000000</td>\n",
              "      <td>1.000000</td>\n",
              "    </tr>\n",
              "    <tr>\n",
              "      <th>max</th>\n",
              "      <td>545.00000</td>\n",
              "      <td>999555.000000</td>\n",
              "      <td>67.000000</td>\n",
              "      <td>57.000000</td>\n",
              "      <td>16.000000</td>\n",
              "      <td>6.000000</td>\n",
              "      <td>1.000000</td>\n",
              "      <td>13.000000</td>\n",
              "      <td>7.000000</td>\n",
              "      <td>5.000000</td>\n",
              "      <td>4.000000</td>\n",
              "      <td>6.000000</td>\n",
              "      <td>3.000000</td>\n",
              "      <td>6.000000</td>\n",
              "      <td>4.000000</td>\n",
              "    </tr>\n",
              "  </tbody>\n",
              "</table>\n",
              "</div>"
            ],
            "text/plain": [
              "       Execution     TDCJNumber         Age  AgeWhenReceived  EducationLevel  \\\n",
              "count  545.00000     545.000000  545.000000       527.000000      500.000000   \n",
              "mean   273.00000  517422.089908   39.339450        28.426945       10.148000   \n",
              "std    157.47222  499381.226644    8.458398         7.828356        2.076227   \n",
              "min      1.00000     511.000000   24.000000        17.000000        0.000000   \n",
              "25%    137.00000     808.000000   33.000000        22.000000        9.000000   \n",
              "50%    273.00000  999014.000000   38.000000        27.000000       10.000000   \n",
              "75%    409.00000  999246.000000   44.000000        33.000000       12.000000   \n",
              "max    545.00000  999555.000000   67.000000        57.000000       16.000000   \n",
              "\n",
              "       NativeCounty   PreviousCrime  Codefendants  NumberVictim  WhiteVictim  \\\n",
              "count     516.000000     509.000000    517.000000    527.000000   424.000000   \n",
              "mean        0.368217       0.542240      0.736944      1.394687     0.915094   \n",
              "std         0.539757       0.498703      1.187976      0.799126     0.826487   \n",
              "min         0.000000       0.000000      0.000000      0.000000     0.000000   \n",
              "25%         0.000000       0.000000      0.000000      1.000000     0.000000   \n",
              "50%         0.000000       1.000000      0.000000      1.000000     1.000000   \n",
              "75%         1.000000       1.000000      1.000000      2.000000     1.000000   \n",
              "max         6.000000       1.000000     13.000000      7.000000     5.000000   \n",
              "\n",
              "       HispanicVictim  BlackVictim  VictimOtherRaces  FemaleVictim  MaleVictim  \n",
              "count      423.000000   423.000000        423.000000    526.000000  526.000000  \n",
              "mean         0.255319     0.203310          0.026005      0.678707    0.712928  \n",
              "std          0.616567     0.628161          0.210585      0.784009    0.692342  \n",
              "min          0.000000     0.000000          0.000000      0.000000    0.000000  \n",
              "25%          0.000000     0.000000          0.000000      0.000000    0.000000  \n",
              "50%          0.000000     0.000000          0.000000      1.000000    1.000000  \n",
              "75%          0.000000     0.000000          0.000000      1.000000    1.000000  \n",
              "max          4.000000     6.000000          3.000000      6.000000    4.000000  "
            ]
          },
          "metadata": {
            "tags": []
          },
          "execution_count": 7
        }
      ]
    },
    {
      "cell_type": "markdown",
      "metadata": {
        "id": "S37sFEJ6DPPM",
        "colab_type": "text"
      },
      "source": [
        "---------------------------------------------------------------------------------------------------------------------------"
      ]
    },
    {
      "cell_type": "markdown",
      "metadata": {
        "id": "qXDuusKxDPPN",
        "colab_type": "text"
      },
      "source": [
        "Part 2: Presenting graphs based on dataset basic details related to the victims.\n",
        "In this part of the project we want to examine and present the results of a study of the participants.\n",
        "gender, race etc."
      ]
    },
    {
      "cell_type": "markdown",
      "metadata": {
        "id": "muNE2ARJDPPO",
        "colab_type": "text"
      },
      "source": [
        "first of all, we want to examine the distribution of crimes against the gender of victims, which are divided into three categories:\n",
        "1. Crime against males only\n",
        "2. A crime against females only\n",
        "3. Crime against both males and females."
      ]
    },
    {
      "cell_type": "code",
      "metadata": {
        "id": "emG3qf0NDPPP",
        "colab_type": "code",
        "outputId": "f5a12dbb-ec6c-4940-d586-82ad1145f0bc",
        "colab": {}
      },
      "source": [
        "# Create column of victim's gender\n",
        "df[\"VictimGender\"] = 0\n",
        "genderList = []\n",
        "maleCounter = 0\n",
        "femaleCounter = 0\n",
        "bothCounter = 0\n",
        "\n",
        "# count male' female and the both victims number\n",
        "for i in range(0, len(df)):\n",
        "    if df.MaleVictim[i] > 0 and df.FemaleVictim[i] > 0:\n",
        "        genderList.append(2)\n",
        "        bothCounter += df.MaleVictim[i] + df.FemaleVictim[i]\n",
        "    elif df.MaleVictim[i] > 0 and df.FemaleVictim[i] == 0:\n",
        "        genderList.append(0)\n",
        "        maleCounter += df.MaleVictim[i]\n",
        "    elif df.MaleVictim[i] == 0 and df.FemaleVictim[i] > 0:\n",
        "        genderList.append(1)\n",
        "        femaleCounter += df.FemaleVictim[i]\n",
        "    else:\n",
        "        genderList.append(999)\n",
        "        \n",
        "df.VictimGender = genderList\n",
        "\n",
        "#Show victim's gender division\n",
        "plt.pie([maleCounter, femaleCounter, bothCounter], explode=(0.1, 0.1, 0.1), labels=[\"Male\", \"Female\", \"both\"], colors=['lightskyblue', 'pink', 'green'], autopct='%1.1f%%', shadow=True, startangle=140)\n",
        "plt.axis('equal')\n",
        "plt.show()"
      ],
      "execution_count": 0,
      "outputs": [
        {
          "output_type": "display_data",
          "data": {
            "image/png": "[encoded data removed]",
            "text/plain": [
              "<Figure size 432x288 with 1 Axes>"
            ]
          },
          "metadata": {
            "tags": []
          }
        }
      ]
    },
    {
      "cell_type": "markdown",
      "metadata": {
        "id": "vJ1VQgZqDPPV",
        "colab_type": "text"
      },
      "source": [
        "We can see from the values found in the result of the pie graph that the gaps are insignificant, yet most of the crimes were committed against men only, than against women, and in the last place crimes against both genders."
      ]
    },
    {
      "cell_type": "markdown",
      "metadata": {
        "id": "FvECbjqcDPPW",
        "colab_type": "text"
      },
      "source": [
        "---------------------------------------------------------------------------------------------------------------------------"
      ]
    },
    {
      "cell_type": "code",
      "metadata": {
        "id": "5IGRVShsDPPY",
        "colab_type": "code",
        "colab": {}
      },
      "source": [
        "Now, we want to examine the distribution of crimes against the victims by their race, which are divided into four categories:\n",
        "1. Hispanic \n",
        "2. Black \n",
        "3. White \n",
        "4. other"
      ],
      "execution_count": 0,
      "outputs": []
    },
    {
      "cell_type": "code",
      "metadata": {
        "id": "T6RZ4amiDPPd",
        "colab_type": "code",
        "outputId": "b0cd76d5-a78b-486b-83d9-f48424c3b7fe",
        "colab": {}
      },
      "source": [
        "# Create column of victim's race\n",
        "df[\"VictimRace\"] = 0\n",
        "whiteCounter = 0\n",
        "blackCounter = 0\n",
        "hispanicCounter = 0\n",
        "otherCounter = 0\n",
        "# count black, white, hispanic  and other victims number\n",
        "for i in range(0, len(df)):\n",
        "    if not np.isnan(df.WhiteVictim[i]):\n",
        "        whiteCounter += df.WhiteVictim[i]\n",
        "    if not np.isnan(df.BlackVictim[i]):\n",
        "        blackCounter += df.BlackVictim[i]\n",
        "    if not np.isnan(df.HispanicVictim[i]):\n",
        "        hispanicCounter += df.HispanicVictim[i]\n",
        "    if not np.isnan(df.VictimOtherRaces[i]):\n",
        "        otherCounter += df.VictimOtherRaces[i]\n",
        "# Show race division\n",
        "plt.pie([whiteCounter, blackCounter, hispanicCounter, otherCounter], explode=(0.1, 0.1, 0.1, 0.1), labels=[\"White\", \"Black\", \"Hispanic\", \"Other\"], colors=['lightskyblue', 'green', 'purple', 'orange'], autopct='%1.1f%%', shadow=True, startangle=140)\n",
        "plt.axis('equal')\n",
        "plt.show()"
      ],
      "execution_count": 0,
      "outputs": [
        {
          "output_type": "display_data",
          "data": {
            "image/png": "[encoded data removed]",
            "text/plain": [
              "<Figure size 432x288 with 1 Axes>"
            ]
          },
          "metadata": {
            "tags": []
          }
        }
      ]
    },
    {
      "cell_type": "markdown",
      "metadata": {
        "id": "FV7ogDOqDPPi",
        "colab_type": "text"
      },
      "source": [
        "As shown in the results, the percentage of crimes against the \"white\" race is highest.In the second place, the \"Hispanic\" race, in the third place the \"black\" race, and the lowest percentage of crimes is against other races."
      ]
    },
    {
      "cell_type": "code",
      "metadata": {
        "id": "-_Lx-q58DPPj",
        "colab_type": "code",
        "colab": {}
      },
      "source": [
        ""
      ],
      "execution_count": 0,
      "outputs": []
    },
    {
      "cell_type": "markdown",
      "metadata": {
        "id": "2BM0evYRDPPr",
        "colab_type": "text"
      },
      "source": [
        "In this section we would like to examine whether the severity of the punishment is positively or negatively correlated between certain countries and certain races."
      ]
    },
    {
      "cell_type": "code",
      "metadata": {
        "scrolled": true,
        "id": "phCV9pg0DPPs",
        "colab_type": "code",
        "outputId": "f0c74be4-f33b-4f3b-cb8f-35ed4d2bd5db",
        "colab": {}
      },
      "source": [
        "dfTemporary=df[[ \"BlackVictim\", \"HispanicVictim\", \"WhiteVictim\",\"VictimOtherRaces\",\"CountyOfConviction\"]].copy()\n",
        "\n",
        "dfTemporary.apply(lambda x: x.factorize()[0]).corr()"
      ],
      "execution_count": 0,
      "outputs": [
        {
          "output_type": "execute_result",
          "data": {
            "text/html": [
              "<div>\n",
              "<style scoped>\n",
              "    .dataframe tbody tr th:only-of-type {\n",
              "        vertical-align: middle;\n",
              "    }\n",
              "\n",
              "    .dataframe tbody tr th {\n",
              "        vertical-align: top;\n",
              "    }\n",
              "\n",
              "    .dataframe thead th {\n",
              "        text-align: right;\n",
              "    }\n",
              "</style>\n",
              "<table border=\"1\" class=\"dataframe\">\n",
              "  <thead>\n",
              "    <tr style=\"text-align: right;\">\n",
              "      <th></th>\n",
              "      <th>BlackVictim</th>\n",
              "      <th>HispanicVictim</th>\n",
              "      <th>WhiteVictim</th>\n",
              "      <th>VictimOtherRaces</th>\n",
              "      <th>CountyOfConviction</th>\n",
              "    </tr>\n",
              "  </thead>\n",
              "  <tbody>\n",
              "    <tr>\n",
              "      <th>BlackVictim</th>\n",
              "      <td>1.000000</td>\n",
              "      <td>0.041338</td>\n",
              "      <td>-0.338545</td>\n",
              "      <td>-0.041596</td>\n",
              "      <td>-0.090813</td>\n",
              "    </tr>\n",
              "    <tr>\n",
              "      <th>HispanicVictim</th>\n",
              "      <td>0.041338</td>\n",
              "      <td>1.000000</td>\n",
              "      <td>0.141841</td>\n",
              "      <td>0.017396</td>\n",
              "      <td>-0.029198</td>\n",
              "    </tr>\n",
              "    <tr>\n",
              "      <th>WhiteVictim</th>\n",
              "      <td>-0.338545</td>\n",
              "      <td>0.141841</td>\n",
              "      <td>1.000000</td>\n",
              "      <td>-0.124572</td>\n",
              "      <td>0.152668</td>\n",
              "    </tr>\n",
              "    <tr>\n",
              "      <th>VictimOtherRaces</th>\n",
              "      <td>-0.041596</td>\n",
              "      <td>0.017396</td>\n",
              "      <td>-0.124572</td>\n",
              "      <td>1.000000</td>\n",
              "      <td>-0.041118</td>\n",
              "    </tr>\n",
              "    <tr>\n",
              "      <th>CountyOfConviction</th>\n",
              "      <td>-0.090813</td>\n",
              "      <td>-0.029198</td>\n",
              "      <td>0.152668</td>\n",
              "      <td>-0.041118</td>\n",
              "      <td>1.000000</td>\n",
              "    </tr>\n",
              "  </tbody>\n",
              "</table>\n",
              "</div>"
            ],
            "text/plain": [
              "                    BlackVictim  HispanicVictim  WhiteVictim  \\\n",
              "BlackVictim            1.000000        0.041338    -0.338545   \n",
              "HispanicVictim         0.041338        1.000000     0.141841   \n",
              "WhiteVictim           -0.338545        0.141841     1.000000   \n",
              "VictimOtherRaces      -0.041596        0.017396    -0.124572   \n",
              "CountyOfConviction    -0.090813       -0.029198     0.152668   \n",
              "\n",
              "                    VictimOtherRaces  CountyOfConviction  \n",
              "BlackVictim                -0.041596           -0.090813  \n",
              "HispanicVictim              0.017396           -0.029198  \n",
              "WhiteVictim                -0.124572            0.152668  \n",
              "VictimOtherRaces            1.000000           -0.041118  \n",
              "CountyOfConviction         -0.041118            1.000000  "
            ]
          },
          "metadata": {
            "tags": []
          },
          "execution_count": 15
        }
      ]
    },
    {
      "cell_type": "code",
      "metadata": {
        "id": "wL4bkiXSDPPx",
        "colab_type": "code",
        "outputId": "338bcd19-7178-4ebf-e477-f8e6080350eb",
        "colab": {}
      },
      "source": [
        "plt.figure(figsize=(12,8))\n",
        "sns.heatmap(dfTemporary.apply(lambda x: x.factorize()[0]).corr(), linewidths=2, annot=True)\n",
        "plt.show()"
      ],
      "execution_count": 0,
      "outputs": [
        {
          "output_type": "display_data",
          "data": {
            "image/png": "[encoded data removed]",
            "text/plain": [
              "<Figure size 864x576 with 2 Axes>"
            ]
          },
          "metadata": {
            "tags": [],
            "needs_background": "light"
          }
        }
      ]
    },
    {
      "cell_type": "code",
      "metadata": {
        "id": "Vp1niD4RDPP1",
        "colab_type": "code",
        "colab": {}
      },
      "source": [
        "# Here, we tried to check whether there are areas where there is more validity against any race but we learn from the results that there is no such correlation."
      ],
      "execution_count": 0,
      "outputs": []
    },
    {
      "cell_type": "markdown",
      "metadata": {
        "id": "EzUrS4aYDPP6",
        "colab_type": "text"
      },
      "source": [
        "---------------------------------------------------------------------------------------------------------------------------"
      ]
    },
    {
      "cell_type": "markdown",
      "metadata": {
        "id": "IINIGHSoDPP7",
        "colab_type": "text"
      },
      "source": [
        "Part 3: Presenting graphs based on dataset basic details related to the offenders."
      ]
    },
    {
      "cell_type": "markdown",
      "metadata": {
        "id": "cSkYkJLBDPP9",
        "colab_type": "text"
      },
      "source": [
        "The \"previous crime\" column has binary values: 0 and 1 which represent whether the candidate for death committed any other crimes before the sentence."
      ]
    },
    {
      "cell_type": "code",
      "metadata": {
        "id": "uOP-g9nxDPP-",
        "colab_type": "code",
        "outputId": "8f430c37-1774-4ad5-aad4-cc309684ec18",
        "colab": {}
      },
      "source": [
        "# Show previous crime division\n",
        "plt.pie([len(df[df[\"PreviousCrime\"] == 1]), len(df[df[\"PreviousCrime\"] == 0])], explode=(0.1, 0), labels=[\"Committed a crime\", \"Didn't commit a crime\"], colors=['red', 'green'], autopct='%1.1f%%', shadow=True, startangle=140)\n",
        "plt.axis('equal')\n",
        "plt.show()"
      ],
      "execution_count": 0,
      "outputs": [
        {
          "output_type": "display_data",
          "data": {
            "image/png": "[encoded data removed]",
            "text/plain": [
              "<Figure size 432x288 with 1 Axes>"
            ]
          },
          "metadata": {
            "tags": []
          }
        }
      ]
    },
    {
      "cell_type": "markdown",
      "metadata": {
        "id": "UChjV6vNDPQD",
        "colab_type": "text"
      },
      "source": [
        "The results show that most of the candidates did commit past crimes, but the gaps are insignificant.\n",
        "In fact, for almost half of the offenders it was their first crime!"
      ]
    },
    {
      "cell_type": "markdown",
      "metadata": {
        "id": "kiYBCVELDPQE",
        "colab_type": "text"
      },
      "source": [
        "---------------------------------------------------------------------------------------------------------------------------"
      ]
    },
    {
      "cell_type": "markdown",
      "metadata": {
        "id": "V1doRdUODPQF",
        "colab_type": "text"
      },
      "source": [
        "Now we want to check positive and negative correlations between all columns with numerical values of our dataframe."
      ]
    },
    {
      "cell_type": "code",
      "metadata": {
        "id": "qBpch6HMDPQG",
        "colab_type": "code",
        "outputId": "9dc50ea8-02b8-40ae-f8a1-066e445b93af",
        "colab": {}
      },
      "source": [
        "#cheack if ther is a correlation between\n",
        "df_clean=df[['Age','AgeWhenReceived','EducationLevel','NativeCounty ','VictimGender',\"PreviousCrime\"]].copy()\n",
        "df_clean.corr()"
      ],
      "execution_count": 0,
      "outputs": [
        {
          "output_type": "execute_result",
          "data": {
            "text/html": [
              "<div>\n",
              "<style scoped>\n",
              "    .dataframe tbody tr th:only-of-type {\n",
              "        vertical-align: middle;\n",
              "    }\n",
              "\n",
              "    .dataframe tbody tr th {\n",
              "        vertical-align: top;\n",
              "    }\n",
              "\n",
              "    .dataframe thead th {\n",
              "        text-align: right;\n",
              "    }\n",
              "</style>\n",
              "<table border=\"1\" class=\"dataframe\">\n",
              "  <thead>\n",
              "    <tr style=\"text-align: right;\">\n",
              "      <th></th>\n",
              "      <th>Age</th>\n",
              "      <th>AgeWhenReceived</th>\n",
              "      <th>EducationLevel</th>\n",
              "      <th>NativeCounty</th>\n",
              "      <th>VictimGender</th>\n",
              "      <th>PreviousCrime</th>\n",
              "    </tr>\n",
              "  </thead>\n",
              "  <tbody>\n",
              "    <tr>\n",
              "      <th>Age</th>\n",
              "      <td>1.000000</td>\n",
              "      <td>0.836230</td>\n",
              "      <td>0.075638</td>\n",
              "      <td>0.024159</td>\n",
              "      <td>0.004202</td>\n",
              "      <td>0.202035</td>\n",
              "    </tr>\n",
              "    <tr>\n",
              "      <th>AgeWhenReceived</th>\n",
              "      <td>0.836230</td>\n",
              "      <td>1.000000</td>\n",
              "      <td>0.090370</td>\n",
              "      <td>-0.004025</td>\n",
              "      <td>-0.026233</td>\n",
              "      <td>0.203419</td>\n",
              "    </tr>\n",
              "    <tr>\n",
              "      <th>EducationLevel</th>\n",
              "      <td>0.075638</td>\n",
              "      <td>0.090370</td>\n",
              "      <td>1.000000</td>\n",
              "      <td>0.104407</td>\n",
              "      <td>-0.008521</td>\n",
              "      <td>-0.181684</td>\n",
              "    </tr>\n",
              "    <tr>\n",
              "      <th>NativeCounty</th>\n",
              "      <td>0.024159</td>\n",
              "      <td>-0.004025</td>\n",
              "      <td>0.104407</td>\n",
              "      <td>1.000000</td>\n",
              "      <td>-0.048771</td>\n",
              "      <td>-0.027215</td>\n",
              "    </tr>\n",
              "    <tr>\n",
              "      <th>VictimGender</th>\n",
              "      <td>0.004202</td>\n",
              "      <td>-0.026233</td>\n",
              "      <td>-0.008521</td>\n",
              "      <td>-0.048771</td>\n",
              "      <td>1.000000</td>\n",
              "      <td>0.026859</td>\n",
              "    </tr>\n",
              "    <tr>\n",
              "      <th>PreviousCrime</th>\n",
              "      <td>0.202035</td>\n",
              "      <td>0.203419</td>\n",
              "      <td>-0.181684</td>\n",
              "      <td>-0.027215</td>\n",
              "      <td>0.026859</td>\n",
              "      <td>1.000000</td>\n",
              "    </tr>\n",
              "  </tbody>\n",
              "</table>\n",
              "</div>"
            ],
            "text/plain": [
              "                      Age  AgeWhenReceived  EducationLevel  NativeCounty   \\\n",
              "Age              1.000000         0.836230        0.075638       0.024159   \n",
              "AgeWhenReceived  0.836230         1.000000        0.090370      -0.004025   \n",
              "EducationLevel   0.075638         0.090370        1.000000       0.104407   \n",
              "NativeCounty     0.024159        -0.004025        0.104407       1.000000   \n",
              "VictimGender     0.004202        -0.026233       -0.008521      -0.048771   \n",
              "PreviousCrime    0.202035         0.203419       -0.181684      -0.027215   \n",
              "\n",
              "                 VictimGender  PreviousCrime  \n",
              "Age                  0.004202       0.202035  \n",
              "AgeWhenReceived     -0.026233       0.203419  \n",
              "EducationLevel      -0.008521      -0.181684  \n",
              "NativeCounty        -0.048771      -0.027215  \n",
              "VictimGender         1.000000       0.026859  \n",
              "PreviousCrime        0.026859       1.000000  "
            ]
          },
          "metadata": {
            "tags": []
          },
          "execution_count": 7
        }
      ]
    },
    {
      "cell_type": "code",
      "metadata": {
        "id": "1zgT-zZkDPQN",
        "colab_type": "code",
        "outputId": "210b8343-f230-43da-d4c2-4d616d112edc",
        "colab": {}
      },
      "source": [
        "plt.figure(figsize=(12,8))\n",
        "sns.heatmap(df_clean.corr(), linewidths=2, annot=True)\n",
        "plt.show()"
      ],
      "execution_count": 0,
      "outputs": [
        {
          "output_type": "display_data",
          "data": {
            "image/png": "[encoded data removed]",
            "text/plain": [
              "<Figure size 864x576 with 2 Axes>"
            ]
          },
          "metadata": {
            "tags": [],
            "needs_background": "light"
          }
        }
      ]
    },
    {
      "cell_type": "markdown",
      "metadata": {
        "id": "L_O2cuoxDPQT",
        "colab_type": "text"
      },
      "source": [
        "Not suprisingly Age and AgeWhenReceived correlated with each other. But other features not saying much."
      ]
    },
    {
      "cell_type": "markdown",
      "metadata": {
        "id": "sQXSdrDEDPQU",
        "colab_type": "text"
      },
      "source": [
        "---------------------------------------------------------------------------------------------------------------------------"
      ]
    },
    {
      "cell_type": "markdown",
      "metadata": {
        "id": "Sy1qKfeXDPQW",
        "colab_type": "text"
      },
      "source": [
        "Now we will check if there is a correlation between education level and number of offenders by a  barplot graph."
      ]
    },
    {
      "cell_type": "code",
      "metadata": {
        "id": "rmp1Lu7HDPQX",
        "colab_type": "code",
        "outputId": "cb871676-3e1c-42a8-e0f9-972da18e75ba",
        "colab": {}
      },
      "source": [
        "educationList= sorted(list(zip(df.EducationLevel.value_counts().index, df.EducationLevel.value_counts().values)))\n",
        "eduYear, eduCount = zip(*educationList)\n",
        "eduYear, eduCount = list(eduYear), list(eduCount)\n",
        "\n",
        "plt.figure(figsize=(16,10))\n",
        "plt.xlabel(\"Education Level\")\n",
        "plt.ylabel(\"Number of Offenders\")\n",
        "plt.title(\"Number of Offenders According To Their Education Level\")\n",
        "sns.barplot(x=eduYear,y=eduCount)\n",
        "plt.show()"
      ],
      "execution_count": 0,
      "outputs": [
        {
          "output_type": "display_data",
          "data": {
            "image/png": "[encoded data removed]",
            "text/plain": [
              "<Figure size 1152x720 with 1 Axes>"
            ]
          },
          "metadata": {
            "tags": [],
            "needs_background": "light"
          }
        }
      ]
    },
    {
      "cell_type": "markdown",
      "metadata": {
        "id": "v-UBkYHIDPQc",
        "colab_type": "text"
      },
      "source": [
        "We expected to see a positive correlation between education level and number of offenders but we were surprised to see that this was not the case.\n",
        "We can see that most of the offenders were graduated from high school or they were high school drop out."
      ]
    },
    {
      "cell_type": "markdown",
      "metadata": {
        "id": "QSVDDkRHDPQd",
        "colab_type": "text"
      },
      "source": [
        "---------------------------------------------------------------------------------------------------------------------------"
      ]
    },
    {
      "cell_type": "markdown",
      "metadata": {
        "id": "Ep6E3VqZDPQe",
        "colab_type": "text"
      },
      "source": [
        "Now, we would like to present the age distribution and the average age of those sentenced to death."
      ]
    },
    {
      "cell_type": "code",
      "metadata": {
        "id": "lfRT3vXPDPQf",
        "colab_type": "code",
        "outputId": "80e93748-e611-4519-8f6e-45a516146bd7",
        "colab": {}
      },
      "source": [
        "# clean table from NULL values\n",
        "df.dropna(inplace=True)\n",
        "# parse age when recived values to integer\n",
        "df.AgeWhenReceived = df.AgeWhenReceived.astype(int)\n",
        "# Show ages when received division\n",
        "\n",
        "ax = df['AgeWhenReceived'].plot.hist(color = 'lightskyblue', edgecolor = 'black', title=\"Average age is 28.5\", bins = int(180/5))\n",
        "plt.xlabel(\"Ages\")\n",
        "plt.ylabel(\"Counter\")\n",
        "mean_val = df['AgeWhenReceived'].mean()\n",
        "ax.annotate('mean', xy=(mean_val, 0.008), xytext=(mean_val+10, 0.010),\n",
        "            arrowprops=dict(facecolor='black', shrink=0.05),\n",
        "            )\n",
        "plt.axvline(mean_val, linestyle='dashed', linewidth=2, color='black')\n",
        "plt.show(ax)"
      ],
      "execution_count": 0,
      "outputs": [
        {
          "output_type": "display_data",
          "data": {
            "image/png": "[encoded data removed]",
            "text/plain": [
              "<Figure size 432x288 with 1 Axes>"
            ]
          },
          "metadata": {
            "tags": [],
            "needs_background": "light"
          }
        }
      ]
    },
    {
      "cell_type": "markdown",
      "metadata": {
        "id": "upBKth0wDPQk",
        "colab_type": "text"
      },
      "source": [
        "---------------------------------------------------------------------------------------------------------------------------"
      ]
    },
    {
      "cell_type": "code",
      "metadata": {
        "id": "GK3xCQnxDPQl",
        "colab_type": "code",
        "colab": {}
      },
      "source": [
        "Part 4: Offenders against Victims"
      ],
      "execution_count": 0,
      "outputs": []
    },
    {
      "cell_type": "markdown",
      "metadata": {
        "id": "VetXXvdPDPQq",
        "colab_type": "text"
      },
      "source": [
        "Now, we would like to examine the correlation between the race of the offenders and the race of their victims, including the sex of their victims."
      ]
    },
    {
      "cell_type": "code",
      "metadata": {
        "id": "C5TV40VSDPQr",
        "colab_type": "code",
        "colab": {}
      },
      "source": [
        "# convert offenders race from string to binary true value to another new column in our dataframe\n",
        "black=[]\n",
        "white=[]\n",
        "hispanic=[]\n",
        "other=[]\n",
        "\n",
        "for i in df[\"Race\"]:\n",
        "    if i==\"Hispanic\":\n",
        "        hispanic.append(1)\n",
        "        white.append(0)\n",
        "        black.append(0)\n",
        "        other.append(0)\n",
        "    elif i==\"White\":\n",
        "        hispanic.append(0)\n",
        "        white.append(1)\n",
        "        black.append(0)\n",
        "        other.append(0)\n",
        "    elif i==\"Black\":\n",
        "        hispanic.append(0)\n",
        "        white.append(0)\n",
        "        black.append(1)\n",
        "        other.append(0)\n",
        "    else: \n",
        "        hispanic.append(0)\n",
        "        white.append(0)\n",
        "        black.append(0)\n",
        "        other.append(1)\n",
        "        \n",
        "df['blackRace'] = black\n",
        "df['whiteRace'] = white\n",
        "df['hispanicRace'] = hispanic\n",
        "df['otherRace'] = other"
      ],
      "execution_count": 0,
      "outputs": []
    },
    {
      "cell_type": "code",
      "metadata": {
        "id": "GUvjlKC8DPQw",
        "colab_type": "code",
        "outputId": "20e3fb63-d462-4463-9069-2e22ff61f3aa",
        "colab": {}
      },
      "source": [
        "df_clean=df[[\"blackRace\", \"BlackVictim\", \"HispanicVictim\",'hispanicRace', \"WhiteVictim\",'whiteRace',\"VictimOtherRaces\",'otherRace', \"FemaleVictim\", \"MaleVictim\"]].copy()\n",
        "df_clean.corr()"
      ],
      "execution_count": 0,
      "outputs": [
        {
          "output_type": "execute_result",
          "data": {
            "text/html": [
              "<div>\n",
              "<style scoped>\n",
              "    .dataframe tbody tr th:only-of-type {\n",
              "        vertical-align: middle;\n",
              "    }\n",
              "\n",
              "    .dataframe tbody tr th {\n",
              "        vertical-align: top;\n",
              "    }\n",
              "\n",
              "    .dataframe thead th {\n",
              "        text-align: right;\n",
              "    }\n",
              "</style>\n",
              "<table border=\"1\" class=\"dataframe\">\n",
              "  <thead>\n",
              "    <tr style=\"text-align: right;\">\n",
              "      <th></th>\n",
              "      <th>blackRace</th>\n",
              "      <th>BlackVictim</th>\n",
              "      <th>HispanicVictim</th>\n",
              "      <th>hispanicRace</th>\n",
              "      <th>WhiteVictim</th>\n",
              "      <th>whiteRace</th>\n",
              "      <th>VictimOtherRaces</th>\n",
              "      <th>otherRace</th>\n",
              "      <th>FemaleVictim</th>\n",
              "      <th>MaleVictim</th>\n",
              "    </tr>\n",
              "  </thead>\n",
              "  <tbody>\n",
              "    <tr>\n",
              "      <th>blackRace</th>\n",
              "      <td>1.000000</td>\n",
              "      <td>0.404237</td>\n",
              "      <td>-0.084490</td>\n",
              "      <td>-0.347850</td>\n",
              "      <td>-0.236750</td>\n",
              "      <td>-0.671464</td>\n",
              "      <td>0.092384</td>\n",
              "      <td>-0.036676</td>\n",
              "      <td>-0.061249</td>\n",
              "      <td>0.117150</td>\n",
              "    </tr>\n",
              "    <tr>\n",
              "      <th>BlackVictim</th>\n",
              "      <td>0.404237</td>\n",
              "      <td>1.000000</td>\n",
              "      <td>-0.129921</td>\n",
              "      <td>-0.140815</td>\n",
              "      <td>-0.347419</td>\n",
              "      <td>-0.271050</td>\n",
              "      <td>-0.040300</td>\n",
              "      <td>-0.016996</td>\n",
              "      <td>0.262280</td>\n",
              "      <td>0.089854</td>\n",
              "    </tr>\n",
              "    <tr>\n",
              "      <th>HispanicVictim</th>\n",
              "      <td>-0.084490</td>\n",
              "      <td>-0.129921</td>\n",
              "      <td>1.000000</td>\n",
              "      <td>0.461541</td>\n",
              "      <td>-0.396196</td>\n",
              "      <td>-0.281001</td>\n",
              "      <td>-0.049874</td>\n",
              "      <td>-0.021033</td>\n",
              "      <td>-0.008281</td>\n",
              "      <td>0.243309</td>\n",
              "    </tr>\n",
              "    <tr>\n",
              "      <th>hispanicRace</th>\n",
              "      <td>-0.347850</td>\n",
              "      <td>-0.140815</td>\n",
              "      <td>0.461541</td>\n",
              "      <td>1.000000</td>\n",
              "      <td>-0.244051</td>\n",
              "      <td>-0.454561</td>\n",
              "      <td>-0.058873</td>\n",
              "      <td>-0.024828</td>\n",
              "      <td>-0.002732</td>\n",
              "      <td>-0.042463</td>\n",
              "    </tr>\n",
              "    <tr>\n",
              "      <th>WhiteVictim</th>\n",
              "      <td>-0.236750</td>\n",
              "      <td>-0.347419</td>\n",
              "      <td>-0.396196</td>\n",
              "      <td>-0.244051</td>\n",
              "      <td>1.000000</td>\n",
              "      <td>0.422510</td>\n",
              "      <td>-0.132099</td>\n",
              "      <td>-0.055710</td>\n",
              "      <td>0.316452</td>\n",
              "      <td>0.150842</td>\n",
              "    </tr>\n",
              "    <tr>\n",
              "      <th>whiteRace</th>\n",
              "      <td>-0.671464</td>\n",
              "      <td>-0.271050</td>\n",
              "      <td>-0.281001</td>\n",
              "      <td>-0.454561</td>\n",
              "      <td>0.422510</td>\n",
              "      <td>1.000000</td>\n",
              "      <td>-0.089328</td>\n",
              "      <td>-0.047927</td>\n",
              "      <td>0.064934</td>\n",
              "      <td>-0.087039</td>\n",
              "    </tr>\n",
              "    <tr>\n",
              "      <th>VictimOtherRaces</th>\n",
              "      <td>0.092384</td>\n",
              "      <td>-0.040300</td>\n",
              "      <td>-0.049874</td>\n",
              "      <td>-0.058873</td>\n",
              "      <td>-0.132099</td>\n",
              "      <td>-0.089328</td>\n",
              "      <td>1.000000</td>\n",
              "      <td>0.469275</td>\n",
              "      <td>0.001676</td>\n",
              "      <td>0.063835</td>\n",
              "    </tr>\n",
              "    <tr>\n",
              "      <th>otherRace</th>\n",
              "      <td>-0.036676</td>\n",
              "      <td>-0.016996</td>\n",
              "      <td>-0.021033</td>\n",
              "      <td>-0.024828</td>\n",
              "      <td>-0.055710</td>\n",
              "      <td>-0.047927</td>\n",
              "      <td>0.469275</td>\n",
              "      <td>1.000000</td>\n",
              "      <td>-0.045508</td>\n",
              "      <td>0.090787</td>\n",
              "    </tr>\n",
              "    <tr>\n",
              "      <th>FemaleVictim</th>\n",
              "      <td>-0.061249</td>\n",
              "      <td>0.262280</td>\n",
              "      <td>-0.008281</td>\n",
              "      <td>-0.002732</td>\n",
              "      <td>0.316452</td>\n",
              "      <td>0.064934</td>\n",
              "      <td>0.001676</td>\n",
              "      <td>-0.045508</td>\n",
              "      <td>1.000000</td>\n",
              "      <td>-0.473090</td>\n",
              "    </tr>\n",
              "    <tr>\n",
              "      <th>MaleVictim</th>\n",
              "      <td>0.117150</td>\n",
              "      <td>0.089854</td>\n",
              "      <td>0.243309</td>\n",
              "      <td>-0.042463</td>\n",
              "      <td>0.150842</td>\n",
              "      <td>-0.087039</td>\n",
              "      <td>0.063835</td>\n",
              "      <td>0.090787</td>\n",
              "      <td>-0.473090</td>\n",
              "      <td>1.000000</td>\n",
              "    </tr>\n",
              "  </tbody>\n",
              "</table>\n",
              "</div>"
            ],
            "text/plain": [
              "                  blackRace  BlackVictim  HispanicVictim  hispanicRace  \\\n",
              "blackRace          1.000000     0.404237       -0.084490     -0.347850   \n",
              "BlackVictim        0.404237     1.000000       -0.129921     -0.140815   \n",
              "HispanicVictim    -0.084490    -0.129921        1.000000      0.461541   \n",
              "hispanicRace      -0.347850    -0.140815        0.461541      1.000000   \n",
              "WhiteVictim       -0.236750    -0.347419       -0.396196     -0.244051   \n",
              "whiteRace         -0.671464    -0.271050       -0.281001     -0.454561   \n",
              "VictimOtherRaces   0.092384    -0.040300       -0.049874     -0.058873   \n",
              "otherRace         -0.036676    -0.016996       -0.021033     -0.024828   \n",
              "FemaleVictim      -0.061249     0.262280       -0.008281     -0.002732   \n",
              "MaleVictim         0.117150     0.089854        0.243309     -0.042463   \n",
              "\n",
              "                  WhiteVictim  whiteRace  VictimOtherRaces  otherRace  \\\n",
              "blackRace           -0.236750  -0.671464          0.092384  -0.036676   \n",
              "BlackVictim         -0.347419  -0.271050         -0.040300  -0.016996   \n",
              "HispanicVictim      -0.396196  -0.281001         -0.049874  -0.021033   \n",
              "hispanicRace        -0.244051  -0.454561         -0.058873  -0.024828   \n",
              "WhiteVictim          1.000000   0.422510         -0.132099  -0.055710   \n",
              "whiteRace            0.422510   1.000000         -0.089328  -0.047927   \n",
              "VictimOtherRaces    -0.132099  -0.089328          1.000000   0.469275   \n",
              "otherRace           -0.055710  -0.047927          0.469275   1.000000   \n",
              "FemaleVictim         0.316452   0.064934          0.001676  -0.045508   \n",
              "MaleVictim           0.150842  -0.087039          0.063835   0.090787   \n",
              "\n",
              "                  FemaleVictim  MaleVictim  \n",
              "blackRace            -0.061249    0.117150  \n",
              "BlackVictim           0.262280    0.089854  \n",
              "HispanicVictim       -0.008281    0.243309  \n",
              "hispanicRace         -0.002732   -0.042463  \n",
              "WhiteVictim           0.316452    0.150842  \n",
              "whiteRace             0.064934   -0.087039  \n",
              "VictimOtherRaces      0.001676    0.063835  \n",
              "otherRace            -0.045508    0.090787  \n",
              "FemaleVictim          1.000000   -0.473090  \n",
              "MaleVictim           -0.473090    1.000000  "
            ]
          },
          "metadata": {
            "tags": []
          },
          "execution_count": 12
        }
      ]
    },
    {
      "cell_type": "code",
      "metadata": {
        "id": "THBv94lZDPQ3",
        "colab_type": "code",
        "outputId": "1568fe97-cd38-4085-94f0-e6f0bcfb2410",
        "colab": {}
      },
      "source": [
        "import statsmodels.formula.api as sm\n",
        "from pandas.plotting import scatter_matrix\n",
        "import seaborn as sns\n",
        "corr = df_clean.corr()\n",
        "plt.figure(figsize=(10, 10))\n",
        "sns.heatmap(data=corr,vmin=-1 ,vmax=1, center=0 , annot=True, linewidths=0.2, cbar=True )"
      ],
      "execution_count": 0,
      "outputs": [
        {
          "output_type": "execute_result",
          "data": {
            "text/plain": [
              "<matplotlib.axes._subplots.AxesSubplot at 0xcf80128>"
            ]
          },
          "metadata": {
            "tags": []
          },
          "execution_count": 13
        },
        {
          "output_type": "display_data",
          "data": {
            "image/png": "[encoded data removed]",
            "text/plain": [
              "<Figure size 720x720 with 2 Axes>"
            ]
          },
          "metadata": {
            "tags": [],
            "needs_background": "light"
          }
        }
      ]
    },
    {
      "cell_type": "code",
      "metadata": {
        "id": "mjkv3nyIDPQ8",
        "colab_type": "code",
        "outputId": "9e4c48de-b688-4e4a-d634-82fbaa57fe5f",
        "colab": {}
      },
      "source": [
        "# scatter plot matrix \n",
        "corr = df_clean.corr()\n",
        "s = scatter_matrix(corr , diagonal=\"kde\", alpha = 0.9, figsize=(15, 15))"
      ],
      "execution_count": 0,
      "outputs": [
        {
          "output_type": "display_data",
          "data": {
            "image/png": "[encoded data removed]",
            "text/plain": [
              "<Figure size 1080x1080 with 100 Axes>"
            ]
          },
          "metadata": {
            "tags": [],
            "needs_background": "light"
          }
        }
      ]
    },
    {
      "cell_type": "markdown",
      "metadata": {
        "id": "vc3z8HddDPRB",
        "colab_type": "text"
      },
      "source": [
        "It can be seen that there is a positive correlation between the candidate's race and the victim's race.\n",
        "there is also a negative correlation between the offender's race and the gender of the victim."
      ]
    },
    {
      "cell_type": "markdown",
      "metadata": {
        "id": "YPjrxs-ADPRB",
        "colab_type": "text"
      },
      "source": [
        "---------------------------------------------------------------------------------------------------------------------------"
      ]
    },
    {
      "cell_type": "code",
      "metadata": {
        "id": "2fvQ4h6nDPRC",
        "colab_type": "code",
        "colab": {}
      },
      "source": [
        "Part 5: Algorithms "
      ],
      "execution_count": 0,
      "outputs": []
    },
    {
      "cell_type": "markdown",
      "metadata": {
        "id": "kiWkjBXBDPRG",
        "colab_type": "text"
      },
      "source": [
        "In this part of the project we will examine, according to all the algorithms we have learned in the lectures, whether the various characteristics are interdependent."
      ]
    },
    {
      "cell_type": "code",
      "metadata": {
        "id": "kUXGPkCcDPRH",
        "colab_type": "code",
        "colab": {}
      },
      "source": [
        "from sklearn.model_selection import train_test_split\n",
        "\n",
        "df_clean=df[['Codefendants','NumberVictim','EducationLevel','AgeWhenReceived',\"CountyOfConviction\"]]\n",
        "df_clean = df_clean.dropna()\n",
        "\n",
        "training_list = ['AgeWhenReceived','NumberVictim',\"EducationLevel\" ,\"Codefendants\"]\n",
        "training = df_clean[training_list]\n",
        "target = df_clean['CountyOfConviction']\n",
        "\n",
        "X = training.values\n",
        "Y = target.values\n",
        "\n",
        "X_train, X_test, Y_train, Y_test = train_test_split(\n",
        "X, Y, test_size=0.33, random_state=42)"
      ],
      "execution_count": 0,
      "outputs": []
    },
    {
      "cell_type": "code",
      "metadata": {
        "id": "_d_xLVdsDPRK",
        "colab_type": "code",
        "colab": {}
      },
      "source": [
        "from sklearn.linear_model import LogisticRegression\n",
        "from sklearn.svm import SVC, LinearSVC\n",
        "from sklearn.ensemble import RandomForestClassifier\n",
        "from sklearn.neighbors import KNeighborsClassifier\n",
        "from sklearn.naive_bayes import GaussianNB\n",
        "from sklearn.linear_model import Perceptron\n",
        "from sklearn.linear_model import SGDClassifier\n",
        "from sklearn.tree import DecisionTreeClassifier"
      ],
      "execution_count": 0,
      "outputs": []
    },
    {
      "cell_type": "code",
      "metadata": {
        "id": "vujLawz0DPRO",
        "colab_type": "code",
        "colab": {}
      },
      "source": [
        "#y_test are continuous variables\n",
        "from sklearn import preprocessing\n",
        "from sklearn import utils\n",
        "\n",
        "lab_enc = preprocessing.LabelEncoder()\n",
        "encoded = lab_enc.fit_transform(Y_train)"
      ],
      "execution_count": 0,
      "outputs": []
    },
    {
      "cell_type": "code",
      "metadata": {
        "id": "y86ESdjUDPRQ",
        "colab_type": "code",
        "outputId": "2c483d06-1742-4e3d-8884-92dda0eab7a8",
        "colab": {}
      },
      "source": [
        "X_train.shape, Y_train.shape, X_test.shape, Y_test.shape, encoded.shape"
      ],
      "execution_count": 0,
      "outputs": [
        {
          "output_type": "execute_result",
          "data": {
            "text/plain": [
              "((322, 4), (322,), (160, 4), (160,), (322,))"
            ]
          },
          "metadata": {
            "tags": []
          },
          "execution_count": 21
        }
      ]
    },
    {
      "cell_type": "code",
      "metadata": {
        "id": "qi82MCDGDPRT",
        "colab_type": "code",
        "outputId": "bc1b9306-fcb0-445f-b32e-693cee679207",
        "colab": {}
      },
      "source": [
        "#Logistic regression\n",
        "\n",
        "logreg = LogisticRegression()\n",
        "logreg.fit(X_train, encoded)\n",
        "Y_pred = logreg.predict(X_test)\n",
        "acc_log = round(logreg.score(X_train, encoded) * 100, 2)\n",
        "print('logistic regression:', acc_log)\n",
        "\n",
        "#SVM\n",
        "svc = SVC()\n",
        "svc.fit(X_train, encoded)\n",
        "Y_pred = svc.predict(X_test)\n",
        "acc_svc = round(svc.score(X_train, encoded)*100,2)\n",
        "print('Support Vector Machine:', acc_svc)\n",
        "\n",
        "#Knearestneighbors\n",
        "\n",
        "knn = KNeighborsClassifier(n_neighbors = 4)\n",
        "knn.fit(X_train, encoded)\n",
        "Y_pred = knn.predict(X_test)\n",
        "acc_knn = round(knn.score(X_train, encoded) * 100, 2)\n",
        "print('KNN:', acc_knn)\n",
        "\n",
        "# Gaussian Naive Bayes\n",
        "\n",
        "gaussian = GaussianNB()\n",
        "gaussian.fit(X_train, encoded)\n",
        "Y_pred = gaussian.predict(X_test)\n",
        "acc_gaussian = round(gaussian.score(X_train, encoded) * 100, 2)\n",
        "print('Gaussian Naive Bayes:', acc_gaussian)\n",
        "\n",
        "# Perceptron\n",
        "\n",
        "perceptron = Perceptron()\n",
        "perceptron.fit(X_train, encoded)\n",
        "Y_pred = perceptron.predict(X_test)\n",
        "acc_perceptron = round(perceptron.score(X_train, encoded) * 100, 2)\n",
        "print('Perceptron:', acc_perceptron)\n",
        "\n",
        "# Linear SVC\n",
        "\n",
        "linear_svc = LinearSVC()\n",
        "linear_svc.fit(X_train, encoded)\n",
        "Y_pred = linear_svc.predict(X_test)\n",
        "acc_linear_svc = round(linear_svc.score(X_train, encoded) * 100, 2)\n",
        "print('linear SVC:', acc_linear_svc)\n",
        "\n",
        "# Stochastic Gradient Descent\n",
        "\n",
        "sgd = SGDClassifier()\n",
        "sgd.fit(X_train, encoded)\n",
        "Y_pred = sgd.predict(X_test)\n",
        "acc_sgd = round(sgd.score(X_train, encoded) * 100, 2)\n",
        "print('Stochastic Gradient Descent:', acc_sgd)\n",
        "\n",
        "\n",
        "# Decision Tree\n",
        "\n",
        "decision_tree = DecisionTreeClassifier()\n",
        "decision_tree.fit(X_train, encoded)\n",
        "Y_pred = decision_tree.predict(X_test)\n",
        "acc_decision_tree = round(decision_tree.score(X_train, encoded) * 100, 2)\n",
        "print(\"Decision Tree:\", acc_decision_tree)\n",
        "\n",
        "# Random Forest\n",
        "\n",
        "random_forest = RandomForestClassifier(n_estimators=100)\n",
        "random_forest.fit(X_train, encoded)\n",
        "Y_pred = random_forest.predict(X_test)\n",
        "random_forest.score(X_train, encoded)\n",
        "acc_random_forest = round(random_forest.score(X_train, encoded) * 100, 2)\n",
        "print(\"Random forest:\", acc_random_forest)"
      ],
      "execution_count": 0,
      "outputs": [
        {
          "output_type": "stream",
          "text": [
            "C:\\Users\\user\\Anaconda3\\lib\\site-packages\\sklearn\\linear_model\\logistic.py:433: FutureWarning: Default solver will be changed to 'lbfgs' in 0.22. Specify a solver to silence this warning.\n",
            "  FutureWarning)\n",
            "C:\\Users\\user\\Anaconda3\\lib\\site-packages\\sklearn\\linear_model\\logistic.py:460: FutureWarning: Default multi_class will be changed to 'auto' in 0.22. Specify the multi_class option to silence this warning.\n",
            "  \"this warning.\", FutureWarning)\n"
          ],
          "name": "stderr"
        },
        {
          "output_type": "stream",
          "text": [
            "logistic regression: 23.6\n",
            "Support Vector Machine: 40.06\n",
            "KNN: 37.58\n",
            "Gaussian Naive Bayes: 23.6\n"
          ],
          "name": "stdout"
        },
        {
          "output_type": "stream",
          "text": [
            "C:\\Users\\user\\Anaconda3\\lib\\site-packages\\sklearn\\svm\\base.py:196: FutureWarning: The default value of gamma will change from 'auto' to 'scale' in version 0.22 to account better for unscaled features. Set gamma explicitly to 'auto' or 'scale' to avoid this warning.\n",
            "  \"avoid this warning.\", FutureWarning)\n",
            "C:\\Users\\user\\Anaconda3\\lib\\site-packages\\sklearn\\linear_model\\stochastic_gradient.py:166: FutureWarning: max_iter and tol parameters have been added in Perceptron in 0.19. If both are left unset, they default to max_iter=5 and tol=None. If tol is not None, max_iter defaults to max_iter=1000. From 0.21, default max_iter will be 1000, and default tol will be 1e-3.\n",
            "  FutureWarning)\n"
          ],
          "name": "stderr"
        },
        {
          "output_type": "stream",
          "text": [
            "Perceptron: 1.24\n"
          ],
          "name": "stdout"
        },
        {
          "output_type": "stream",
          "text": [
            "C:\\Users\\user\\Anaconda3\\lib\\site-packages\\sklearn\\svm\\base.py:922: ConvergenceWarning: Liblinear failed to converge, increase the number of iterations.\n",
            "  \"the number of iterations.\", ConvergenceWarning)\n",
            "C:\\Users\\user\\Anaconda3\\lib\\site-packages\\sklearn\\linear_model\\stochastic_gradient.py:166: FutureWarning: max_iter and tol parameters have been added in SGDClassifier in 0.19. If both are left unset, they default to max_iter=5 and tol=None. If tol is not None, max_iter defaults to max_iter=1000. From 0.21, default max_iter will be 1000, and default tol will be 1e-3.\n",
            "  FutureWarning)\n"
          ],
          "name": "stderr"
        },
        {
          "output_type": "stream",
          "text": [
            "linear SVC: 20.19\n",
            "Stochastic Gradient Descent: 1.55\n",
            "Decision Tree: 84.47\n",
            "Random forest: 84.47\n"
          ],
          "name": "stdout"
        }
      ]
    },
    {
      "cell_type": "code",
      "metadata": {
        "id": "l64QcZDLDPRW",
        "colab_type": "code",
        "outputId": "2d92c4ed-5e14-49d0-ed49-44a5b8b09162",
        "colab": {}
      },
      "source": [
        "models = pd.DataFrame({\n",
        "    'Model': ['Support Vector Machines', 'KNN', 'Logistic Regression', \n",
        "              'Random Forest', 'Naive Bayes', 'Perceptron', \n",
        "              'Stochastic Gradient Decent', 'Linear SVC', \n",
        "              'Decision Tree'],\n",
        "    'Score': [acc_svc, acc_knn, acc_log, \n",
        "              acc_random_forest, acc_gaussian, acc_perceptron, \n",
        "              acc_sgd, acc_linear_svc, acc_decision_tree]})\n",
        "models.sort_values(by='Score', ascending=False)"
      ],
      "execution_count": 0,
      "outputs": [
        {
          "output_type": "execute_result",
          "data": {
            "text/html": [
              "<div>\n",
              "<style scoped>\n",
              "    .dataframe tbody tr th:only-of-type {\n",
              "        vertical-align: middle;\n",
              "    }\n",
              "\n",
              "    .dataframe tbody tr th {\n",
              "        vertical-align: top;\n",
              "    }\n",
              "\n",
              "    .dataframe thead th {\n",
              "        text-align: right;\n",
              "    }\n",
              "</style>\n",
              "<table border=\"1\" class=\"dataframe\">\n",
              "  <thead>\n",
              "    <tr style=\"text-align: right;\">\n",
              "      <th></th>\n",
              "      <th>Model</th>\n",
              "      <th>Score</th>\n",
              "    </tr>\n",
              "  </thead>\n",
              "  <tbody>\n",
              "    <tr>\n",
              "      <th>3</th>\n",
              "      <td>Random Forest</td>\n",
              "      <td>84.47</td>\n",
              "    </tr>\n",
              "    <tr>\n",
              "      <th>8</th>\n",
              "      <td>Decision Tree</td>\n",
              "      <td>84.47</td>\n",
              "    </tr>\n",
              "    <tr>\n",
              "      <th>0</th>\n",
              "      <td>Support Vector Machines</td>\n",
              "      <td>40.06</td>\n",
              "    </tr>\n",
              "    <tr>\n",
              "      <th>1</th>\n",
              "      <td>KNN</td>\n",
              "      <td>37.58</td>\n",
              "    </tr>\n",
              "    <tr>\n",
              "      <th>2</th>\n",
              "      <td>Logistic Regression</td>\n",
              "      <td>23.60</td>\n",
              "    </tr>\n",
              "    <tr>\n",
              "      <th>4</th>\n",
              "      <td>Naive Bayes</td>\n",
              "      <td>23.60</td>\n",
              "    </tr>\n",
              "    <tr>\n",
              "      <th>7</th>\n",
              "      <td>Linear SVC</td>\n",
              "      <td>20.19</td>\n",
              "    </tr>\n",
              "    <tr>\n",
              "      <th>6</th>\n",
              "      <td>Stochastic Gradient Decent</td>\n",
              "      <td>1.55</td>\n",
              "    </tr>\n",
              "    <tr>\n",
              "      <th>5</th>\n",
              "      <td>Perceptron</td>\n",
              "      <td>1.24</td>\n",
              "    </tr>\n",
              "  </tbody>\n",
              "</table>\n",
              "</div>"
            ],
            "text/plain": [
              "                        Model  Score\n",
              "3               Random Forest  84.47\n",
              "8               Decision Tree  84.47\n",
              "0     Support Vector Machines  40.06\n",
              "1                         KNN  37.58\n",
              "2         Logistic Regression  23.60\n",
              "4                 Naive Bayes  23.60\n",
              "7                  Linear SVC  20.19\n",
              "6  Stochastic Gradient Decent   1.55\n",
              "5                  Perceptron   1.24"
            ]
          },
          "metadata": {
            "tags": []
          },
          "execution_count": 23
        }
      ]
    },
    {
      "cell_type": "markdown",
      "metadata": {
        "id": "9VUfml5EDPRY",
        "colab_type": "text"
      },
      "source": [
        "--------------------------------------------------------------------------------------------------------------------------"
      ]
    },
    {
      "cell_type": "markdown",
      "metadata": {
        "id": "1IBaJ1wpDPRZ",
        "colab_type": "text"
      },
      "source": [
        "Now we will compare linear regression with Random Forest Regressor on: \"NumberVictim\", \"Codefendants\", \"AgeWhenReceived\" to predict education level."
      ]
    },
    {
      "cell_type": "code",
      "metadata": {
        "id": "gzo2XhsDDPRZ",
        "colab_type": "code",
        "colab": {}
      },
      "source": [
        "training_list = [\"NumberVictim\" ,\"Codefendants\",\"AgeWhenReceived\"]\n",
        "training = df_clean[training_list]\n",
        "target = df_clean[\"EducationLevel\"]\n",
        "\n",
        "X = training.values\n",
        "y = target.values\n",
        "\n",
        "X_train, X_test, y_train, y_test = train_test_split(\n",
        "    X, y, test_size=0.33, random_state=42)"
      ],
      "execution_count": 0,
      "outputs": []
    },
    {
      "cell_type": "code",
      "metadata": {
        "id": "iIFpgqKNDPRd",
        "colab_type": "code",
        "colab": {}
      },
      "source": [
        "from sklearn import linear_model\n",
        "from sklearn.model_selection import train_test_split\n",
        "# Create linear regression object\n",
        "regr = linear_model.LinearRegression()\n",
        "\n",
        "# Train the model using the training sets\n",
        "regr.fit(X_train, y_train)\n",
        "\n",
        "# Make predictions using the testing set\n",
        "y_pred_lr = regr.predict(X_test)"
      ],
      "execution_count": 0,
      "outputs": []
    },
    {
      "cell_type": "code",
      "metadata": {
        "id": "boiy0onFDPRg",
        "colab_type": "code",
        "outputId": "6490e5f3-c529-45df-c5e6-49c60f66154e",
        "colab": {}
      },
      "source": [
        "f = plt.figure(figsize=(10,5))\n",
        "plt.scatter(X_test[:,1], y_test, s=50,label=\"Real education level\");\n",
        "plt.scatter(X_test[:,1], y_pred_lr,s=100, c='r',label=\"Predicted education level\");\n",
        "plt.ylabel(\"education level\");\n",
        "plt.legend(loc=2);"
      ],
      "execution_count": 0,
      "outputs": [
        {
          "output_type": "display_data",
          "data": {
            "image/png": "[encoded data removed]",
            "text/plain": [
              "<Figure size 720x360 with 1 Axes>"
            ]
          },
          "metadata": {
            "tags": [],
            "needs_background": "light"
          }
        }
      ]
    },
    {
      "cell_type": "code",
      "metadata": {
        "id": "aP9bWzfjDPRj",
        "colab_type": "code",
        "colab": {}
      },
      "source": [
        "from sklearn.ensemble import RandomForestRegressor\n",
        "# Create linear regression object\n",
        "rf = RandomForestRegressor(1)\n",
        "\n",
        "# Train the model using the training sets\n",
        "rf.fit(X_train, y_train)\n",
        "\n",
        "# Make predictions using the testing set\n",
        "y_pred_rf = rf.predict(X_test)"
      ],
      "execution_count": 0,
      "outputs": []
    },
    {
      "cell_type": "code",
      "metadata": {
        "id": "hgyS6CMeDPRm",
        "colab_type": "code",
        "outputId": "8fed8409-cdc0-424e-e0bd-eb46239b5d13",
        "colab": {}
      },
      "source": [
        "f = plt.figure(figsize=(10,5))\n",
        "plt.scatter(X_test[:,1], y_test, s=50,label=\"Real education level\");\n",
        "plt.scatter(X_test[:,1], y_pred_rf,s=100, c='r',label=\"Predited education level\");\n",
        "plt.ylabel(\"education level\");\n",
        "plt.legend(loc=2);"
      ],
      "execution_count": 0,
      "outputs": [
        {
          "output_type": "display_data",
          "data": {
            "image/png": "[encoded data removed]",
            "text/plain": [
              "<Figure size 720x360 with 1 Axes>"
            ]
          },
          "metadata": {
            "tags": [],
            "needs_background": "light"
          }
        }
      ]
    },
    {
      "cell_type": "code",
      "metadata": {
        "id": "gBLiXVaBDPRp",
        "colab_type": "code",
        "outputId": "1c5b0ade-42ec-4878-f2d7-38e77a4e9211",
        "colab": {}
      },
      "source": [
        "# compare the results:\n",
        "from sklearn.metrics import mean_squared_error\n",
        "\n",
        "error_lr = mean_squared_error(y_test,y_pred_lr)\n",
        "error_rf = mean_squared_error(y_test,y_pred_rf)\n",
        "\n",
        "print(error_lr)\n",
        "print(error_rf)"
      ],
      "execution_count": 0,
      "outputs": [
        {
          "output_type": "stream",
          "text": [
            "4.822246435701331\n",
            "8.5334670030628\n"
          ],
          "name": "stdout"
        }
      ]
    },
    {
      "cell_type": "code",
      "metadata": {
        "id": "VxUE6oUdDPRr",
        "colab_type": "code",
        "outputId": "d25cbe95-0e66-481c-b1cb-159012c647bc",
        "colab": {}
      },
      "source": [
        "f = plt.figure(figsize=(10,5))\n",
        "error = [error_lr,error_rf]\n",
        "plt.bar(range(2), [error_lr,error_rf], yerr=np.std(error))\n",
        "plt.xlabel(\"Classifiers\");\n",
        "plt.ylabel(\"Mean Squared Error of the education level\");\n",
        "plt.xticks(range(2),['Linear Regression','Random Forest'])\n",
        "plt.legend(loc=2);\n"
      ],
      "execution_count": 0,
      "outputs": [
        {
          "output_type": "stream",
          "text": [
            "No handles with labels found to put in legend.\n"
          ],
          "name": "stderr"
        },
        {
          "output_type": "display_data",
          "data": {
            "image/png": "[encoded data removed]",
            "text/plain": [
              "<Figure size 720x360 with 1 Axes>"
            ]
          },
          "metadata": {
            "tags": [],
            "needs_background": "light"
          }
        }
      ]
    },
    {
      "cell_type": "code",
      "metadata": {
        "id": "ooFJ8yCADPRt",
        "colab_type": "code",
        "outputId": "7ec83b0c-f9fb-4976-959c-a46db008eaf4",
        "colab": {}
      },
      "source": [
        "np.std(error_rf)"
      ],
      "execution_count": 0,
      "outputs": [
        {
          "output_type": "execute_result",
          "data": {
            "text/plain": [
              "0.0"
            ]
          },
          "metadata": {
            "tags": []
          },
          "execution_count": 92
        }
      ]
    },
    {
      "cell_type": "markdown",
      "metadata": {
        "id": "WpbtHnzGDPRy",
        "colab_type": "text"
      },
      "source": [
        "So the mean squared error for the random forest regression is twice higher than for the linear regression, but both estimators seem to be very decent."
      ]
    },
    {
      "cell_type": "markdown",
      "metadata": {
        "id": "VDcPZTQBDPRy",
        "colab_type": "text"
      },
      "source": [
        "---------------------------------------------------------------------------------------------------------------------------"
      ]
    },
    {
      "cell_type": "markdown",
      "metadata": {
        "id": "pjqhfooADPRy",
        "colab_type": "text"
      },
      "source": [
        "Now we will deal with clustering.\n",
        "we want to cluster the cities of Texas By 'Codefendants' , 'NumberVictim' , 'EducationLevel' and 'AgeWhenReceived' of the candidate."
      ]
    },
    {
      "cell_type": "markdown",
      "metadata": {
        "id": "6qGZQkuADPRz",
        "colab_type": "text"
      },
      "source": [
        "first, Cluster Heat Map using the standard_scale=1 parameter."
      ]
    },
    {
      "cell_type": "code",
      "metadata": {
        "id": "ORG1jYI5DPR0",
        "colab_type": "code",
        "outputId": "8502293d-db9b-4ac2-fdbc-fa638b3e60d3",
        "colab": {}
      },
      "source": [
        "from sklearn.cluster import KMeans, AgglomerativeClustering\n",
        "\n",
        "from sklearn import tree, svm, metrics\n",
        "from sklearn.neighbors import KNeighborsClassifier\n",
        "from sklearn.model_selection import train_test_split, cross_val_predict, cross_val_score, KFold\n",
        "from sklearn.datasets import load_digits\n",
        "from sklearn.preprocessing import scale\n",
        "from sklearn.datasets import fetch_20newsgroups\n",
        "from sklearn.metrics import accuracy_score\n",
        "from sklearn.feature_extraction.text import TfidfVectorizer\n",
        "from sklearn.feature_extraction.text import CountVectorizer\n",
        "from sklearn.naive_bayes import MultinomialNB\n",
        "\n",
        "from sklearn.cluster import DBSCAN\n",
        "\n",
        "# Create color maps\n",
        "from matplotlib.colors import ListedColormap\n",
        "cmap = ListedColormap([\"#e41a1c\",\"#984ea3\",\"#a65628\",\"#377eb8\",\"#ffff33\",\"#4daf4a\",\"#ff7f00\"])\n",
        "\n",
        "\n",
        "df1 = df[['Codefendants','NumberVictim','EducationLevel','AgeWhenReceived',\"CountyOfConviction\"]]\n",
        "df1 = df1.dropna()\n",
        "df1 = df1.set_index('CountyOfConviction')\n",
        "df1\n",
        "\n",
        "g = sns.clustermap(df1, standard_scale=1)"
      ],
      "execution_count": 0,
      "outputs": [
        {
          "output_type": "display_data",
          "data": {
            "image/png": "[encoded data removed]",
            "text/plain": [
              "<Figure size 720x720 with 4 Axes>"
            ]
          },
          "metadata": {
            "tags": [],
            "needs_background": "light"
          }
        }
      ]
    },
    {
      "cell_type": "markdown",
      "metadata": {
        "id": "jFJ88Z1GDPR2",
        "colab_type": "text"
      },
      "source": [
        "The dendrograms along the sides show how the variables and the rows are independently clustered. The heat map shows the data value for each row and column.\n",
        "Any patterns in the heat map may indicate an association between the rows and the columns. \n",
        "The main pattern to look for is a rectangular area of about the same color. That suggests a group of rows that are correlated for the corresponding group of columns."
      ]
    },
    {
      "cell_type": "markdown",
      "metadata": {
        "id": "H0SzkPQ1DPR3",
        "colab_type": "text"
      },
      "source": [
        "k-means cluster analysis:"
      ]
    },
    {
      "cell_type": "code",
      "metadata": {
        "id": "LCN117yoDPR3",
        "colab_type": "code",
        "colab": {}
      },
      "source": [
        "#standardize the data to normal distribution\n",
        "from sklearn import preprocessing\n",
        "dataset1=df1.copy()\n",
        "dataset1_standardized = preprocessing.scale(dataset1)\n",
        "dataset1_standardized = pd.DataFrame(dataset1_standardized)"
      ],
      "execution_count": 0,
      "outputs": []
    },
    {
      "cell_type": "code",
      "metadata": {
        "id": "Ctr-VwhgDPR6",
        "colab_type": "code",
        "outputId": "b206dc37-32cd-4bc6-ee9f-99be34d5e1ce",
        "colab": {}
      },
      "source": [
        "# find the appropriate cluster number\n",
        "plt.figure(figsize=(10, 8))\n",
        "from sklearn.cluster import KMeans\n",
        "wcss = []\n",
        "for i in range(1, 10):\n",
        "    kmeans = KMeans(n_clusters = i)\n",
        "    kmeans.fit(dataset1_standardized)\n",
        "    wcss.append(kmeans.inertia_)\n",
        "plt.plot(range(1, 10), wcss)\n",
        "plt.title('The Elbow Method')\n",
        "plt.xlabel('Number of clusters')\n",
        "plt.ylabel('WCSS')\n",
        "plt.show()"
      ],
      "execution_count": 0,
      "outputs": [
        {
          "output_type": "display_data",
          "data": {
            "image/png": "[encoded data removed]",
            "text/plain": [
              "<Figure size 720x576 with 1 Axes>"
            ]
          },
          "metadata": {
            "tags": [],
            "needs_background": "light"
          }
        }
      ]
    },
    {
      "cell_type": "markdown",
      "metadata": {
        "id": "RUlURAPyDPR9",
        "colab_type": "text"
      },
      "source": [
        "We can see that the total intra-cluster distance is large for  𝑘=1  and decreases as we increase  𝑘 , until  𝑘=5.After k=5 it tapers of and gets only marginally smaller. This indicates that  𝑘=5  is a good choice."
      ]
    },
    {
      "cell_type": "code",
      "metadata": {
        "id": "lCjtmfqxDPR-",
        "colab_type": "code",
        "outputId": "bc56af40-f21d-42e0-fe92-681edf4d4e9e",
        "colab": {}
      },
      "source": [
        "# Fitting K-Means to the dataset\n",
        "kmeans = KMeans(n_clusters = 5, init = 'k-means++', random_state = 0)\n",
        "y_kmeans = kmeans.fit_predict(dataset1_standardized)\n",
        "#beginning of  the cluster numbering with 1 instead of 0\n",
        "y_kmeans1=y_kmeans\n",
        "y_kmeans1=y_kmeans+1\n",
        "# New Dataframe called cluster\n",
        "cluster = pd.DataFrame(y_kmeans1)\n",
        "\n",
        "#Adding cluster to the Dataset1\n",
        "dataset1['cluster'] = cluster.values\n",
        "dataset1"
      ],
      "execution_count": 0,
      "outputs": [
        {
          "output_type": "execute_result",
          "data": {
            "text/html": [
              "<div>\n",
              "<style scoped>\n",
              "    .dataframe tbody tr th:only-of-type {\n",
              "        vertical-align: middle;\n",
              "    }\n",
              "\n",
              "    .dataframe tbody tr th {\n",
              "        vertical-align: top;\n",
              "    }\n",
              "\n",
              "    .dataframe thead th {\n",
              "        text-align: right;\n",
              "    }\n",
              "</style>\n",
              "<table border=\"1\" class=\"dataframe\">\n",
              "  <thead>\n",
              "    <tr style=\"text-align: right;\">\n",
              "      <th></th>\n",
              "      <th>Codefendants</th>\n",
              "      <th>NumberVictim</th>\n",
              "      <th>EducationLevel</th>\n",
              "      <th>AgeWhenReceived</th>\n",
              "      <th>cluster</th>\n",
              "    </tr>\n",
              "    <tr>\n",
              "      <th>CountyOfConviction</th>\n",
              "      <th></th>\n",
              "      <th></th>\n",
              "      <th></th>\n",
              "      <th></th>\n",
              "      <th></th>\n",
              "    </tr>\n",
              "  </thead>\n",
              "  <tbody>\n",
              "    <tr>\n",
              "      <th>Hidalgo</th>\n",
              "      <td>0.0</td>\n",
              "      <td>1.0</td>\n",
              "      <td>11.0</td>\n",
              "      <td>28.0</td>\n",
              "      <td>1</td>\n",
              "    </tr>\n",
              "    <tr>\n",
              "      <th>Bee</th>\n",
              "      <td>0.0</td>\n",
              "      <td>1.0</td>\n",
              "      <td>8.0</td>\n",
              "      <td>22.0</td>\n",
              "      <td>3</td>\n",
              "    </tr>\n",
              "    <tr>\n",
              "      <th>Bexar</th>\n",
              "      <td>0.0</td>\n",
              "      <td>1.0</td>\n",
              "      <td>10.0</td>\n",
              "      <td>34.0</td>\n",
              "      <td>2</td>\n",
              "    </tr>\n",
              "    <tr>\n",
              "      <th>Tarrant</th>\n",
              "      <td>0.0</td>\n",
              "      <td>1.0</td>\n",
              "      <td>9.0</td>\n",
              "      <td>36.0</td>\n",
              "      <td>2</td>\n",
              "    </tr>\n",
              "    <tr>\n",
              "      <th>Bexar</th>\n",
              "      <td>4.0</td>\n",
              "      <td>1.0</td>\n",
              "      <td>10.0</td>\n",
              "      <td>22.0</td>\n",
              "      <td>4</td>\n",
              "    </tr>\n",
              "    <tr>\n",
              "      <th>Dallas</th>\n",
              "      <td>1.0</td>\n",
              "      <td>1.0</td>\n",
              "      <td>12.0</td>\n",
              "      <td>30.0</td>\n",
              "      <td>1</td>\n",
              "    </tr>\n",
              "    <tr>\n",
              "      <th>Tarrant</th>\n",
              "      <td>0.0</td>\n",
              "      <td>2.0</td>\n",
              "      <td>12.0</td>\n",
              "      <td>37.0</td>\n",
              "      <td>2</td>\n",
              "    </tr>\n",
              "    <tr>\n",
              "      <th>Houston</th>\n",
              "      <td>0.0</td>\n",
              "      <td>1.0</td>\n",
              "      <td>9.0</td>\n",
              "      <td>45.0</td>\n",
              "      <td>2</td>\n",
              "    </tr>\n",
              "    <tr>\n",
              "      <th>Hidalgo</th>\n",
              "      <td>1.0</td>\n",
              "      <td>1.0</td>\n",
              "      <td>8.0</td>\n",
              "      <td>21.0</td>\n",
              "      <td>3</td>\n",
              "    </tr>\n",
              "    <tr>\n",
              "      <th>Harris</th>\n",
              "      <td>0.0</td>\n",
              "      <td>3.0</td>\n",
              "      <td>8.0</td>\n",
              "      <td>40.0</td>\n",
              "      <td>5</td>\n",
              "    </tr>\n",
              "    <tr>\n",
              "      <th>Wharton</th>\n",
              "      <td>0.0</td>\n",
              "      <td>1.0</td>\n",
              "      <td>12.0</td>\n",
              "      <td>27.0</td>\n",
              "      <td>1</td>\n",
              "    </tr>\n",
              "    <tr>\n",
              "      <th>Harris</th>\n",
              "      <td>0.0</td>\n",
              "      <td>1.0</td>\n",
              "      <td>6.0</td>\n",
              "      <td>30.0</td>\n",
              "      <td>3</td>\n",
              "    </tr>\n",
              "    <tr>\n",
              "      <th>Harris</th>\n",
              "      <td>3.0</td>\n",
              "      <td>1.0</td>\n",
              "      <td>8.0</td>\n",
              "      <td>20.0</td>\n",
              "      <td>4</td>\n",
              "    </tr>\n",
              "    <tr>\n",
              "      <th>Nueces</th>\n",
              "      <td>0.0</td>\n",
              "      <td>1.0</td>\n",
              "      <td>10.0</td>\n",
              "      <td>22.0</td>\n",
              "      <td>1</td>\n",
              "    </tr>\n",
              "    <tr>\n",
              "      <th>Grayson</th>\n",
              "      <td>0.0</td>\n",
              "      <td>4.0</td>\n",
              "      <td>16.0</td>\n",
              "      <td>36.0</td>\n",
              "      <td>5</td>\n",
              "    </tr>\n",
              "    <tr>\n",
              "      <th>Harris</th>\n",
              "      <td>0.0</td>\n",
              "      <td>3.0</td>\n",
              "      <td>11.0</td>\n",
              "      <td>20.0</td>\n",
              "      <td>5</td>\n",
              "    </tr>\n",
              "    <tr>\n",
              "      <th>Ellis</th>\n",
              "      <td>0.0</td>\n",
              "      <td>2.0</td>\n",
              "      <td>12.0</td>\n",
              "      <td>31.0</td>\n",
              "      <td>1</td>\n",
              "    </tr>\n",
              "    <tr>\n",
              "      <th>Bexar</th>\n",
              "      <td>2.0</td>\n",
              "      <td>1.0</td>\n",
              "      <td>8.0</td>\n",
              "      <td>31.0</td>\n",
              "      <td>4</td>\n",
              "    </tr>\n",
              "    <tr>\n",
              "      <th>Dallas</th>\n",
              "      <td>6.0</td>\n",
              "      <td>1.0</td>\n",
              "      <td>6.0</td>\n",
              "      <td>39.0</td>\n",
              "      <td>4</td>\n",
              "    </tr>\n",
              "    <tr>\n",
              "      <th>Smith</th>\n",
              "      <td>1.0</td>\n",
              "      <td>1.0</td>\n",
              "      <td>10.0</td>\n",
              "      <td>40.0</td>\n",
              "      <td>2</td>\n",
              "    </tr>\n",
              "    <tr>\n",
              "      <th>Bexar</th>\n",
              "      <td>2.0</td>\n",
              "      <td>3.0</td>\n",
              "      <td>8.0</td>\n",
              "      <td>19.0</td>\n",
              "      <td>5</td>\n",
              "    </tr>\n",
              "    <tr>\n",
              "      <th>Tarrant</th>\n",
              "      <td>1.0</td>\n",
              "      <td>1.0</td>\n",
              "      <td>10.0</td>\n",
              "      <td>30.0</td>\n",
              "      <td>1</td>\n",
              "    </tr>\n",
              "    <tr>\n",
              "      <th>Harris</th>\n",
              "      <td>0.0</td>\n",
              "      <td>2.0</td>\n",
              "      <td>9.0</td>\n",
              "      <td>24.0</td>\n",
              "      <td>3</td>\n",
              "    </tr>\n",
              "    <tr>\n",
              "      <th>Nueces</th>\n",
              "      <td>0.0</td>\n",
              "      <td>2.0</td>\n",
              "      <td>9.0</td>\n",
              "      <td>27.0</td>\n",
              "      <td>3</td>\n",
              "    </tr>\n",
              "    <tr>\n",
              "      <th>Kerr</th>\n",
              "      <td>0.0</td>\n",
              "      <td>2.0</td>\n",
              "      <td>4.0</td>\n",
              "      <td>30.0</td>\n",
              "      <td>3</td>\n",
              "    </tr>\n",
              "    <tr>\n",
              "      <th>Val Verde</th>\n",
              "      <td>0.0</td>\n",
              "      <td>1.0</td>\n",
              "      <td>8.0</td>\n",
              "      <td>36.0</td>\n",
              "      <td>2</td>\n",
              "    </tr>\n",
              "    <tr>\n",
              "      <th>Dallas</th>\n",
              "      <td>0.0</td>\n",
              "      <td>1.0</td>\n",
              "      <td>10.0</td>\n",
              "      <td>19.0</td>\n",
              "      <td>1</td>\n",
              "    </tr>\n",
              "    <tr>\n",
              "      <th>Bexar</th>\n",
              "      <td>2.0</td>\n",
              "      <td>1.0</td>\n",
              "      <td>8.0</td>\n",
              "      <td>19.0</td>\n",
              "      <td>4</td>\n",
              "    </tr>\n",
              "    <tr>\n",
              "      <th>Harris</th>\n",
              "      <td>5.0</td>\n",
              "      <td>1.0</td>\n",
              "      <td>12.0</td>\n",
              "      <td>45.0</td>\n",
              "      <td>4</td>\n",
              "    </tr>\n",
              "    <tr>\n",
              "      <th>Leon</th>\n",
              "      <td>1.0</td>\n",
              "      <td>1.0</td>\n",
              "      <td>10.0</td>\n",
              "      <td>38.0</td>\n",
              "      <td>2</td>\n",
              "    </tr>\n",
              "    <tr>\n",
              "      <th>...</th>\n",
              "      <td>...</td>\n",
              "      <td>...</td>\n",
              "      <td>...</td>\n",
              "      <td>...</td>\n",
              "      <td>...</td>\n",
              "    </tr>\n",
              "    <tr>\n",
              "      <th>Navarro</th>\n",
              "      <td>1.0</td>\n",
              "      <td>1.0</td>\n",
              "      <td>13.0</td>\n",
              "      <td>27.0</td>\n",
              "      <td>1</td>\n",
              "    </tr>\n",
              "    <tr>\n",
              "      <th>Brazos</th>\n",
              "      <td>2.0</td>\n",
              "      <td>1.0</td>\n",
              "      <td>9.0</td>\n",
              "      <td>19.0</td>\n",
              "      <td>4</td>\n",
              "    </tr>\n",
              "    <tr>\n",
              "      <th>Brazos</th>\n",
              "      <td>2.0</td>\n",
              "      <td>1.0</td>\n",
              "      <td>8.0</td>\n",
              "      <td>17.0</td>\n",
              "      <td>4</td>\n",
              "    </tr>\n",
              "    <tr>\n",
              "      <th>Harris</th>\n",
              "      <td>3.0</td>\n",
              "      <td>1.0</td>\n",
              "      <td>14.0</td>\n",
              "      <td>34.0</td>\n",
              "      <td>4</td>\n",
              "    </tr>\n",
              "    <tr>\n",
              "      <th>Harris</th>\n",
              "      <td>0.0</td>\n",
              "      <td>1.0</td>\n",
              "      <td>12.0</td>\n",
              "      <td>27.0</td>\n",
              "      <td>1</td>\n",
              "    </tr>\n",
              "    <tr>\n",
              "      <th>Cameron</th>\n",
              "      <td>0.0</td>\n",
              "      <td>1.0</td>\n",
              "      <td>11.0</td>\n",
              "      <td>34.0</td>\n",
              "      <td>2</td>\n",
              "    </tr>\n",
              "    <tr>\n",
              "      <th>Harris</th>\n",
              "      <td>1.0</td>\n",
              "      <td>1.0</td>\n",
              "      <td>12.0</td>\n",
              "      <td>25.0</td>\n",
              "      <td>1</td>\n",
              "    </tr>\n",
              "    <tr>\n",
              "      <th>Dallas</th>\n",
              "      <td>0.0</td>\n",
              "      <td>1.0</td>\n",
              "      <td>7.0</td>\n",
              "      <td>29.0</td>\n",
              "      <td>3</td>\n",
              "    </tr>\n",
              "    <tr>\n",
              "      <th>Harris</th>\n",
              "      <td>1.0</td>\n",
              "      <td>1.0</td>\n",
              "      <td>11.0</td>\n",
              "      <td>29.0</td>\n",
              "      <td>1</td>\n",
              "    </tr>\n",
              "    <tr>\n",
              "      <th>Harris</th>\n",
              "      <td>1.0</td>\n",
              "      <td>2.0</td>\n",
              "      <td>9.0</td>\n",
              "      <td>22.0</td>\n",
              "      <td>3</td>\n",
              "    </tr>\n",
              "    <tr>\n",
              "      <th>Cameron</th>\n",
              "      <td>3.0</td>\n",
              "      <td>1.0</td>\n",
              "      <td>11.0</td>\n",
              "      <td>20.0</td>\n",
              "      <td>4</td>\n",
              "    </tr>\n",
              "    <tr>\n",
              "      <th>Brazoria</th>\n",
              "      <td>1.0</td>\n",
              "      <td>1.0</td>\n",
              "      <td>11.0</td>\n",
              "      <td>38.0</td>\n",
              "      <td>2</td>\n",
              "    </tr>\n",
              "    <tr>\n",
              "      <th>Harris</th>\n",
              "      <td>0.0</td>\n",
              "      <td>1.0</td>\n",
              "      <td>10.0</td>\n",
              "      <td>20.0</td>\n",
              "      <td>1</td>\n",
              "    </tr>\n",
              "    <tr>\n",
              "      <th>Harris</th>\n",
              "      <td>0.0</td>\n",
              "      <td>1.0</td>\n",
              "      <td>10.0</td>\n",
              "      <td>30.0</td>\n",
              "      <td>1</td>\n",
              "    </tr>\n",
              "    <tr>\n",
              "      <th>Brazos</th>\n",
              "      <td>3.0</td>\n",
              "      <td>2.0</td>\n",
              "      <td>10.0</td>\n",
              "      <td>28.0</td>\n",
              "      <td>4</td>\n",
              "    </tr>\n",
              "    <tr>\n",
              "      <th>Potter</th>\n",
              "      <td>0.0</td>\n",
              "      <td>1.0</td>\n",
              "      <td>7.0</td>\n",
              "      <td>18.0</td>\n",
              "      <td>3</td>\n",
              "    </tr>\n",
              "    <tr>\n",
              "      <th>Montgomery</th>\n",
              "      <td>1.0</td>\n",
              "      <td>1.0</td>\n",
              "      <td>14.0</td>\n",
              "      <td>40.0</td>\n",
              "      <td>2</td>\n",
              "    </tr>\n",
              "    <tr>\n",
              "      <th>Fort Bend</th>\n",
              "      <td>1.0</td>\n",
              "      <td>1.0</td>\n",
              "      <td>10.0</td>\n",
              "      <td>27.0</td>\n",
              "      <td>1</td>\n",
              "    </tr>\n",
              "    <tr>\n",
              "      <th>Harris</th>\n",
              "      <td>0.0</td>\n",
              "      <td>1.0</td>\n",
              "      <td>8.0</td>\n",
              "      <td>24.0</td>\n",
              "      <td>3</td>\n",
              "    </tr>\n",
              "    <tr>\n",
              "      <th>Harris</th>\n",
              "      <td>0.0</td>\n",
              "      <td>1.0</td>\n",
              "      <td>14.0</td>\n",
              "      <td>31.0</td>\n",
              "      <td>1</td>\n",
              "    </tr>\n",
              "    <tr>\n",
              "      <th>Jefferson</th>\n",
              "      <td>3.0</td>\n",
              "      <td>1.0</td>\n",
              "      <td>6.0</td>\n",
              "      <td>23.0</td>\n",
              "      <td>4</td>\n",
              "    </tr>\n",
              "    <tr>\n",
              "      <th>Harris</th>\n",
              "      <td>0.0</td>\n",
              "      <td>1.0</td>\n",
              "      <td>9.0</td>\n",
              "      <td>50.0</td>\n",
              "      <td>2</td>\n",
              "    </tr>\n",
              "    <tr>\n",
              "      <th>Nueces</th>\n",
              "      <td>0.0</td>\n",
              "      <td>1.0</td>\n",
              "      <td>9.0</td>\n",
              "      <td>21.0</td>\n",
              "      <td>3</td>\n",
              "    </tr>\n",
              "    <tr>\n",
              "      <th>Harris</th>\n",
              "      <td>2.0</td>\n",
              "      <td>1.0</td>\n",
              "      <td>12.0</td>\n",
              "      <td>38.0</td>\n",
              "      <td>2</td>\n",
              "    </tr>\n",
              "    <tr>\n",
              "      <th>Harris</th>\n",
              "      <td>2.0</td>\n",
              "      <td>1.0</td>\n",
              "      <td>9.0</td>\n",
              "      <td>35.0</td>\n",
              "      <td>4</td>\n",
              "    </tr>\n",
              "    <tr>\n",
              "      <th>Harris</th>\n",
              "      <td>1.0</td>\n",
              "      <td>2.0</td>\n",
              "      <td>11.0</td>\n",
              "      <td>34.0</td>\n",
              "      <td>2</td>\n",
              "    </tr>\n",
              "    <tr>\n",
              "      <th>Harris</th>\n",
              "      <td>0.0</td>\n",
              "      <td>1.0</td>\n",
              "      <td>11.0</td>\n",
              "      <td>34.0</td>\n",
              "      <td>2</td>\n",
              "    </tr>\n",
              "    <tr>\n",
              "      <th>El Paso</th>\n",
              "      <td>0.0</td>\n",
              "      <td>1.0</td>\n",
              "      <td>9.0</td>\n",
              "      <td>38.0</td>\n",
              "      <td>2</td>\n",
              "    </tr>\n",
              "    <tr>\n",
              "      <th>Jefferson</th>\n",
              "      <td>1.0</td>\n",
              "      <td>1.0</td>\n",
              "      <td>6.0</td>\n",
              "      <td>26.0</td>\n",
              "      <td>3</td>\n",
              "    </tr>\n",
              "    <tr>\n",
              "      <th>Tarrant</th>\n",
              "      <td>1.0</td>\n",
              "      <td>1.0</td>\n",
              "      <td>12.0</td>\n",
              "      <td>35.0</td>\n",
              "      <td>2</td>\n",
              "    </tr>\n",
              "  </tbody>\n",
              "</table>\n",
              "<p>482 rows × 5 columns</p>\n",
              "</div>"
            ],
            "text/plain": [
              "                    Codefendants  NumberVictim  EducationLevel  \\\n",
              "CountyOfConviction                                               \n",
              "Hidalgo                      0.0           1.0            11.0   \n",
              "Bee                          0.0           1.0             8.0   \n",
              "Bexar                        0.0           1.0            10.0   \n",
              "Tarrant                      0.0           1.0             9.0   \n",
              "Bexar                        4.0           1.0            10.0   \n",
              "Dallas                       1.0           1.0            12.0   \n",
              "Tarrant                      0.0           2.0            12.0   \n",
              "Houston                      0.0           1.0             9.0   \n",
              "Hidalgo                      1.0           1.0             8.0   \n",
              "Harris                       0.0           3.0             8.0   \n",
              "Wharton                      0.0           1.0            12.0   \n",
              "Harris                       0.0           1.0             6.0   \n",
              "Harris                       3.0           1.0             8.0   \n",
              "Nueces                       0.0           1.0            10.0   \n",
              "Grayson                      0.0           4.0            16.0   \n",
              "Harris                       0.0           3.0            11.0   \n",
              "Ellis                        0.0           2.0            12.0   \n",
              "Bexar                        2.0           1.0             8.0   \n",
              "Dallas                       6.0           1.0             6.0   \n",
              "Smith                        1.0           1.0            10.0   \n",
              "Bexar                        2.0           3.0             8.0   \n",
              "Tarrant                      1.0           1.0            10.0   \n",
              "Harris                       0.0           2.0             9.0   \n",
              "Nueces                       0.0           2.0             9.0   \n",
              "Kerr                         0.0           2.0             4.0   \n",
              "Val Verde                    0.0           1.0             8.0   \n",
              "Dallas                       0.0           1.0            10.0   \n",
              "Bexar                        2.0           1.0             8.0   \n",
              "Harris                       5.0           1.0            12.0   \n",
              "Leon                         1.0           1.0            10.0   \n",
              "...                          ...           ...             ...   \n",
              "Navarro                      1.0           1.0            13.0   \n",
              "Brazos                       2.0           1.0             9.0   \n",
              "Brazos                       2.0           1.0             8.0   \n",
              "Harris                       3.0           1.0            14.0   \n",
              "Harris                       0.0           1.0            12.0   \n",
              "Cameron                      0.0           1.0            11.0   \n",
              "Harris                       1.0           1.0            12.0   \n",
              "Dallas                       0.0           1.0             7.0   \n",
              "Harris                       1.0           1.0            11.0   \n",
              "Harris                       1.0           2.0             9.0   \n",
              "Cameron                      3.0           1.0            11.0   \n",
              "Brazoria                     1.0           1.0            11.0   \n",
              "Harris                       0.0           1.0            10.0   \n",
              "Harris                       0.0           1.0            10.0   \n",
              "Brazos                       3.0           2.0            10.0   \n",
              "Potter                       0.0           1.0             7.0   \n",
              "Montgomery                   1.0           1.0            14.0   \n",
              "Fort Bend                    1.0           1.0            10.0   \n",
              "Harris                       0.0           1.0             8.0   \n",
              "Harris                       0.0           1.0            14.0   \n",
              "Jefferson                    3.0           1.0             6.0   \n",
              "Harris                       0.0           1.0             9.0   \n",
              "Nueces                       0.0           1.0             9.0   \n",
              "Harris                       2.0           1.0            12.0   \n",
              "Harris                       2.0           1.0             9.0   \n",
              "Harris                       1.0           2.0            11.0   \n",
              "Harris                       0.0           1.0            11.0   \n",
              "El Paso                      0.0           1.0             9.0   \n",
              "Jefferson                    1.0           1.0             6.0   \n",
              "Tarrant                      1.0           1.0            12.0   \n",
              "\n",
              "                    AgeWhenReceived  cluster  \n",
              "CountyOfConviction                            \n",
              "Hidalgo                        28.0        1  \n",
              "Bee                            22.0        3  \n",
              "Bexar                          34.0        2  \n",
              "Tarrant                        36.0        2  \n",
              "Bexar                          22.0        4  \n",
              "Dallas                         30.0        1  \n",
              "Tarrant                        37.0        2  \n",
              "Houston                        45.0        2  \n",
              "Hidalgo                        21.0        3  \n",
              "Harris                         40.0        5  \n",
              "Wharton                        27.0        1  \n",
              "Harris                         30.0        3  \n",
              "Harris                         20.0        4  \n",
              "Nueces                         22.0        1  \n",
              "Grayson                        36.0        5  \n",
              "Harris                         20.0        5  \n",
              "Ellis                          31.0        1  \n",
              "Bexar                          31.0        4  \n",
              "Dallas                         39.0        4  \n",
              "Smith                          40.0        2  \n",
              "Bexar                          19.0        5  \n",
              "Tarrant                        30.0        1  \n",
              "Harris                         24.0        3  \n",
              "Nueces                         27.0        3  \n",
              "Kerr                           30.0        3  \n",
              "Val Verde                      36.0        2  \n",
              "Dallas                         19.0        1  \n",
              "Bexar                          19.0        4  \n",
              "Harris                         45.0        4  \n",
              "Leon                           38.0        2  \n",
              "...                             ...      ...  \n",
              "Navarro                        27.0        1  \n",
              "Brazos                         19.0        4  \n",
              "Brazos                         17.0        4  \n",
              "Harris                         34.0        4  \n",
              "Harris                         27.0        1  \n",
              "Cameron                        34.0        2  \n",
              "Harris                         25.0        1  \n",
              "Dallas                         29.0        3  \n",
              "Harris                         29.0        1  \n",
              "Harris                         22.0        3  \n",
              "Cameron                        20.0        4  \n",
              "Brazoria                       38.0        2  \n",
              "Harris                         20.0        1  \n",
              "Harris                         30.0        1  \n",
              "Brazos                         28.0        4  \n",
              "Potter                         18.0        3  \n",
              "Montgomery                     40.0        2  \n",
              "Fort Bend                      27.0        1  \n",
              "Harris                         24.0        3  \n",
              "Harris                         31.0        1  \n",
              "Jefferson                      23.0        4  \n",
              "Harris                         50.0        2  \n",
              "Nueces                         21.0        3  \n",
              "Harris                         38.0        2  \n",
              "Harris                         35.0        4  \n",
              "Harris                         34.0        2  \n",
              "Harris                         34.0        2  \n",
              "El Paso                        38.0        2  \n",
              "Jefferson                      26.0        3  \n",
              "Tarrant                        35.0        2  \n",
              "\n",
              "[482 rows x 5 columns]"
            ]
          },
          "metadata": {
            "tags": []
          },
          "execution_count": 53
        }
      ]
    },
    {
      "cell_type": "code",
      "metadata": {
        "id": "0oLMrW2rDPSA",
        "colab_type": "code",
        "outputId": "48b91150-a2bb-4de8-85e4-a19ecf38991f",
        "colab": {}
      },
      "source": [
        "cluster_1 = list(dataset1[dataset1[\"cluster\"]==1].index)\n",
        "cluster_2 = list(dataset1[dataset1[\"cluster\"]==2].index)\n",
        "cluster_3 = list(dataset1[dataset1[\"cluster\"]==3].index)\n",
        "cluster_4 = list(dataset1[dataset1[\"cluster\"]==4].index)\n",
        "cluster_5 = list(dataset1[dataset1[\"cluster\"]==5].index)\n",
        "\n",
        "print(\"cluster 1: \" ,cluster_1)\n",
        "print(\" \")\n",
        "print(\"cluster 2: \" , cluster_2)\n",
        "print(\" \")\n",
        "print(\"cluster 3: \" , cluster_3)\n",
        "print(\" \")\n",
        "print(\"cluster 4: \" , cluster_4)\n",
        "print(\" \")\n",
        "print(\"cluster 5: \" , cluster_5)"
      ],
      "execution_count": 0,
      "outputs": [
        {
          "output_type": "stream",
          "text": [
            "cluster 1:  ['Hidalgo', 'Dallas', 'Wharton', 'Nueces', 'Ellis', 'Tarrant', 'Dallas', 'Jefferson', 'Harris', 'Harris', 'Bexar', 'Bexar', 'Denton', 'Bexar', 'Harris', 'Montgomery', 'Travis', 'Dallas', 'El Paso', 'Harris', 'Collin', 'Harris', 'Bexar', 'Wood', 'Lubbock', 'Bexar', 'Tarrant', 'Tarrant', 'Harris', 'Dallas', 'Hopkins', 'Dallas', 'Tarrant', 'Harris', 'Dallas', 'Potter', 'Bexar', 'Harris', 'Matagorda', 'Harris', 'Bailey', 'Pecos', 'Harris', 'Denton', 'Williamson', 'Harris', 'Harris', 'Bowie', 'Potter', 'Cameron', 'Refugio', 'Dallas', 'Harris', 'Dallas', 'Tarrant', 'Galveston', 'Travis', 'Jefferson', 'Bexar', 'Tarrant', 'Cherokee', 'Johnson', 'Brazos', 'Grayson', 'San Patricio', 'Bexar', 'Harris', 'Jefferson', 'Hidalgo', 'Harris', 'Brazos', 'Dallas', 'Gillespie', 'Brazos', 'Smith', 'Nueces', 'Liberty', 'Red River', 'Anderson', 'Nueces', 'Parker', 'Harris', 'Smith', 'Montgomery', 'Lubbock', 'Jones', 'Smith', 'Collin', 'Montgomery', 'Tarrant', 'Dallas', 'Taylor', 'Lubbock', 'Williamson', 'Galveston', 'Harris', 'Lubbock', 'Dallas', 'Montgomery', 'Matagorda', 'Tarrant', 'Freestone', 'Fort Bend', 'Dallas', 'Hunt', 'Tarrant', 'Dallas', 'Smith', 'Nueces', 'Tarrant', 'Harris', 'Tarrant', 'Dallas', 'Clay', 'Williamson', 'Harris', 'Tarrant', 'Bexar', 'Harris', 'Crockett', 'Dawson', 'Harris', 'Harris', 'Tarrant', 'Scurry', 'Harris', 'Collin', 'Leon', 'Harris', 'Tarrant', 'Harris', 'Tarrant', 'Kleberg', 'Dallas', 'Bexar', 'Wilbarger', 'Harris', 'Galveston', 'Bexar', 'Harris', 'Harris', 'Dallas', 'Harris', 'Nueces', 'McLennan', 'Navarro', 'Harris', 'Harris', 'Harris', 'Harris', 'Harris', 'Fort Bend', 'Harris']\n",
            " \n",
            "cluster 2:  ['Bexar', 'Tarrant', 'Tarrant', 'Houston', 'Smith', 'Val Verde', 'Leon', 'Dallas', 'Dallas', 'Polk', 'Tarrant', 'Jefferson', 'Bexar', 'Tarrant', 'Harris', 'Lamar', 'Collin', 'Walker', 'Dallas', 'Harris', 'Harris', 'El Paso', 'Tarrant', 'Bexar', 'Dallas', 'Bell', 'Harris', 'Harris', 'Harris', 'Dallas', 'Dallas', 'Harris', 'Harris', 'Pecos', 'Tom Green', 'Polk', 'Kendall', 'Dallas', 'Liberty', 'Harris', 'Lamar', 'Harris', 'Montgomery', 'Bell', 'Montgomery', 'Dallas', 'Wilbarger', 'Montgomery', 'Wichita', 'Johnson', 'Tarrant', 'Jefferson', 'Dallas', 'Morris', 'Montgomery', 'Montgomery', 'Kerr', 'Tarrant', 'Montgomery', 'Lubbock', 'Bexar', 'San Jacinto', 'Dallas', 'Brown', 'Lubbock', 'Harris', 'Smith', 'Parker', 'Henderson', 'Sabine', 'Upshur', 'Harris', 'Harris', 'Lee', 'Gregg', 'McLennan', 'Taylor', 'Harris', 'Bexar', 'Dallas', 'Bexar', 'Nueces', 'Navarro', 'Potter', 'Potter', 'Harris', 'Dallas', 'Lubbock', 'Dallas', 'Walker', 'Harris', 'Harris', 'Potter', 'Harris', 'Jefferson', 'Cameron', 'Brazoria', 'Montgomery', 'Harris', 'Harris', 'Harris', 'Harris', 'El Paso', 'Tarrant']\n",
            " \n",
            "cluster 3:  ['Bee', 'Hidalgo', 'Harris', 'Harris', 'Nueces', 'Kerr', 'Harris', 'Hidalgo', 'McLennan', 'Smith', 'Brazos', 'Dallas', 'Nueces', 'Dallas', 'Fort Bend', 'Bowie', 'Dallas', 'Tarrant', 'Bee', 'Llano', 'Harris', 'Tarrant', 'Dallas', 'Bexar', 'Tarrant', 'Kaufman', 'Dallas', 'Harris', 'Randall', 'Potter', 'Denton', 'Bexar', 'Smith', 'Harris', 'Refugio', 'Bexar', 'Randall', 'Lubbock', 'Harris', 'Harris', 'Harris', 'Travis', 'Harris', 'Bowie', 'Harris', 'Harris', 'Jefferson', 'Harris', 'Jefferson', 'Dallas', 'Potter', 'Travis', 'Nueces', 'Brazoria', 'Harris', 'Comal', 'McLennan', 'Jefferson', 'Coryell', 'Nueces', 'Lubbock', 'Tarrant', 'Ellis', 'Bexar', 'Bexar', 'Tarrant', 'Taylor', 'Henderson', 'Harris', 'Brazos', 'Tarrant', 'Denton', 'Harris', 'Jefferson', 'Harris', 'Liberty', 'Caldwell', 'Brazos', 'Travis', 'Hidalgo', 'Bexar', 'Harris', 'Tarrant', 'Bowie', 'Harris', 'Cameron', 'Hale', 'Tom Green', 'Walker', 'Denton', 'Harris', 'Hamilton', 'Jefferson', 'Harris', 'Bexar', 'Dallas', 'Harris', 'Taylor', 'Brazos', 'Harris', 'Harris', 'Milam', 'Harris', 'Chambers', 'Bexar', 'Dallas', 'Harris', 'Potter', 'Harris', 'Nueces', 'Jefferson']\n",
            " \n",
            "cluster 4:  ['Bexar', 'Harris', 'Bexar', 'Dallas', 'Bexar', 'Harris', 'Hidalgo', 'Victoria', 'Bexar', 'Dallas', 'Dallas', 'Brazos', 'Harris', 'Hunt', 'Hunt', 'Fort Bend', 'Bexar', 'Anderson', 'Nacogdoches', 'Harris', 'Red River', 'Dallas', 'Harris', 'Potter', 'Harris', 'Bexar', 'Smith', 'Bexar', 'Harris', 'Nueces', 'Nueces', 'Harris', 'Harris', 'Harris', 'Harris', 'Kerr', 'Collin', 'Harris', 'Tarrant', 'Anderson', 'Harris', 'Smith', 'Travis', 'Gregg', 'Bowie', 'Randall', 'Dallas', 'Dallas', 'Galveston', 'Bexar', 'Smith', 'Wichita', 'McLennan', 'Navarro', 'Grayson', 'Travis', 'Bexar', 'Tarrant', 'Tarrant', 'Harris', 'Cameron', 'Harris', 'Harris', 'Tarrant', 'Galveston', 'Brazos', 'Brazos', 'Harris', 'Cameron', 'Brazos', 'Jefferson', 'Harris']\n",
            " \n",
            "cluster 5:  ['Harris', 'Grayson', 'Harris', 'Bexar', 'Lubbock', 'Cherokee', 'Dallas', 'Cherokee', 'Harris', 'Brazoria', 'Bexar', 'Gregg', 'Bexar', 'Gregg', 'Harris', 'Denton', 'Tarrant', 'Harris', 'Harris', 'Harris', 'Atascosa', 'Navarro', 'Tarrant', 'Comal', 'Dallas', 'Harris', 'Dallas', 'Dallas', 'Bastrop', 'Trinity', 'Dallas', 'Collin', 'Dallas', 'Montgomery', 'Bexar', 'Travis', 'Aransas', 'Harris', 'McLennan', 'Tarrant', 'Dallas', 'Harris']\n"
          ],
          "name": "stdout"
        }
      ]
    },
    {
      "cell_type": "code",
      "metadata": {
        "id": "kQjix44rDPSC",
        "colab_type": "code",
        "outputId": "be23db35-027e-4200-fdfd-194ffa2c0b7d",
        "colab": {}
      },
      "source": [
        "#Mean of clusters\n",
        "kmeans_mean_cluster = pd.DataFrame(round(dataset1.groupby('cluster').mean(),1))\n",
        "kmeans_mean_cluster"
      ],
      "execution_count": 0,
      "outputs": [
        {
          "output_type": "execute_result",
          "data": {
            "text/html": [
              "<div>\n",
              "<style scoped>\n",
              "    .dataframe tbody tr th:only-of-type {\n",
              "        vertical-align: middle;\n",
              "    }\n",
              "\n",
              "    .dataframe tbody tr th {\n",
              "        vertical-align: top;\n",
              "    }\n",
              "\n",
              "    .dataframe thead th {\n",
              "        text-align: right;\n",
              "    }\n",
              "</style>\n",
              "<table border=\"1\" class=\"dataframe\">\n",
              "  <thead>\n",
              "    <tr style=\"text-align: right;\">\n",
              "      <th></th>\n",
              "      <th>Codefendants</th>\n",
              "      <th>NumberVictim</th>\n",
              "      <th>EducationLevel</th>\n",
              "      <th>AgeWhenReceived</th>\n",
              "    </tr>\n",
              "    <tr>\n",
              "      <th>cluster</th>\n",
              "      <th></th>\n",
              "      <th></th>\n",
              "      <th></th>\n",
              "      <th></th>\n",
              "    </tr>\n",
              "  </thead>\n",
              "  <tbody>\n",
              "    <tr>\n",
              "      <th>1</th>\n",
              "      <td>0.3</td>\n",
              "      <td>1.2</td>\n",
              "      <td>11.4</td>\n",
              "      <td>25.2</td>\n",
              "    </tr>\n",
              "    <tr>\n",
              "      <th>2</th>\n",
              "      <td>0.3</td>\n",
              "      <td>1.2</td>\n",
              "      <td>10.6</td>\n",
              "      <td>39.9</td>\n",
              "    </tr>\n",
              "    <tr>\n",
              "      <th>3</th>\n",
              "      <td>0.4</td>\n",
              "      <td>1.2</td>\n",
              "      <td>7.9</td>\n",
              "      <td>25.1</td>\n",
              "    </tr>\n",
              "    <tr>\n",
              "      <th>4</th>\n",
              "      <td>2.9</td>\n",
              "      <td>1.2</td>\n",
              "      <td>10.0</td>\n",
              "      <td>25.0</td>\n",
              "    </tr>\n",
              "    <tr>\n",
              "      <th>5</th>\n",
              "      <td>0.7</td>\n",
              "      <td>3.5</td>\n",
              "      <td>10.8</td>\n",
              "      <td>26.6</td>\n",
              "    </tr>\n",
              "  </tbody>\n",
              "</table>\n",
              "</div>"
            ],
            "text/plain": [
              "         Codefendants  NumberVictim  EducationLevel  AgeWhenReceived\n",
              "cluster                                                             \n",
              "1                 0.3           1.2            11.4             25.2\n",
              "2                 0.3           1.2            10.6             39.9\n",
              "3                 0.4           1.2             7.9             25.1\n",
              "4                 2.9           1.2            10.0             25.0\n",
              "5                 0.7           3.5            10.8             26.6"
            ]
          },
          "metadata": {
            "tags": []
          },
          "execution_count": 39
        }
      ]
    },
    {
      "cell_type": "markdown",
      "metadata": {
        "id": "YxKii-u6DPSF",
        "colab_type": "text"
      },
      "source": [
        "Interpretation for PCA and K-Means:\n",
        "we need to specify the number of clusters, in advance and the final results are sensitive to initialization and often     terminates at a local optimum.\n",
        "#there is no global theoretical method to find the optimal number of clusters.\n",
        "#A practical approach is to compare the outcomes of multiple runs with different k and choose the best one based on a        predefined criterion. \n",
        "#In general, a large k probably decreases the error but increases the risk of overfitting."
      ]
    },
    {
      "cell_type": "markdown",
      "metadata": {
        "id": "9cSMTzWxDPSF",
        "colab_type": "text"
      },
      "source": [
        "Hierarchical cluster analysis:"
      ]
    },
    {
      "cell_type": "code",
      "metadata": {
        "id": "ybN5PITqDPSF",
        "colab_type": "code",
        "outputId": "7b2b87ce-f9ac-4853-8be2-a78e2875214e",
        "colab": {}
      },
      "source": [
        "# Hierarchical clustering for the same dataset\n",
        "# creating a dataset for hierarchical clustering\n",
        "dataset2_standardized = dataset1_standardized\n",
        "# needed imports\n",
        "from matplotlib import pyplot as plt\n",
        "from scipy.cluster.hierarchy import dendrogram, linkage\n",
        "import numpy as np\n",
        "# some setting for this notebook to actually show the graphs inline\n",
        "# you probably won't need this\n",
        "%matplotlib inline\n",
        "np.set_printoptions(precision=5, suppress=True)  # suppress scientific float notation\n",
        "#creating the linkage matrix\n",
        "H_cluster = linkage(dataset2_standardized,'ward')\n",
        "plt.title('Hierarchical Clustering Dendrogram (truncated)')\n",
        "plt.xlabel('sample index or (cluster size)')\n",
        "plt.ylabel('euclidean')\n",
        "dendrogram(\n",
        "    H_cluster,\n",
        "    truncate_mode='lastp',  # show only the last p merged clusters\n",
        "    p=5,  # show only the last p merged clusters\n",
        "    leaf_rotation=90.,\n",
        "    leaf_font_size=12.,\n",
        "    show_contracted=True,  # to get a distribution impression in truncated branches\n",
        ")\n",
        "plt.show()"
      ],
      "execution_count": 0,
      "outputs": [
        {
          "output_type": "display_data",
          "data": {
            "image/png": "[encoded data removed]",
            "text/plain": [
              "<Figure size 432x288 with 1 Axes>"
            ]
          },
          "metadata": {
            "tags": [],
            "needs_background": "light"
          }
        }
      ]
    },
    {
      "cell_type": "code",
      "metadata": {
        "id": "wyPwwQBSDPSI",
        "colab_type": "code",
        "outputId": "9ea941ba-8e32-4d73-c351-31d2ac24f0ed",
        "colab": {}
      },
      "source": [
        "# Assigning the clusters and plotting the observations as per hierarchical clustering\n",
        "from scipy.cluster.hierarchy import fcluster\n",
        "k=5\n",
        "cluster_2 = fcluster(H_cluster, k, criterion='maxclust')\n",
        "cluster_2[0:30:,]\n",
        "plt.figure(figsize=(10, 8))\n",
        "plt.scatter(dataset2_standardized.iloc[:,0], dataset2_standardized.iloc[:,1],c=cluster_2, cmap=cmap)  # plot points with cluster dependent colors\n",
        "plt.title('Data - Hierarchical Clutering')\n",
        "plt.show()"
      ],
      "execution_count": 0,
      "outputs": [
        {
          "output_type": "display_data",
          "data": {
            "image/png": "[encoded data removed]",
            "text/plain": [
              "<Figure size 720x576 with 1 Axes>"
            ]
          },
          "metadata": {
            "tags": [],
            "needs_background": "light"
          }
        }
      ]
    },
    {
      "cell_type": "code",
      "metadata": {
        "id": "oJQrMyMsDPSL",
        "colab_type": "code",
        "outputId": "2a4dd0ad-bfc5-4684-ec63-958647709ff8",
        "colab": {}
      },
      "source": [
        "# New Dataframe called cluster\n",
        "cluster_Hierarchical = pd.DataFrame(cluster_2)\n",
        "# Adding the hierarchical clustering to dataset\n",
        "dataset2=dataset1\n",
        "dataset2['cluster'] = cluster_Hierarchical.values\n",
        "dataset2"
      ],
      "execution_count": 0,
      "outputs": [
        {
          "output_type": "execute_result",
          "data": {
            "text/html": [
              "<div>\n",
              "<style scoped>\n",
              "    .dataframe tbody tr th:only-of-type {\n",
              "        vertical-align: middle;\n",
              "    }\n",
              "\n",
              "    .dataframe tbody tr th {\n",
              "        vertical-align: top;\n",
              "    }\n",
              "\n",
              "    .dataframe thead th {\n",
              "        text-align: right;\n",
              "    }\n",
              "</style>\n",
              "<table border=\"1\" class=\"dataframe\">\n",
              "  <thead>\n",
              "    <tr style=\"text-align: right;\">\n",
              "      <th></th>\n",
              "      <th>Codefendants</th>\n",
              "      <th>NumberVictim</th>\n",
              "      <th>EducationLevel</th>\n",
              "      <th>AgeWhenReceived</th>\n",
              "      <th>cluster</th>\n",
              "    </tr>\n",
              "    <tr>\n",
              "      <th>CountyOfConviction</th>\n",
              "      <th></th>\n",
              "      <th></th>\n",
              "      <th></th>\n",
              "      <th></th>\n",
              "      <th></th>\n",
              "    </tr>\n",
              "  </thead>\n",
              "  <tbody>\n",
              "    <tr>\n",
              "      <th>Hidalgo</th>\n",
              "      <td>0.0</td>\n",
              "      <td>1.0</td>\n",
              "      <td>11.0</td>\n",
              "      <td>28.0</td>\n",
              "      <td>5</td>\n",
              "    </tr>\n",
              "    <tr>\n",
              "      <th>Bee</th>\n",
              "      <td>0.0</td>\n",
              "      <td>1.0</td>\n",
              "      <td>8.0</td>\n",
              "      <td>22.0</td>\n",
              "      <td>4</td>\n",
              "    </tr>\n",
              "    <tr>\n",
              "      <th>Bexar</th>\n",
              "      <td>0.0</td>\n",
              "      <td>1.0</td>\n",
              "      <td>10.0</td>\n",
              "      <td>34.0</td>\n",
              "      <td>5</td>\n",
              "    </tr>\n",
              "    <tr>\n",
              "      <th>Tarrant</th>\n",
              "      <td>0.0</td>\n",
              "      <td>1.0</td>\n",
              "      <td>9.0</td>\n",
              "      <td>36.0</td>\n",
              "      <td>3</td>\n",
              "    </tr>\n",
              "    <tr>\n",
              "      <th>Bexar</th>\n",
              "      <td>4.0</td>\n",
              "      <td>1.0</td>\n",
              "      <td>10.0</td>\n",
              "      <td>22.0</td>\n",
              "      <td>2</td>\n",
              "    </tr>\n",
              "    <tr>\n",
              "      <th>Dallas</th>\n",
              "      <td>1.0</td>\n",
              "      <td>1.0</td>\n",
              "      <td>12.0</td>\n",
              "      <td>30.0</td>\n",
              "      <td>5</td>\n",
              "    </tr>\n",
              "    <tr>\n",
              "      <th>Tarrant</th>\n",
              "      <td>0.0</td>\n",
              "      <td>2.0</td>\n",
              "      <td>12.0</td>\n",
              "      <td>37.0</td>\n",
              "      <td>3</td>\n",
              "    </tr>\n",
              "    <tr>\n",
              "      <th>Houston</th>\n",
              "      <td>0.0</td>\n",
              "      <td>1.0</td>\n",
              "      <td>9.0</td>\n",
              "      <td>45.0</td>\n",
              "      <td>3</td>\n",
              "    </tr>\n",
              "    <tr>\n",
              "      <th>Hidalgo</th>\n",
              "      <td>1.0</td>\n",
              "      <td>1.0</td>\n",
              "      <td>8.0</td>\n",
              "      <td>21.0</td>\n",
              "      <td>4</td>\n",
              "    </tr>\n",
              "    <tr>\n",
              "      <th>Harris</th>\n",
              "      <td>0.0</td>\n",
              "      <td>3.0</td>\n",
              "      <td>8.0</td>\n",
              "      <td>40.0</td>\n",
              "      <td>3</td>\n",
              "    </tr>\n",
              "    <tr>\n",
              "      <th>Wharton</th>\n",
              "      <td>0.0</td>\n",
              "      <td>1.0</td>\n",
              "      <td>12.0</td>\n",
              "      <td>27.0</td>\n",
              "      <td>5</td>\n",
              "    </tr>\n",
              "    <tr>\n",
              "      <th>Harris</th>\n",
              "      <td>0.0</td>\n",
              "      <td>1.0</td>\n",
              "      <td>6.0</td>\n",
              "      <td>30.0</td>\n",
              "      <td>4</td>\n",
              "    </tr>\n",
              "    <tr>\n",
              "      <th>Harris</th>\n",
              "      <td>3.0</td>\n",
              "      <td>1.0</td>\n",
              "      <td>8.0</td>\n",
              "      <td>20.0</td>\n",
              "      <td>2</td>\n",
              "    </tr>\n",
              "    <tr>\n",
              "      <th>Nueces</th>\n",
              "      <td>0.0</td>\n",
              "      <td>1.0</td>\n",
              "      <td>10.0</td>\n",
              "      <td>22.0</td>\n",
              "      <td>5</td>\n",
              "    </tr>\n",
              "    <tr>\n",
              "      <th>Grayson</th>\n",
              "      <td>0.0</td>\n",
              "      <td>4.0</td>\n",
              "      <td>16.0</td>\n",
              "      <td>36.0</td>\n",
              "      <td>1</td>\n",
              "    </tr>\n",
              "    <tr>\n",
              "      <th>Harris</th>\n",
              "      <td>0.0</td>\n",
              "      <td>3.0</td>\n",
              "      <td>11.0</td>\n",
              "      <td>20.0</td>\n",
              "      <td>1</td>\n",
              "    </tr>\n",
              "    <tr>\n",
              "      <th>Ellis</th>\n",
              "      <td>0.0</td>\n",
              "      <td>2.0</td>\n",
              "      <td>12.0</td>\n",
              "      <td>31.0</td>\n",
              "      <td>1</td>\n",
              "    </tr>\n",
              "    <tr>\n",
              "      <th>Bexar</th>\n",
              "      <td>2.0</td>\n",
              "      <td>1.0</td>\n",
              "      <td>8.0</td>\n",
              "      <td>31.0</td>\n",
              "      <td>2</td>\n",
              "    </tr>\n",
              "    <tr>\n",
              "      <th>Dallas</th>\n",
              "      <td>6.0</td>\n",
              "      <td>1.0</td>\n",
              "      <td>6.0</td>\n",
              "      <td>39.0</td>\n",
              "      <td>2</td>\n",
              "    </tr>\n",
              "    <tr>\n",
              "      <th>Smith</th>\n",
              "      <td>1.0</td>\n",
              "      <td>1.0</td>\n",
              "      <td>10.0</td>\n",
              "      <td>40.0</td>\n",
              "      <td>3</td>\n",
              "    </tr>\n",
              "    <tr>\n",
              "      <th>Bexar</th>\n",
              "      <td>2.0</td>\n",
              "      <td>3.0</td>\n",
              "      <td>8.0</td>\n",
              "      <td>19.0</td>\n",
              "      <td>1</td>\n",
              "    </tr>\n",
              "    <tr>\n",
              "      <th>Tarrant</th>\n",
              "      <td>1.0</td>\n",
              "      <td>1.0</td>\n",
              "      <td>10.0</td>\n",
              "      <td>30.0</td>\n",
              "      <td>5</td>\n",
              "    </tr>\n",
              "    <tr>\n",
              "      <th>Harris</th>\n",
              "      <td>0.0</td>\n",
              "      <td>2.0</td>\n",
              "      <td>9.0</td>\n",
              "      <td>24.0</td>\n",
              "      <td>1</td>\n",
              "    </tr>\n",
              "    <tr>\n",
              "      <th>Nueces</th>\n",
              "      <td>0.0</td>\n",
              "      <td>2.0</td>\n",
              "      <td>9.0</td>\n",
              "      <td>27.0</td>\n",
              "      <td>1</td>\n",
              "    </tr>\n",
              "    <tr>\n",
              "      <th>Kerr</th>\n",
              "      <td>0.0</td>\n",
              "      <td>2.0</td>\n",
              "      <td>4.0</td>\n",
              "      <td>30.0</td>\n",
              "      <td>4</td>\n",
              "    </tr>\n",
              "    <tr>\n",
              "      <th>Val Verde</th>\n",
              "      <td>0.0</td>\n",
              "      <td>1.0</td>\n",
              "      <td>8.0</td>\n",
              "      <td>36.0</td>\n",
              "      <td>3</td>\n",
              "    </tr>\n",
              "    <tr>\n",
              "      <th>Dallas</th>\n",
              "      <td>0.0</td>\n",
              "      <td>1.0</td>\n",
              "      <td>10.0</td>\n",
              "      <td>19.0</td>\n",
              "      <td>5</td>\n",
              "    </tr>\n",
              "    <tr>\n",
              "      <th>Bexar</th>\n",
              "      <td>2.0</td>\n",
              "      <td>1.0</td>\n",
              "      <td>8.0</td>\n",
              "      <td>19.0</td>\n",
              "      <td>2</td>\n",
              "    </tr>\n",
              "    <tr>\n",
              "      <th>Harris</th>\n",
              "      <td>5.0</td>\n",
              "      <td>1.0</td>\n",
              "      <td>12.0</td>\n",
              "      <td>45.0</td>\n",
              "      <td>2</td>\n",
              "    </tr>\n",
              "    <tr>\n",
              "      <th>Leon</th>\n",
              "      <td>1.0</td>\n",
              "      <td>1.0</td>\n",
              "      <td>10.0</td>\n",
              "      <td>38.0</td>\n",
              "      <td>3</td>\n",
              "    </tr>\n",
              "    <tr>\n",
              "      <th>...</th>\n",
              "      <td>...</td>\n",
              "      <td>...</td>\n",
              "      <td>...</td>\n",
              "      <td>...</td>\n",
              "      <td>...</td>\n",
              "    </tr>\n",
              "    <tr>\n",
              "      <th>Navarro</th>\n",
              "      <td>1.0</td>\n",
              "      <td>1.0</td>\n",
              "      <td>13.0</td>\n",
              "      <td>27.0</td>\n",
              "      <td>5</td>\n",
              "    </tr>\n",
              "    <tr>\n",
              "      <th>Brazos</th>\n",
              "      <td>2.0</td>\n",
              "      <td>1.0</td>\n",
              "      <td>9.0</td>\n",
              "      <td>19.0</td>\n",
              "      <td>2</td>\n",
              "    </tr>\n",
              "    <tr>\n",
              "      <th>Brazos</th>\n",
              "      <td>2.0</td>\n",
              "      <td>1.0</td>\n",
              "      <td>8.0</td>\n",
              "      <td>17.0</td>\n",
              "      <td>2</td>\n",
              "    </tr>\n",
              "    <tr>\n",
              "      <th>Harris</th>\n",
              "      <td>3.0</td>\n",
              "      <td>1.0</td>\n",
              "      <td>14.0</td>\n",
              "      <td>34.0</td>\n",
              "      <td>2</td>\n",
              "    </tr>\n",
              "    <tr>\n",
              "      <th>Harris</th>\n",
              "      <td>0.0</td>\n",
              "      <td>1.0</td>\n",
              "      <td>12.0</td>\n",
              "      <td>27.0</td>\n",
              "      <td>5</td>\n",
              "    </tr>\n",
              "    <tr>\n",
              "      <th>Cameron</th>\n",
              "      <td>0.0</td>\n",
              "      <td>1.0</td>\n",
              "      <td>11.0</td>\n",
              "      <td>34.0</td>\n",
              "      <td>3</td>\n",
              "    </tr>\n",
              "    <tr>\n",
              "      <th>Harris</th>\n",
              "      <td>1.0</td>\n",
              "      <td>1.0</td>\n",
              "      <td>12.0</td>\n",
              "      <td>25.0</td>\n",
              "      <td>5</td>\n",
              "    </tr>\n",
              "    <tr>\n",
              "      <th>Dallas</th>\n",
              "      <td>0.0</td>\n",
              "      <td>1.0</td>\n",
              "      <td>7.0</td>\n",
              "      <td>29.0</td>\n",
              "      <td>4</td>\n",
              "    </tr>\n",
              "    <tr>\n",
              "      <th>Harris</th>\n",
              "      <td>1.0</td>\n",
              "      <td>1.0</td>\n",
              "      <td>11.0</td>\n",
              "      <td>29.0</td>\n",
              "      <td>5</td>\n",
              "    </tr>\n",
              "    <tr>\n",
              "      <th>Harris</th>\n",
              "      <td>1.0</td>\n",
              "      <td>2.0</td>\n",
              "      <td>9.0</td>\n",
              "      <td>22.0</td>\n",
              "      <td>1</td>\n",
              "    </tr>\n",
              "    <tr>\n",
              "      <th>Cameron</th>\n",
              "      <td>3.0</td>\n",
              "      <td>1.0</td>\n",
              "      <td>11.0</td>\n",
              "      <td>20.0</td>\n",
              "      <td>2</td>\n",
              "    </tr>\n",
              "    <tr>\n",
              "      <th>Brazoria</th>\n",
              "      <td>1.0</td>\n",
              "      <td>1.0</td>\n",
              "      <td>11.0</td>\n",
              "      <td>38.0</td>\n",
              "      <td>3</td>\n",
              "    </tr>\n",
              "    <tr>\n",
              "      <th>Harris</th>\n",
              "      <td>0.0</td>\n",
              "      <td>1.0</td>\n",
              "      <td>10.0</td>\n",
              "      <td>20.0</td>\n",
              "      <td>5</td>\n",
              "    </tr>\n",
              "    <tr>\n",
              "      <th>Harris</th>\n",
              "      <td>0.0</td>\n",
              "      <td>1.0</td>\n",
              "      <td>10.0</td>\n",
              "      <td>30.0</td>\n",
              "      <td>5</td>\n",
              "    </tr>\n",
              "    <tr>\n",
              "      <th>Brazos</th>\n",
              "      <td>3.0</td>\n",
              "      <td>2.0</td>\n",
              "      <td>10.0</td>\n",
              "      <td>28.0</td>\n",
              "      <td>1</td>\n",
              "    </tr>\n",
              "    <tr>\n",
              "      <th>Potter</th>\n",
              "      <td>0.0</td>\n",
              "      <td>1.0</td>\n",
              "      <td>7.0</td>\n",
              "      <td>18.0</td>\n",
              "      <td>4</td>\n",
              "    </tr>\n",
              "    <tr>\n",
              "      <th>Montgomery</th>\n",
              "      <td>1.0</td>\n",
              "      <td>1.0</td>\n",
              "      <td>14.0</td>\n",
              "      <td>40.0</td>\n",
              "      <td>5</td>\n",
              "    </tr>\n",
              "    <tr>\n",
              "      <th>Fort Bend</th>\n",
              "      <td>1.0</td>\n",
              "      <td>1.0</td>\n",
              "      <td>10.0</td>\n",
              "      <td>27.0</td>\n",
              "      <td>5</td>\n",
              "    </tr>\n",
              "    <tr>\n",
              "      <th>Harris</th>\n",
              "      <td>0.0</td>\n",
              "      <td>1.0</td>\n",
              "      <td>8.0</td>\n",
              "      <td>24.0</td>\n",
              "      <td>4</td>\n",
              "    </tr>\n",
              "    <tr>\n",
              "      <th>Harris</th>\n",
              "      <td>0.0</td>\n",
              "      <td>1.0</td>\n",
              "      <td>14.0</td>\n",
              "      <td>31.0</td>\n",
              "      <td>5</td>\n",
              "    </tr>\n",
              "    <tr>\n",
              "      <th>Jefferson</th>\n",
              "      <td>3.0</td>\n",
              "      <td>1.0</td>\n",
              "      <td>6.0</td>\n",
              "      <td>23.0</td>\n",
              "      <td>2</td>\n",
              "    </tr>\n",
              "    <tr>\n",
              "      <th>Harris</th>\n",
              "      <td>0.0</td>\n",
              "      <td>1.0</td>\n",
              "      <td>9.0</td>\n",
              "      <td>50.0</td>\n",
              "      <td>3</td>\n",
              "    </tr>\n",
              "    <tr>\n",
              "      <th>Nueces</th>\n",
              "      <td>0.0</td>\n",
              "      <td>1.0</td>\n",
              "      <td>9.0</td>\n",
              "      <td>21.0</td>\n",
              "      <td>5</td>\n",
              "    </tr>\n",
              "    <tr>\n",
              "      <th>Harris</th>\n",
              "      <td>2.0</td>\n",
              "      <td>1.0</td>\n",
              "      <td>12.0</td>\n",
              "      <td>38.0</td>\n",
              "      <td>2</td>\n",
              "    </tr>\n",
              "    <tr>\n",
              "      <th>Harris</th>\n",
              "      <td>2.0</td>\n",
              "      <td>1.0</td>\n",
              "      <td>9.0</td>\n",
              "      <td>35.0</td>\n",
              "      <td>2</td>\n",
              "    </tr>\n",
              "    <tr>\n",
              "      <th>Harris</th>\n",
              "      <td>1.0</td>\n",
              "      <td>2.0</td>\n",
              "      <td>11.0</td>\n",
              "      <td>34.0</td>\n",
              "      <td>1</td>\n",
              "    </tr>\n",
              "    <tr>\n",
              "      <th>Harris</th>\n",
              "      <td>0.0</td>\n",
              "      <td>1.0</td>\n",
              "      <td>11.0</td>\n",
              "      <td>34.0</td>\n",
              "      <td>3</td>\n",
              "    </tr>\n",
              "    <tr>\n",
              "      <th>El Paso</th>\n",
              "      <td>0.0</td>\n",
              "      <td>1.0</td>\n",
              "      <td>9.0</td>\n",
              "      <td>38.0</td>\n",
              "      <td>3</td>\n",
              "    </tr>\n",
              "    <tr>\n",
              "      <th>Jefferson</th>\n",
              "      <td>1.0</td>\n",
              "      <td>1.0</td>\n",
              "      <td>6.0</td>\n",
              "      <td>26.0</td>\n",
              "      <td>4</td>\n",
              "    </tr>\n",
              "    <tr>\n",
              "      <th>Tarrant</th>\n",
              "      <td>1.0</td>\n",
              "      <td>1.0</td>\n",
              "      <td>12.0</td>\n",
              "      <td>35.0</td>\n",
              "      <td>3</td>\n",
              "    </tr>\n",
              "  </tbody>\n",
              "</table>\n",
              "<p>482 rows × 5 columns</p>\n",
              "</div>"
            ],
            "text/plain": [
              "                    Codefendants  NumberVictim  EducationLevel  \\\n",
              "CountyOfConviction                                               \n",
              "Hidalgo                      0.0           1.0            11.0   \n",
              "Bee                          0.0           1.0             8.0   \n",
              "Bexar                        0.0           1.0            10.0   \n",
              "Tarrant                      0.0           1.0             9.0   \n",
              "Bexar                        4.0           1.0            10.0   \n",
              "Dallas                       1.0           1.0            12.0   \n",
              "Tarrant                      0.0           2.0            12.0   \n",
              "Houston                      0.0           1.0             9.0   \n",
              "Hidalgo                      1.0           1.0             8.0   \n",
              "Harris                       0.0           3.0             8.0   \n",
              "Wharton                      0.0           1.0            12.0   \n",
              "Harris                       0.0           1.0             6.0   \n",
              "Harris                       3.0           1.0             8.0   \n",
              "Nueces                       0.0           1.0            10.0   \n",
              "Grayson                      0.0           4.0            16.0   \n",
              "Harris                       0.0           3.0            11.0   \n",
              "Ellis                        0.0           2.0            12.0   \n",
              "Bexar                        2.0           1.0             8.0   \n",
              "Dallas                       6.0           1.0             6.0   \n",
              "Smith                        1.0           1.0            10.0   \n",
              "Bexar                        2.0           3.0             8.0   \n",
              "Tarrant                      1.0           1.0            10.0   \n",
              "Harris                       0.0           2.0             9.0   \n",
              "Nueces                       0.0           2.0             9.0   \n",
              "Kerr                         0.0           2.0             4.0   \n",
              "Val Verde                    0.0           1.0             8.0   \n",
              "Dallas                       0.0           1.0            10.0   \n",
              "Bexar                        2.0           1.0             8.0   \n",
              "Harris                       5.0           1.0            12.0   \n",
              "Leon                         1.0           1.0            10.0   \n",
              "...                          ...           ...             ...   \n",
              "Navarro                      1.0           1.0            13.0   \n",
              "Brazos                       2.0           1.0             9.0   \n",
              "Brazos                       2.0           1.0             8.0   \n",
              "Harris                       3.0           1.0            14.0   \n",
              "Harris                       0.0           1.0            12.0   \n",
              "Cameron                      0.0           1.0            11.0   \n",
              "Harris                       1.0           1.0            12.0   \n",
              "Dallas                       0.0           1.0             7.0   \n",
              "Harris                       1.0           1.0            11.0   \n",
              "Harris                       1.0           2.0             9.0   \n",
              "Cameron                      3.0           1.0            11.0   \n",
              "Brazoria                     1.0           1.0            11.0   \n",
              "Harris                       0.0           1.0            10.0   \n",
              "Harris                       0.0           1.0            10.0   \n",
              "Brazos                       3.0           2.0            10.0   \n",
              "Potter                       0.0           1.0             7.0   \n",
              "Montgomery                   1.0           1.0            14.0   \n",
              "Fort Bend                    1.0           1.0            10.0   \n",
              "Harris                       0.0           1.0             8.0   \n",
              "Harris                       0.0           1.0            14.0   \n",
              "Jefferson                    3.0           1.0             6.0   \n",
              "Harris                       0.0           1.0             9.0   \n",
              "Nueces                       0.0           1.0             9.0   \n",
              "Harris                       2.0           1.0            12.0   \n",
              "Harris                       2.0           1.0             9.0   \n",
              "Harris                       1.0           2.0            11.0   \n",
              "Harris                       0.0           1.0            11.0   \n",
              "El Paso                      0.0           1.0             9.0   \n",
              "Jefferson                    1.0           1.0             6.0   \n",
              "Tarrant                      1.0           1.0            12.0   \n",
              "\n",
              "                    AgeWhenReceived  cluster  \n",
              "CountyOfConviction                            \n",
              "Hidalgo                        28.0        5  \n",
              "Bee                            22.0        4  \n",
              "Bexar                          34.0        5  \n",
              "Tarrant                        36.0        3  \n",
              "Bexar                          22.0        2  \n",
              "Dallas                         30.0        5  \n",
              "Tarrant                        37.0        3  \n",
              "Houston                        45.0        3  \n",
              "Hidalgo                        21.0        4  \n",
              "Harris                         40.0        3  \n",
              "Wharton                        27.0        5  \n",
              "Harris                         30.0        4  \n",
              "Harris                         20.0        2  \n",
              "Nueces                         22.0        5  \n",
              "Grayson                        36.0        1  \n",
              "Harris                         20.0        1  \n",
              "Ellis                          31.0        1  \n",
              "Bexar                          31.0        2  \n",
              "Dallas                         39.0        2  \n",
              "Smith                          40.0        3  \n",
              "Bexar                          19.0        1  \n",
              "Tarrant                        30.0        5  \n",
              "Harris                         24.0        1  \n",
              "Nueces                         27.0        1  \n",
              "Kerr                           30.0        4  \n",
              "Val Verde                      36.0        3  \n",
              "Dallas                         19.0        5  \n",
              "Bexar                          19.0        2  \n",
              "Harris                         45.0        2  \n",
              "Leon                           38.0        3  \n",
              "...                             ...      ...  \n",
              "Navarro                        27.0        5  \n",
              "Brazos                         19.0        2  \n",
              "Brazos                         17.0        2  \n",
              "Harris                         34.0        2  \n",
              "Harris                         27.0        5  \n",
              "Cameron                        34.0        3  \n",
              "Harris                         25.0        5  \n",
              "Dallas                         29.0        4  \n",
              "Harris                         29.0        5  \n",
              "Harris                         22.0        1  \n",
              "Cameron                        20.0        2  \n",
              "Brazoria                       38.0        3  \n",
              "Harris                         20.0        5  \n",
              "Harris                         30.0        5  \n",
              "Brazos                         28.0        1  \n",
              "Potter                         18.0        4  \n",
              "Montgomery                     40.0        5  \n",
              "Fort Bend                      27.0        5  \n",
              "Harris                         24.0        4  \n",
              "Harris                         31.0        5  \n",
              "Jefferson                      23.0        2  \n",
              "Harris                         50.0        3  \n",
              "Nueces                         21.0        5  \n",
              "Harris                         38.0        2  \n",
              "Harris                         35.0        2  \n",
              "Harris                         34.0        1  \n",
              "Harris                         34.0        3  \n",
              "El Paso                        38.0        3  \n",
              "Jefferson                      26.0        4  \n",
              "Tarrant                        35.0        3  \n",
              "\n",
              "[482 rows x 5 columns]"
            ]
          },
          "metadata": {
            "tags": []
          },
          "execution_count": 48
        }
      ]
    },
    {
      "cell_type": "code",
      "metadata": {
        "id": "14Kn0UPPDPSP",
        "colab_type": "code",
        "outputId": "09968ee1-335e-4139-f1d3-307b27d914a8",
        "colab": {}
      },
      "source": [
        "cluster_1 = list(dataset2[dataset2[\"cluster\"]==1].index)\n",
        "cluster_2 = list(dataset2[dataset2[\"cluster\"]==2].index)\n",
        "cluster_3 = list(dataset2[dataset2[\"cluster\"]==3].index)\n",
        "cluster_4 = list(dataset2[dataset2[\"cluster\"]==4].index)\n",
        "cluster_5 = list(dataset2[dataset2[\"cluster\"]==5].index)\n",
        "\n",
        "print(\"cluster 1: \" ,cluster_1)\n",
        "print(\" \")\n",
        "print(\"cluster 2: \" , cluster_2)\n",
        "print(\" \")\n",
        "print(\"cluster 3: \" , cluster_3)\n",
        "print(\" \")\n",
        "print(\"cluster 4: \" , cluster_4)\n",
        "print(\" \")\n",
        "print(\"cluster 5: \" , cluster_5)"
      ],
      "execution_count": 0,
      "outputs": [
        {
          "output_type": "stream",
          "text": [
            "cluster 1:  ['Grayson', 'Harris', 'Ellis', 'Bexar', 'Harris', 'Nueces', 'Lubbock', 'Victoria', 'Cherokee', 'Harris', 'Dallas', 'Cherokee', 'Bexar', 'Denton', 'Nueces', 'Fort Bend', 'Harris', 'Collin', 'Harris', 'Tarrant', 'Tarrant', 'Bexar', 'Brazoria', 'Bexar', 'Gregg', 'Dallas', 'Harris', 'Dallas', 'Bexar', 'Gregg', 'Harris', 'Randall', 'Potter', 'Harris', 'Smith', 'Harris', 'Denton', 'Williamson', 'Denton', 'Refugio', 'Tarrant', 'Cameron', 'Refugio', 'Harris', 'Harris', 'Harris', 'Harris', 'Atascosa', 'Harris', 'Cherokee', 'Navarro', 'Johnson', 'Tarrant', 'San Patricio', 'Jefferson', 'Comal', 'Dallas', 'Harris', 'Harris', 'McLennan', 'Jefferson', 'Harris', 'Nueces', 'Smith', 'Ellis', 'Dallas', 'Montgomery', 'Dallas', 'Bastrop', 'Lubbock', 'Henderson', 'Trinity', 'Dallas', 'Tarrant', 'Collin', 'Dallas', 'Montgomery', 'Travis', 'Bexar', 'Harris', 'Travis', 'Aransas', 'Leon', 'Harris', 'McLennan', 'Tarrant', 'Harris', 'Harris', 'Jefferson', 'Dallas', 'Harris', 'McLennan', 'Harris', 'Brazos', 'Harris']\n",
            " \n",
            "cluster 2:  ['Bexar', 'Harris', 'Bexar', 'Dallas', 'Bexar', 'Harris', 'Hidalgo', 'Bexar', 'Dallas', 'Dallas', 'Brazos', 'Harris', 'Hunt', 'Hunt', 'Fort Bend', 'Bexar', 'Anderson', 'Nacogdoches', 'Harris', 'Dallas', 'Harris', 'Potter', 'Harris', 'Smith', 'Bexar', 'Harris', 'Nueces', 'Harris', 'Harris', 'Kerr', 'Collin', 'Harris', 'Tarrant', 'Anderson', 'Harris', 'Smith', 'Travis', 'Gregg', 'Randall', 'Dallas', 'Dallas', 'Galveston', 'Smith', 'McLennan', 'Grayson', 'Travis', 'Bexar', 'Dallas', 'Tarrant', 'Harris', 'Cameron', 'Harris', 'Harris', 'Tarrant', 'Galveston', 'Brazos', 'Brazos', 'Harris', 'Cameron', 'Jefferson', 'Harris', 'Harris']\n",
            " \n",
            "cluster 3:  ['Tarrant', 'Tarrant', 'Houston', 'Harris', 'Smith', 'Val Verde', 'Leon', 'Dallas', 'Dallas', 'Polk', 'Tarrant', 'Jefferson', 'Bexar', 'Tarrant', 'Harris', 'Lamar', 'Collin', 'Walker', 'Dallas', 'Harris', 'Harris', 'El Paso', 'Tarrant', 'Bexar', 'Dallas', 'Bell', 'Dallas', 'Harris', 'Harris', 'Dallas', 'Bowie', 'Harris', 'Pecos', 'Tom Green', 'Jefferson', 'Polk', 'Kendall', 'Dallas', 'Liberty', 'Harris', 'Lamar', 'Harris', 'Montgomery', 'Bell', 'Dallas', 'Wilbarger', 'Montgomery', 'Wichita', 'Johnson', 'Tarrant', 'Jefferson', 'Morris', 'Montgomery', 'Montgomery', 'Nueces', 'Tarrant', 'Montgomery', 'Bexar', 'San Jacinto', 'Brown', 'Lubbock', 'Harris', 'Smith', 'Henderson', 'Sabine', 'Harris', 'Lee', 'Gregg', 'McLennan', 'Taylor', 'Harris', 'Bexar', 'Harris', 'Bexar', 'Nueces', 'Navarro', 'Potter', 'Potter', 'Dallas', 'Lubbock', 'Dallas', 'Walker', 'Harris', 'Harris', 'Harris', 'Jefferson', 'Cameron', 'Brazoria', 'Harris', 'Harris', 'El Paso', 'Tarrant']\n",
            " \n",
            "cluster 4:  ['Bee', 'Hidalgo', 'Harris', 'Kerr', 'Hidalgo', 'McLennan', 'Brazos', 'Dallas', 'Bowie', 'Dallas', 'Tarrant', 'Bee', 'Llano', 'Harris', 'Dallas', 'Tarrant', 'Kaufman', 'Denton', 'Bexar', 'Harris', 'Bexar', 'Harris', 'Randall', 'Harris', 'Travis', 'Harris', 'Bowie', 'Harris', 'Harris', 'Jefferson', 'Dallas', 'Potter', 'Travis', 'Nueces', 'Comal', 'Coryell', 'Lubbock', 'Tarrant', 'Lubbock', 'Bexar', 'Bexar', 'Tarrant', 'Taylor', 'Harris', 'Brazos', 'Upshur', 'Denton', 'Harris', 'Jefferson', 'Caldwell', 'Brazos', 'Bexar', 'Tarrant', 'Bowie', 'Harris', 'Cameron', 'Hale', 'Harris', 'Dallas', 'Taylor', 'Brazos', 'Harris', 'Harris', 'Milam', 'Bexar', 'Dallas', 'Potter', 'Harris', 'Jefferson']\n",
            " \n",
            "cluster 5:  ['Hidalgo', 'Bexar', 'Dallas', 'Wharton', 'Nueces', 'Tarrant', 'Dallas', 'Harris', 'Jefferson', 'Harris', 'Smith', 'Dallas', 'Bexar', 'Bexar', 'Montgomery', 'Travis', 'Dallas', 'El Paso', 'Harris', 'Harris', 'Bexar', 'Wood', 'Lubbock', 'Bexar', 'Red River', 'Tarrant', 'Harris', 'Hopkins', 'Tarrant', 'Dallas', 'Harris', 'Potter', 'Bexar', 'Harris', 'Matagorda', 'Bailey', 'Pecos', 'Dallas', 'Harris', 'Bexar', 'Harris', 'Harris', 'Potter', 'Dallas', 'Harris', 'Lubbock', 'Dallas', 'Harris', 'Tarrant', 'Galveston', 'Travis', 'Nueces', 'Harris', 'Harris', 'Bexar', 'Tarrant', 'Jefferson', 'Brazos', 'Grayson', 'Montgomery', 'Bexar', 'Harris', 'Hidalgo', 'Harris', 'Brazos', 'Dallas', 'Brazoria', 'Dallas', 'Gillespie', 'Brazos', 'Smith', 'Nueces', 'Liberty', 'Red River', 'Bowie', 'Kerr', 'Anderson', 'Parker', 'Bexar', 'Montgomery', 'Lubbock', 'Dallas', 'Jones', 'Smith', 'Collin', 'Wichita', 'Tarrant', 'Dallas', 'Taylor', 'Parker', 'Navarro', 'Williamson', 'Galveston', 'Harris', 'Lubbock', 'Dallas', 'Montgomery', 'Matagorda', 'Tarrant', 'Freestone', 'Fort Bend', 'Dallas', 'Hunt', 'Harris', 'Tarrant', 'Harris', 'Dallas', 'Smith', 'Liberty', 'Nueces', 'Tarrant', 'Tarrant', 'Harris', 'Hidalgo', 'Tarrant', 'Dallas', 'Clay', 'Williamson', 'Harris', 'Tarrant', 'Bexar', 'Harris', 'Crockett', 'Dawson', 'Harris', 'Tarrant', 'Scurry', 'Harris', 'Collin', 'Harris', 'Tarrant', 'Tom Green', 'Walker', 'Denton', 'Harris', 'Tarrant', 'Kleberg', 'Hamilton', 'Dallas', 'Bexar', 'Bexar', 'Wilbarger', 'Harris', 'Harris', 'Harris', 'Galveston', 'Bexar', 'Potter', 'Harris', 'Harris', 'Dallas', 'Nueces', 'Harris', 'Chambers', 'Navarro', 'Harris', 'Harris', 'Harris', 'Harris', 'Harris', 'Montgomery', 'Fort Bend', 'Harris', 'Nueces']\n"
          ],
          "name": "stdout"
        }
      ]
    },
    {
      "cell_type": "code",
      "metadata": {
        "id": "WRLSeaY4DPSS",
        "colab_type": "code",
        "outputId": "84eb8623-cef8-43eb-e52b-c4f1a8f2a414",
        "colab": {}
      },
      "source": [
        "Hierarchical_cluster = pd.DataFrame(round(dataset2.groupby('cluster').mean(),1))\n",
        "Hierarchical_cluster"
      ],
      "execution_count": 0,
      "outputs": [
        {
          "output_type": "execute_result",
          "data": {
            "text/html": [
              "<div>\n",
              "<style scoped>\n",
              "    .dataframe tbody tr th:only-of-type {\n",
              "        vertical-align: middle;\n",
              "    }\n",
              "\n",
              "    .dataframe tbody tr th {\n",
              "        vertical-align: top;\n",
              "    }\n",
              "\n",
              "    .dataframe thead th {\n",
              "        text-align: right;\n",
              "    }\n",
              "</style>\n",
              "<table border=\"1\" class=\"dataframe\">\n",
              "  <thead>\n",
              "    <tr style=\"text-align: right;\">\n",
              "      <th></th>\n",
              "      <th>Codefendants</th>\n",
              "      <th>NumberVictim</th>\n",
              "      <th>EducationLevel</th>\n",
              "      <th>AgeWhenReceived</th>\n",
              "    </tr>\n",
              "    <tr>\n",
              "      <th>cluster</th>\n",
              "      <th></th>\n",
              "      <th></th>\n",
              "      <th></th>\n",
              "      <th></th>\n",
              "    </tr>\n",
              "  </thead>\n",
              "  <tbody>\n",
              "    <tr>\n",
              "      <th>1</th>\n",
              "      <td>0.6</td>\n",
              "      <td>2.6</td>\n",
              "      <td>10.2</td>\n",
              "      <td>25.8</td>\n",
              "    </tr>\n",
              "    <tr>\n",
              "      <th>2</th>\n",
              "      <td>3.0</td>\n",
              "      <td>1.1</td>\n",
              "      <td>9.8</td>\n",
              "      <td>26.1</td>\n",
              "    </tr>\n",
              "    <tr>\n",
              "      <th>3</th>\n",
              "      <td>0.2</td>\n",
              "      <td>1.3</td>\n",
              "      <td>10.5</td>\n",
              "      <td>39.8</td>\n",
              "    </tr>\n",
              "    <tr>\n",
              "      <th>4</th>\n",
              "      <td>0.4</td>\n",
              "      <td>1.0</td>\n",
              "      <td>7.4</td>\n",
              "      <td>26.4</td>\n",
              "    </tr>\n",
              "    <tr>\n",
              "      <th>5</th>\n",
              "      <td>0.4</td>\n",
              "      <td>1.0</td>\n",
              "      <td>11.2</td>\n",
              "      <td>25.3</td>\n",
              "    </tr>\n",
              "  </tbody>\n",
              "</table>\n",
              "</div>"
            ],
            "text/plain": [
              "         Codefendants  NumberVictim  EducationLevel  AgeWhenReceived\n",
              "cluster                                                             \n",
              "1                 0.6           2.6            10.2             25.8\n",
              "2                 3.0           1.1             9.8             26.1\n",
              "3                 0.2           1.3            10.5             39.8\n",
              "4                 0.4           1.0             7.4             26.4\n",
              "5                 0.4           1.0            11.2             25.3"
            ]
          },
          "metadata": {
            "tags": []
          },
          "execution_count": 50
        }
      ]
    },
    {
      "cell_type": "markdown",
      "metadata": {
        "id": "5LNzSz2PDPSW",
        "colab_type": "text"
      },
      "source": [
        "There are states which have stayed in the same cluster with the same states as the K-Mean algorithm and there are states that have entered into a different cluster with different states."
      ]
    },
    {
      "cell_type": "markdown",
      "metadata": {
        "id": "yLgunNY4DPSW",
        "colab_type": "text"
      },
      "source": [
        "---------------------------------------------------------------------------------------------------------------------------"
      ]
    },
    {
      "cell_type": "code",
      "metadata": {
        "id": "LYzayVHrDPSX",
        "colab_type": "code",
        "outputId": "92bb151c-8152-46d9-cb2a-2a113e35bc25",
        "colab": {}
      },
      "source": [
        "pic2 = Image(url= '2.jpg' ,width=500,height=600)\n",
        "pic2"
      ],
      "execution_count": 0,
      "outputs": [
        {
          "output_type": "execute_result",
          "data": {
            "text/html": [
              "<img src=\"2.jpg\" width=\"500\" height=\"600\"/>"
            ],
            "text/plain": [
              "<IPython.core.display.Image object>"
            ]
          },
          "metadata": {
            "tags": []
          },
          "execution_count": 45
        }
      ]
    },
    {
      "cell_type": "code",
      "metadata": {
        "id": "o9OZ70nxDPSb",
        "colab_type": "code",
        "colab": {}
      },
      "source": [
        "Part 6: Text mining"
      ],
      "execution_count": 0,
      "outputs": []
    },
    {
      "cell_type": "markdown",
      "metadata": {
        "id": "MQTeHQRTDPSe",
        "colab_type": "text"
      },
      "source": [
        "In this part of the project we will perform text mining."
      ]
    },
    {
      "cell_type": "markdown",
      "metadata": {
        "id": "4mEOLbLNDPSf",
        "colab_type": "text"
      },
      "source": [
        "Now, we will show the most common words from the latest statements of the death row candidates and sort them by each race of those candidates."
      ]
    },
    {
      "cell_type": "code",
      "metadata": {
        "id": "Uvz3dJtgDPSf",
        "colab_type": "code",
        "outputId": "7510952b-7080-45e8-aaf3-f35d29de5742",
        "colab": {}
      },
      "source": [
        "# !pip install wordcloud\n",
        "from wordcloud import STOPWORDS, WordCloud\n",
        "from PIL import Image\n",
        "import pandas as pd\n",
        "import re\n",
        "import nltk  # Natural Language Tool Kit\n",
        "# nltk.download('words')\n",
        "from nltk.corpus import words\n",
        "# nltk.download(\"stopwords\")\n",
        "#from wordcloud import WordCloud, STOPWORDS, ImageColorGenerator\n",
        "\n",
        "# nltk.download(\"stopwords\")\n",
        "# nltk.download('punkt')\n",
        "# nltk.download('wordnet')\n",
        "\n",
        "from nltk.corpus import stopwords # We are importing 'stopwords'\n",
        "from sklearn.feature_extraction.text import CountVectorizer\n",
        "from sklearn.model_selection import train_test_split\n",
        "from sklearn.naive_bayes import GaussianNB\n",
        "import numpy as np\n",
        "import matplotlib.pyplot as plt\n",
        "from matplotlib.gridspec import GridSpec\n",
        "import seaborn as sns\n",
        "\n",
        "# Read CVS file and store in variable\n",
        "df = pd.read_csv(\"./Texas Last Statement - CSV.csv\", encoding='latin1')\n",
        "\n",
        "statementList = []\n",
        "blackList = []\n",
        "whiteList = []\n",
        "hispanicList = []\n",
        "otherList = []\n",
        "lemmatization = nltk.WordNetLemmatizer()\n",
        "statementList = df['LastStatement']\n",
        "raceList = df['Race']\n",
        "# get and generate all statments list of last confession and devide it per race of offender\n",
        "for index in range(0, len(statementList)):\n",
        "    msg = ''\n",
        "    msg = re.sub(\"[^a-zA-Z]\", \" \", statementList[index])\n",
        "    msg = statementList[index].lower()\n",
        "    msg = nltk.word_tokenize(msg)\n",
        "    msg = [i for i in msg if not i in set(stopwords.words(\"english\"))]\n",
        "    msg = [lemmatization.lemmatize(i)for i in msg]\n",
        "    msg = \" \".join(msg)\n",
        "    if raceList[index] == 'Hispanic':\n",
        "        hispanicList.append(msg)\n",
        "    elif raceList[index] == 'White':\n",
        "        whiteList.append(msg)\n",
        "    elif raceList[index] == 'Black':\n",
        "        blackList.append(msg)\n",
        "    elif raceList[index] == 'Other':\n",
        "        otherList.append(msg)\n",
        "\n",
        "statementList = whiteList + blackList + hispanicList + otherList\n",
        "\n",
        "countVectorizer = CountVectorizer(max_features=100)\n",
        "sparceMatrix = countVectorizer.fit_transform(whiteList)\n",
        "sparceMatrix = sparceMatrix.toarray()\n",
        "print(\"White Most Frequent 100 Words: {}\".format(countVectorizer.get_feature_names()))\n",
        "whiteList = format(countVectorizer.get_feature_names())\n",
        "\n",
        "\n",
        "countVectorizer = CountVectorizer(max_features=100)\n",
        "sparceMatrix = countVectorizer.fit_transform(blackList)\n",
        "sparceMatrix = sparceMatrix.toarray()\n",
        "print(\"Black Most Frequent 100 Words: {}\".format(countVectorizer.get_feature_names()))\n",
        "blackList = format(countVectorizer.get_feature_names())\n",
        "\n",
        "\n",
        "countVectorizer = CountVectorizer(max_features=100)\n",
        "sparceMatrix = countVectorizer.fit_transform(hispanicList)\n",
        "sparceMatrix = sparceMatrix.toarray()\n",
        "print(\"Hispanic Most Frequent 100 Words: {}\".format(countVectorizer.get_feature_names()))\n",
        "hispanicList = format(countVectorizer.get_feature_names())\n",
        "\n",
        "# right a sentence and cheak which race more likely to say\n",
        "sentence = \"AMEN Hate bless allah\"\n",
        "sentence = sentence.lower()\n",
        "sentence = sentence.split()\n",
        "\n",
        "\n",
        "\n",
        "blackCounter = 0\n",
        "whiteCounter = 0\n",
        "hispanicCounter = 0\n",
        "\n",
        "for word in sentence:\n",
        "    if word in whiteList:\n",
        "        \n",
        "        whiteCounter += 1\n",
        "    if word in blackList:\n",
        "        \n",
        "        blackCounter += 1\n",
        "    if word in hispanicList:\n",
        "        \n",
        "        hispanicCounter += 1\n",
        "if whiteCounter > blackCounter and whiteCounter > hispanicCounter:\n",
        "    print('white')\n",
        "elif blackCounter > whiteCounter and blackCounter > hispanicCounter:\n",
        "    print('black')\n",
        "elif hispanicCounter > whiteCounter and hispanicCounter > blackCounter:\n",
        "    print('hispanic')\n",
        "else:\n",
        "    print('all')"
      ],
      "execution_count": 0,
      "outputs": [
        {
          "output_type": "stream",
          "text": [
            "White Most Frequent 100 Words: ['all', 'always', 'anything', 'apologize', 'ask', 'back', 'bless', 'ca', 'care', 'caused', 'christ', 'closure', 'come', 'coming', 'could', 'day', 'death', 'done', 'everybody', 'everyone', 'everything', 'family', 'father', 'feel', 'find', 'first', 'forgive', 'forgiveness', 'friend', 'get', 'give', 'go', 'god', 'going', 'good', 'goodbye', 'got', 'heart', 'heaven', 'home', 'hope', 'innocent', 'jesus', 'keep', 'know', 'let', 'life', 'like', 'll', 'lord', 'lot', 'love', 'loved', 'make', 'man', 'mom', 'much', 'never', 'none', 'nothing', 'one', 'pain', 'peace', 'people', 'please', 'pray', 'ready', 'really', 'right', 'row', 'said', 'say', 'see', 'shall', 'sin', 'sir', 'sorry', 'still', 'strong', 'support', 'take', 'tell', 'thank', 'thing', 'think', 'time', 'today', 'truth', 've', 'victim', 'want', 'warden', 'way', 'wish', 'world', 'would', 'wrong', 'ya', 'year', 'yes']\n",
            "Black Most Frequent 100 Words: ['all', 'allah', 'alright', 'always', 'appreciate', 'ask', 'back', 'brother', 'ca', 'care', 'caused', 'christ', 'come', 'continue', 'could', 'day', 'death', 'done', 'everybody', 'everyone', 'family', 'father', 'find', 'forgive', 'forgiveness', 'friend', 'get', 'give', 'go', 'god', 'going', 'got', 'hate', 'head', 'heart', 'help', 'hold', 'home', 'hope', 'innocent', 'jesus', 'justice', 'keep', 'kill', 'killing', 'know', 'let', 'life', 'like', 'live', 'll', 'lord', 'lot', 'love', 'loved', 'make', 'man', 'may', 'mean', 'mom', 'mr', 'murder', 'must', 'name', 'never', 'none', 'nothing', 'one', 'pain', 'peace', 'people', 'please', 'pray', 'ready', 'really', 'right', 'row', 'say', 'see', 'sister', 'son', 'sorry', 'statement', 'stay', 'strong', 'support', 'take', 'tell', 'thank', 'thing', 'time', 'tonight', 'want', 'warden', 'way', 'world', 'would', 'ya', 'year', 'yes']\n",
            "Hispanic Most Frequent 100 Words: ['all', 'always', 'amen', 'apologize', 'ask', 'back', 'bless', 'brother', 'care', 'caused', 'child', 'christ', 'come', 'day', 'death', 'done', 'everybody', 'everyone', 'everything', 'family', 'father', 'find', 'first', 'forgive', 'forgiveness', 'friend', 'get', 'give', 'go', 'god', 'going', 'good', 'happened', 'happy', 'hate', 'heart', 'heaven', 'help', 'holy', 'home', 'hope', 'innocent', 'jesus', 'keep', 'kid', 'kill', 'know', 'let', 'life', 'like', 'll', 'lord', 'love', 'loved', 'man', 'may', 'mom', 'much', 'need', 'never', 'none', 'nothing', 'officer', 'ok', 'one', 'pain', 'peace', 'people', 'please', 'ready', 'right', 'row', 'said', 'say', 'see', 'sir', 'sister', 'sorry', 'spirit', 'stay', 'still', 'strong', 'support', 'take', 'tell', 'thank', 'thanks', 'thing', 'thy', 'time', 've', 'waiting', 'want', 'warden', 'way', 'wish', 'would', 'ya', 'year', 'yes']\n",
            "hispanic\n"
          ],
          "name": "stdout"
        }
      ]
    },
    {
      "cell_type": "markdown",
      "metadata": {
        "id": "Nl2Q9G3VDPSj",
        "colab_type": "text"
      },
      "source": [
        "show most frequent 100 words not related to the diffrents races."
      ]
    },
    {
      "cell_type": "code",
      "metadata": {
        "id": "s5AyxeUEDPSk",
        "colab_type": "code",
        "outputId": "8692ad76-4411-4afd-acbf-6ad677290207",
        "colab": {}
      },
      "source": [
        "lastword = df[\"LastStatement\"]\n",
        "wordcloud_q = WordCloud(\n",
        "                          background_color='white',\n",
        "                          stopwords=set(STOPWORDS),\n",
        "                          max_words=100,\n",
        "                          max_font_size=40,\n",
        "                          random_state=1705\n",
        "                         ).generate(str(lastword))\n",
        "fig = plt.figure(1, figsize=(20, 15))\n",
        "plt.imshow(wordcloud_q)\n",
        "plt.axis('off')\n",
        "plt.show()"
      ],
      "execution_count": 0,
      "outputs": [
        {
          "output_type": "display_data",
          "data": {
            "image/png": "[encoded data removed]",
            "text/plain": [
              "<Figure size 1440x1080 with 1 Axes>"
            ]
          },
          "metadata": {
            "tags": [],
            "needs_background": "light"
          }
        }
      ]
    },
    {
      "cell_type": "markdown",
      "metadata": {
        "id": "7vcSTbKwDPSn",
        "colab_type": "text"
      },
      "source": [
        "Now through Sentiment Intensity Analyzer we are going to sort out the letters of confessions by negative, positive and neutral emotions."
      ]
    },
    {
      "cell_type": "code",
      "metadata": {
        "id": "EfkCyTUODPSn",
        "colab_type": "code",
        "outputId": "c5524c3c-b56b-4b1c-cad6-a141e5a0231a",
        "colab": {}
      },
      "source": [
        "nltk.download('vader_lexicon')\n",
        "\n",
        "from nltk.sentiment.vader import SentimentIntensityAnalyzer\n",
        "from nltk.sentiment.util import*\n",
        "senti = SentimentIntensityAnalyzer()\n",
        "\n",
        "df['Senti_Compound_Score'] = df['LastStatement'].apply(lambda x : senti.polarity_scores(x)['compound'])\n",
        "df['Neutral_score'] = df['LastStatement'].apply(lambda x : senti.polarity_scores(x)['neu'])\n",
        "df['Positive_score'] = df['LastStatement'].apply(lambda x : senti.polarity_scores(x)['pos'])\n",
        "df['Negative_score'] = df['LastStatement'].apply(lambda x : senti.polarity_scores(x)['neg'])\n",
        "\n",
        "df.loc[df.Senti_Compound_Score >0 ,'Overall_Sentiment']='Positive'\n",
        "df.loc[df.Senti_Compound_Score == 0, 'Overall_Sentiment'] = 'Neutral'\n",
        "df.loc[df.Senti_Compound_Score < 0,'Overall_Sentiment'] = 'Negative'\n",
        "\n",
        "plt.figure(figsize=(10,5))\n",
        "df.Overall_Sentiment.value_counts().plot(kind='bar',title=\"Sentimental Last Statement\")\n",
        "plt.show()"
      ],
      "execution_count": 0,
      "outputs": [
        {
          "output_type": "stream",
          "text": [
            "[nltk_data] Downloading package vader_lexicon to\n",
            "[nltk_data]     C:\\Users\\user\\AppData\\Roaming\\nltk_data...\n"
          ],
          "name": "stderr"
        },
        {
          "output_type": "display_data",
          "data": {
            "image/png": "[encoded data removed]",
            "text/plain": [
              "<Figure size 720x360 with 1 Axes>"
            ]
          },
          "metadata": {
            "tags": [],
            "needs_background": "light"
          }
        }
      ]
    },
    {
      "cell_type": "code",
      "metadata": {
        "id": "z2CD5QQHDPSq",
        "colab_type": "code",
        "colab": {}
      },
      "source": [
        "Surprisingly, most of the last statements are with positive attitude."
      ],
      "execution_count": 0,
      "outputs": []
    },
    {
      "cell_type": "code",
      "metadata": {
        "id": "SzlgTOhiDPSr",
        "colab_type": "code",
        "outputId": "fc2fcec4-9ec5-42fb-8cfb-55350137462f",
        "colab": {}
      },
      "source": [
        "pic3 = Image(url= '3.jpg' ,width=500,height=600)\n",
        "pic3"
      ],
      "execution_count": 0,
      "outputs": [
        {
          "output_type": "execute_result",
          "data": {
            "text/html": [
              "<img src=\"3.jpg\" width=\"500\" height=\"600\"/>"
            ],
            "text/plain": [
              "<IPython.core.display.Image object>"
            ]
          },
          "metadata": {
            "tags": []
          },
          "execution_count": 41
        }
      ]
    },
    {
      "cell_type": "markdown",
      "metadata": {
        "id": "QlXqOuzrDPSt",
        "colab_type": "text"
      },
      "source": [
        "In this section we want to predict the gender of candidates by their first name using the n-gram algorithm we learned in the class."
      ]
    },
    {
      "cell_type": "code",
      "metadata": {
        "id": "ogGn0IPkDPSt",
        "colab_type": "code",
        "outputId": "02954248-511e-4b3b-b37e-dd28062c6d03",
        "colab": {}
      },
      "source": [
        "import nltk\n",
        "from nltk.corpus import stopwords\n",
        "from sklearn.feature_extraction.text import TfidfVectorizer,CountVectorizer\n",
        "from sklearn.feature_extraction import DictVectorizer\n",
        "from sklearn.linear_model import LogisticRegression,SGDClassifier\n",
        "#from sklearn.cross_validation import cross_val_predict\n",
        "from sklearn.model_selection import train_test_split\n",
        "from sklearn import preprocessing\n",
        "from nltk.tokenize import word_tokenize,sent_tokenize,RegexpTokenizer\n",
        "from nltk.text import Text\n",
        "from nltk.util import ngrams\n",
        "from operator import itemgetter\n",
        "from nltk import FreqDist\n",
        "from sklearn.naive_bayes import MultinomialNB\n",
        "%matplotlib inline\n",
        "\n",
        "\n",
        "df = pd.read_csv(\"death-row.csv\" , encoding='latin1')\n",
        "df = df.dropna()\n",
        "df = df.rename({'First Name': 'FirstName'}, axis=1)\n",
        "df['FirstName'] = df['FirstName'].str.strip()\n",
        "df.head()"
      ],
      "execution_count": 0,
      "outputs": [
        {
          "output_type": "execute_result",
          "data": {
            "text/html": [
              "<div>\n",
              "<style scoped>\n",
              "    .dataframe tbody tr th:only-of-type {\n",
              "        vertical-align: middle;\n",
              "    }\n",
              "\n",
              "    .dataframe tbody tr th {\n",
              "        vertical-align: top;\n",
              "    }\n",
              "\n",
              "    .dataframe thead th {\n",
              "        text-align: right;\n",
              "    }\n",
              "</style>\n",
              "<table border=\"1\" class=\"dataframe\">\n",
              "  <thead>\n",
              "    <tr style=\"text-align: right;\">\n",
              "      <th></th>\n",
              "      <th>TDCJ Number</th>\n",
              "      <th>Link</th>\n",
              "      <th>Last Name</th>\n",
              "      <th>FirstName</th>\n",
              "      <th>Date of Birth</th>\n",
              "      <th>Gender</th>\n",
              "      <th>Race</th>\n",
              "      <th>Date Received</th>\n",
              "      <th>County</th>\n",
              "      <th>Date of Offense</th>\n",
              "    </tr>\n",
              "  </thead>\n",
              "  <tbody>\n",
              "    <tr>\n",
              "      <th>0</th>\n",
              "      <td>999606</td>\n",
              "      <td>Offender Information</td>\n",
              "      <td>Colone</td>\n",
              "      <td>Joseph</td>\n",
              "      <td>08/13/1978</td>\n",
              "      <td>M</td>\n",
              "      <td>Black</td>\n",
              "      <td>05/09/2017</td>\n",
              "      <td>Jefferson</td>\n",
              "      <td>07/31/2010</td>\n",
              "    </tr>\n",
              "    <tr>\n",
              "      <th>1</th>\n",
              "      <td>999605</td>\n",
              "      <td>Offender Information</td>\n",
              "      <td>Falk</td>\n",
              "      <td>John</td>\n",
              "      <td>11/19/1966</td>\n",
              "      <td>M</td>\n",
              "      <td>White</td>\n",
              "      <td>03/01/2017</td>\n",
              "      <td>Walker</td>\n",
              "      <td>09/24/2007</td>\n",
              "    </tr>\n",
              "    <tr>\n",
              "      <th>2</th>\n",
              "      <td>999604</td>\n",
              "      <td>Offender Information</td>\n",
              "      <td>Wells, III</td>\n",
              "      <td>Amos</td>\n",
              "      <td>08/20/1990</td>\n",
              "      <td>M</td>\n",
              "      <td>Black</td>\n",
              "      <td>11/22/2016</td>\n",
              "      <td>Tarrant</td>\n",
              "      <td>07/01/2013</td>\n",
              "    </tr>\n",
              "    <tr>\n",
              "      <th>3</th>\n",
              "      <td>999603</td>\n",
              "      <td>Offender Information</td>\n",
              "      <td>Brownlow</td>\n",
              "      <td>Charles</td>\n",
              "      <td>09/16/1977</td>\n",
              "      <td>M</td>\n",
              "      <td>Black</td>\n",
              "      <td>05/23/2016</td>\n",
              "      <td>Kaufman</td>\n",
              "      <td>10/28/2013</td>\n",
              "    </tr>\n",
              "    <tr>\n",
              "      <th>4</th>\n",
              "      <td>999602</td>\n",
              "      <td>Offender Information</td>\n",
              "      <td>Bluntson</td>\n",
              "      <td>Demond</td>\n",
              "      <td>11/25/1975</td>\n",
              "      <td>M</td>\n",
              "      <td>Black</td>\n",
              "      <td>05/10/2016</td>\n",
              "      <td>Webb</td>\n",
              "      <td>06/19/2012</td>\n",
              "    </tr>\n",
              "  </tbody>\n",
              "</table>\n",
              "</div>"
            ],
            "text/plain": [
              "   TDCJ Number                  Link   Last Name FirstName Date of Birth  \\\n",
              "0       999606  Offender Information      Colone    Joseph    08/13/1978   \n",
              "1       999605  Offender Information        Falk      John    11/19/1966   \n",
              "2       999604  Offender Information  Wells, III      Amos    08/20/1990   \n",
              "3       999603  Offender Information    Brownlow   Charles    09/16/1977   \n",
              "4       999602  Offender Information    Bluntson    Demond    11/25/1975   \n",
              "\n",
              "  Gender   Race Date Received     County Date of Offense  \n",
              "0      M  Black    05/09/2017  Jefferson      07/31/2010  \n",
              "1      M  White    03/01/2017     Walker      09/24/2007  \n",
              "2      M  Black    11/22/2016    Tarrant      07/01/2013  \n",
              "3      M  Black    05/23/2016    Kaufman      10/28/2013  \n",
              "4      M  Black    05/10/2016       Webb      06/19/2012  "
            ]
          },
          "metadata": {
            "tags": []
          },
          "execution_count": 33
        }
      ]
    },
    {
      "cell_type": "code",
      "metadata": {
        "id": "EmLNmWxZDPSv",
        "colab_type": "code",
        "outputId": "ca9f6c17-bfad-44c0-e685-e590299d7f75",
        "colab": {}
      },
      "source": [
        "binary_map = { 'M':'1', 'F':'0'}             \n",
        "df['Gender'] = df['Gender'].replace(binary_map)\n",
        "df_clean = df.loc[:,['Gender' , \"FirstName\" ]]\n",
        "df_clean['FirstName'] = df_clean.FirstName.map(lambda FirstName: FirstName.lower())\n",
        "print (\"the Length is: \",len(df_clean))\n",
        "df_clean.head()"
      ],
      "execution_count": 0,
      "outputs": [
        {
          "output_type": "stream",
          "text": [
            "the Length is:  238\n"
          ],
          "name": "stdout"
        },
        {
          "output_type": "execute_result",
          "data": {
            "text/html": [
              "<div>\n",
              "<style scoped>\n",
              "    .dataframe tbody tr th:only-of-type {\n",
              "        vertical-align: middle;\n",
              "    }\n",
              "\n",
              "    .dataframe tbody tr th {\n",
              "        vertical-align: top;\n",
              "    }\n",
              "\n",
              "    .dataframe thead th {\n",
              "        text-align: right;\n",
              "    }\n",
              "</style>\n",
              "<table border=\"1\" class=\"dataframe\">\n",
              "  <thead>\n",
              "    <tr style=\"text-align: right;\">\n",
              "      <th></th>\n",
              "      <th>Gender</th>\n",
              "      <th>FirstName</th>\n",
              "    </tr>\n",
              "  </thead>\n",
              "  <tbody>\n",
              "    <tr>\n",
              "      <th>0</th>\n",
              "      <td>1</td>\n",
              "      <td>joseph</td>\n",
              "    </tr>\n",
              "    <tr>\n",
              "      <th>1</th>\n",
              "      <td>1</td>\n",
              "      <td>john</td>\n",
              "    </tr>\n",
              "    <tr>\n",
              "      <th>2</th>\n",
              "      <td>1</td>\n",
              "      <td>amos</td>\n",
              "    </tr>\n",
              "    <tr>\n",
              "      <th>3</th>\n",
              "      <td>1</td>\n",
              "      <td>charles</td>\n",
              "    </tr>\n",
              "    <tr>\n",
              "      <th>4</th>\n",
              "      <td>1</td>\n",
              "      <td>demond</td>\n",
              "    </tr>\n",
              "  </tbody>\n",
              "</table>\n",
              "</div>"
            ],
            "text/plain": [
              "  Gender FirstName\n",
              "0      1    joseph\n",
              "1      1      john\n",
              "2      1      amos\n",
              "3      1   charles\n",
              "4      1    demond"
            ]
          },
          "metadata": {
            "tags": []
          },
          "execution_count": 34
        }
      ]
    },
    {
      "cell_type": "code",
      "metadata": {
        "id": "-IzLaa4rDPSx",
        "colab_type": "code",
        "colab": {}
      },
      "source": [
        "generated_4grams = []\n",
        "\n",
        "for word in df_clean.FirstName:\n",
        "    generated_4grams.append(list(ngrams(word, 4, pad_left=True, pad_right=True, left_pad_symbol='_', right_pad_symbol='_'))) # n = 4.\n",
        "generated_4grams\n",
        "df_clean['words'] = generated_4grams\n",
        "ng_list_4grams=generated_4grams\n",
        "for idx, val in enumerate(generated_4grams):\n",
        "    ng_list_4grams[idx] = (val)\n",
        "ng_list_4grams\n",
        "df_clean['words'] = ng_list_4grams"
      ],
      "execution_count": 0,
      "outputs": []
    },
    {
      "cell_type": "code",
      "metadata": {
        "id": "-hIGO-neDPSy",
        "colab_type": "code",
        "outputId": "1c5bb7d1-4114-4d57-b4ab-f6e69afc47e3",
        "colab": {}
      },
      "source": [
        "rows = list()\n",
        "for row in df_clean[['Gender','words']].iterrows():\n",
        "    r = row[1]\n",
        "    for word in r.words:\n",
        "        rows.append((r.Gender,word))\n",
        "        \n",
        "words = pd.DataFrame(rows,columns=['Gender','words'])\n",
        "words.words"
      ],
      "execution_count": 0,
      "outputs": [
        {
          "output_type": "execute_result",
          "data": {
            "text/plain": [
              "0       (_, _, _, j)\n",
              "1       (_, _, j, o)\n",
              "2       (_, j, o, s)\n",
              "3       (j, o, s, e)\n",
              "4       (o, s, e, p)\n",
              "5       (s, e, p, h)\n",
              "6       (e, p, h, _)\n",
              "7       (p, h, _, _)\n",
              "8       (h, _, _, _)\n",
              "9       (_, _, _, j)\n",
              "10      (_, _, j, o)\n",
              "11      (_, j, o, h)\n",
              "12      (j, o, h, n)\n",
              "13      (o, h, n, _)\n",
              "14      (h, n, _, _)\n",
              "15      (n, _, _, _)\n",
              "16      (_, _, _, a)\n",
              "17      (_, _, a, m)\n",
              "18      (_, a, m, o)\n",
              "19      (a, m, o, s)\n",
              "20      (m, o, s, _)\n",
              "21      (o, s, _, _)\n",
              "22      (s, _, _, _)\n",
              "23      (_, _, _, c)\n",
              "24      (_, _, c, h)\n",
              "25      (_, c, h, a)\n",
              "26      (c, h, a, r)\n",
              "27      (h, a, r, l)\n",
              "28      (a, r, l, e)\n",
              "29      (r, l, e, s)\n",
              "            ...     \n",
              "2059    (_, _, _, c)\n",
              "2060    (_, _, c, l)\n",
              "2061    (_, c, l, a)\n",
              "2062    (c, l, a, r)\n",
              "2063    (l, a, r, e)\n",
              "2064    (a, r, e, n)\n",
              "2065    (r, e, n, c)\n",
              "2066    (e, n, c, e)\n",
              "2067    (n, c, e, _)\n",
              "2068    (c, e, _, _)\n",
              "2069    (e, _, _, _)\n",
              "2070    (_, _, _, h)\n",
              "2071    (_, _, h, a)\n",
              "2072    (_, h, a, r)\n",
              "2073    (h, a, r, v)\n",
              "2074    (a, r, v, e)\n",
              "2075    (r, v, e, y)\n",
              "2076    (v, e, y, _)\n",
              "2077    (e, y, _, _)\n",
              "2078    (y, _, _, _)\n",
              "2079    (_, _, _, r)\n",
              "2080    (_, _, r, a)\n",
              "2081    (_, r, a, y)\n",
              "2082    (r, a, y, m)\n",
              "2083    (a, y, m, o)\n",
              "2084    (y, m, o, n)\n",
              "2085    (m, o, n, d)\n",
              "2086    (o, n, d, _)\n",
              "2087    (n, d, _, _)\n",
              "2088    (d, _, _, _)\n",
              "Name: words, Length: 2089, dtype: object"
            ]
          },
          "metadata": {
            "tags": []
          },
          "execution_count": 36
        }
      ]
    },
    {
      "cell_type": "code",
      "metadata": {
        "id": "x0VEh1hCDPS0",
        "colab_type": "code",
        "colab": {}
      },
      "source": [
        "my_features = {}\n",
        "my_features = words.words.apply(lambda row: row)"
      ],
      "execution_count": 0,
      "outputs": []
    },
    {
      "cell_type": "code",
      "metadata": {
        "id": "fczJZuBQDPS1",
        "colab_type": "code",
        "outputId": "bb368dc0-d5b1-4a4f-e544-b6bec80c2db0",
        "colab": {}
      },
      "source": [
        "ng_list_4grams = my_features\n",
        "for idx, val in enumerate(my_features):\n",
        "    ng_list_4grams[idx] = ''.join(val)\n",
        "ng_list_4grams"
      ],
      "execution_count": 0,
      "outputs": [
        {
          "output_type": "execute_result",
          "data": {
            "text/plain": [
              "0       ___j\n",
              "1       __jo\n",
              "2       _jos\n",
              "3       jose\n",
              "4       osep\n",
              "5       seph\n",
              "6       eph_\n",
              "7       ph__\n",
              "8       h___\n",
              "9       ___j\n",
              "10      __jo\n",
              "11      _joh\n",
              "12      john\n",
              "13      ohn_\n",
              "14      hn__\n",
              "15      n___\n",
              "16      ___a\n",
              "17      __am\n",
              "18      _amo\n",
              "19      amos\n",
              "20      mos_\n",
              "21      os__\n",
              "22      s___\n",
              "23      ___c\n",
              "24      __ch\n",
              "25      _cha\n",
              "26      char\n",
              "27      harl\n",
              "28      arle\n",
              "29      rles\n",
              "        ... \n",
              "2059    ___c\n",
              "2060    __cl\n",
              "2061    _cla\n",
              "2062    clar\n",
              "2063    lare\n",
              "2064    aren\n",
              "2065    renc\n",
              "2066    ence\n",
              "2067    nce_\n",
              "2068    ce__\n",
              "2069    e___\n",
              "2070    ___h\n",
              "2071    __ha\n",
              "2072    _har\n",
              "2073    harv\n",
              "2074    arve\n",
              "2075    rvey\n",
              "2076    vey_\n",
              "2077    ey__\n",
              "2078    y___\n",
              "2079    ___r\n",
              "2080    __ra\n",
              "2081    _ray\n",
              "2082    raym\n",
              "2083    aymo\n",
              "2084    ymon\n",
              "2085    mond\n",
              "2086    ond_\n",
              "2087    nd__\n",
              "2088    d___\n",
              "Name: words, Length: 2089, dtype: object"
            ]
          },
          "metadata": {
            "tags": []
          },
          "execution_count": 38
        }
      ]
    },
    {
      "cell_type": "code",
      "metadata": {
        "id": "9V-olvddDPS3",
        "colab_type": "code",
        "outputId": "cc8a5546-a5d3-47f1-b4b7-6ced72d6ab90",
        "colab": {}
      },
      "source": [
        "freq_4grams = {}\n",
        "\n",
        "for ngram in ng_list_4grams:\n",
        "    if ngram not in freq_4grams:\n",
        "        freq_4grams.update({ngram: 1})\n",
        "    else:\n",
        "        ngram_occurrences = freq_4grams[ngram]\n",
        "        freq_4grams.update({ngram: ngram_occurrences + 1})\n",
        "        \n",
        "from operator import itemgetter # The operator module exports a set of efficient functions corresponding to the intrinsic operators of Python. For example, operator.add(x, y) is equivalent to the expression x + y.\n",
        "\n",
        "freq_4grams_sorted = sorted(freq_4grams.items(), key=itemgetter(1), reverse=True)[0:238] # We only keep the 238 most popular n-grams. This was suggested in the original paper written about n-grams.\n",
        "freq_4grams_sorted"
      ],
      "execution_count": 0,
      "outputs": [
        {
          "output_type": "execute_result",
          "data": {
            "text/plain": [
              "[('n___', 45),\n",
              " ('___j', 37),\n",
              " ('y___', 32),\n",
              " ('___r', 31),\n",
              " ('s___', 26),\n",
              " ('e___', 21),\n",
              " ('l___', 20),\n",
              " ('__jo', 19),\n",
              " ('___a', 18),\n",
              " ('d___', 18),\n",
              " ('___c', 17),\n",
              " ('o___', 16),\n",
              " ('___d', 15),\n",
              " ('__ro', 15),\n",
              " ('___b', 14),\n",
              " ('___t', 14),\n",
              " ('t___', 13),\n",
              " ('___m', 12),\n",
              " ('an__', 12),\n",
              " ('bert', 12),\n",
              " ('es__', 11),\n",
              " ('en__', 11),\n",
              " ('ry__', 11),\n",
              " ('r___', 11),\n",
              " ('___p', 10),\n",
              " ('___g', 10),\n",
              " ('ert_', 10),\n",
              " ('rt__', 10),\n",
              " ('ober', 10),\n",
              " ('h___', 9),\n",
              " ('_joh', 9),\n",
              " ('john', 9),\n",
              " ('ohn_', 9),\n",
              " ('hn__', 9),\n",
              " ('___e', 9),\n",
              " ('___s', 9),\n",
              " ('__ju', 9),\n",
              " ('on__', 9),\n",
              " ('___w', 9),\n",
              " ('_rob', 9),\n",
              " ('robe', 9),\n",
              " ('__da', 9),\n",
              " ('__ch', 8),\n",
              " ('k___', 8),\n",
              " ('__ra', 8),\n",
              " ('ny__', 8),\n",
              " ('char', 7),\n",
              " ('_jua', 7),\n",
              " ('juan', 7),\n",
              " ('uan_', 7),\n",
              " ('el__', 7),\n",
              " ('illi', 7),\n",
              " ('__an', 7),\n",
              " ('_jos', 6),\n",
              " ('jose', 6),\n",
              " ('harl', 6),\n",
              " ('arle', 6),\n",
              " ('__ma', 6),\n",
              " ('__ja', 6),\n",
              " ('__pa', 6),\n",
              " ('ul__', 6),\n",
              " ('eric', 6),\n",
              " ('__st', 6),\n",
              " ('_ste', 6),\n",
              " ('__br', 6),\n",
              " ('___h', 6),\n",
              " ('m___', 6),\n",
              " ('__wi', 6),\n",
              " ('_wil', 6),\n",
              " ('will', 6),\n",
              " ('rick', 6),\n",
              " ('___k', 6),\n",
              " ('__ar', 6),\n",
              " ('___l', 6),\n",
              " ('ony_', 6),\n",
              " ('rry_', 6),\n",
              " ('osep', 5),\n",
              " ('seph', 5),\n",
              " ('eph_', 5),\n",
              " ('ph__', 5),\n",
              " ('_cha', 5),\n",
              " ('rles', 5),\n",
              " ('les_', 5),\n",
              " ('_jam', 5),\n",
              " ('jame', 5),\n",
              " ('ames', 5),\n",
              " ('mes_', 5),\n",
              " ('aul_', 5),\n",
              " ('stev', 5),\n",
              " ('teve', 5),\n",
              " ('even', 5),\n",
              " ('ven_', 5),\n",
              " ('___f', 5),\n",
              " ('us__', 5),\n",
              " ('__ge', 5),\n",
              " ('ie__', 5),\n",
              " ('__ri', 5),\n",
              " ('ick_', 5),\n",
              " ('ck__', 5),\n",
              " ('__tr', 5),\n",
              " ('ald_', 5),\n",
              " ('ld__', 5),\n",
              " ('do__', 5),\n",
              " ('_ant', 5),\n",
              " ('anth', 5),\n",
              " ('ntho', 5),\n",
              " ('thon', 5),\n",
              " ('hony', 5),\n",
              " ('__de', 4),\n",
              " ('nd__', 4),\n",
              " ('_mar', 4),\n",
              " ('_pau', 4),\n",
              " ('paul', 4),\n",
              " ('__er', 4),\n",
              " ('_eri', 4),\n",
              " ('_bri', 4),\n",
              " ('in__', 4),\n",
              " ('lie_', 4),\n",
              " ('__mi', 4),\n",
              " ('arth', 4),\n",
              " ('_ric', 4),\n",
              " ('ey__', 4),\n",
              " ('ne__', 4),\n",
              " ('_tra', 4),\n",
              " ('is__', 4),\n",
              " ('nald', 4),\n",
              " ('ton_', 4),\n",
              " ('a___', 4),\n",
              " ('er__', 4),\n",
              " ('icha', 4),\n",
              " ('ard_', 4),\n",
              " ('rd__', 4),\n",
              " ('ro__', 4),\n",
              " ('llia', 4),\n",
              " ('liam', 4),\n",
              " ('iam_', 4),\n",
              " ('am__', 4),\n",
              " ('_dav', 4),\n",
              " ('davi', 4),\n",
              " ('avid', 4),\n",
              " ('vid_', 4),\n",
              " ('id__', 4),\n",
              " ('__bi', 4),\n",
              " ('_bil', 4),\n",
              " ('bill', 4),\n",
              " ('__pe', 4),\n",
              " ('_art', 4),\n",
              " ('os__', 3),\n",
              " ('_dem', 3),\n",
              " ('mond', 3),\n",
              " ('ond_', 3),\n",
              " ('mark', 3),\n",
              " ('ark_', 3),\n",
              " ('rk__', 3),\n",
              " ('ric_', 3),\n",
              " ('ic__', 3),\n",
              " ('c___', 3),\n",
              " ('ian_', 3),\n",
              " ('__je', 3),\n",
              " ('rand', 3),\n",
              " ('orge', 3),\n",
              " ('rge_', 3),\n",
              " ('ge__', 3),\n",
              " ('llie', 3),\n",
              " ('_mic', 3),\n",
              " ('ah__', 3),\n",
              " ('_rod', 3),\n",
              " ('ly__', 3),\n",
              " ('__al', 3),\n",
              " ('trav', 3),\n",
              " ('ravi', 3),\n",
              " ('avis', 3),\n",
              " ('vis_', 3),\n",
              " ('__ga', 3),\n",
              " ('_gar', 3),\n",
              " ('onal', 3),\n",
              " ('ll__', 3),\n",
              " ('as__', 3),\n",
              " ('__ke', 3),\n",
              " ('__cl', 3),\n",
              " ('_joe', 3),\n",
              " ('_ger', 3),\n",
              " ('_ray', 3),\n",
              " ('___i', 3),\n",
              " ('erry', 3),\n",
              " ('__la', 3),\n",
              " ('_lar', 3),\n",
              " ('larr', 3),\n",
              " ('arry', 3),\n",
              " ('rthu', 3),\n",
              " ('thur', 3),\n",
              " ('hur_', 3),\n",
              " ('ur__', 3),\n",
              " ('__ca', 3),\n",
              " ('_car', 3),\n",
              " ('carl', 3),\n",
              " ('demo', 2),\n",
              " ('emon', 2),\n",
              " ('bria', 2),\n",
              " ('rian', 2),\n",
              " ('__ha', 2),\n",
              " ('_har', 2),\n",
              " ('cio_', 2),\n",
              " ('io__', 2),\n",
              " ('__ce', 2),\n",
              " ('_jef', 2),\n",
              " ('jeff', 2),\n",
              " ('effe', 2),\n",
              " ('ffer', 2),\n",
              " ('fery', 2),\n",
              " ('ery_', 2),\n",
              " ('ando', 2),\n",
              " ('_geo', 2),\n",
              " ('geor', 2),\n",
              " ('eorg', 2),\n",
              " ('ew__', 2),\n",
              " ('w___', 2),\n",
              " ('___o', 2),\n",
              " ('__ob', 2),\n",
              " ('bel_', 2),\n",
              " ('___n', 2),\n",
              " ('__te', 2),\n",
              " ('renc', 2),\n",
              " ('ence', 2),\n",
              " ('nce_', 2),\n",
              " ('ce__', 2),\n",
              " ('deri', 2),\n",
              " ('mber', 2),\n",
              " ('me__', 2),\n",
              " ('__do', 2),\n",
              " ('lton', 2),\n",
              " ('__fa', 2),\n",
              " ('ndo_', 2),\n",
              " ('__he', 2),\n",
              " ('ctor', 2),\n",
              " ('tor_', 2),\n",
              " ('or__', 2),\n",
              " ('_ran', 2)]"
            ]
          },
          "metadata": {
            "tags": []
          },
          "execution_count": 39
        }
      ]
    },
    {
      "cell_type": "code",
      "metadata": {
        "id": "myjCWoHnDPS7",
        "colab_type": "code",
        "outputId": "84ccddd7-6f5f-48ae-b764-90cb756a880c",
        "colab": {}
      },
      "source": [
        "features_dict = dict(freq_4grams_sorted)\n",
        "len(features_dict)"
      ],
      "execution_count": 0,
      "outputs": [
        {
          "output_type": "execute_result",
          "data": {
            "text/plain": [
              "238"
            ]
          },
          "metadata": {
            "tags": []
          },
          "execution_count": 40
        }
      ]
    },
    {
      "cell_type": "code",
      "metadata": {
        "id": "PGACD4SoDPS8",
        "colab_type": "code",
        "colab": {}
      },
      "source": [
        "#this function converts name to a feature vector \n",
        "def convert_name(name):\n",
        "    arr = np.zeros(26*26+814)\n",
        "    #26*26 all possiable 2-grams + 4 for last 1, 3, 3 excluding last\n",
        "    name = str(name)\n",
        "    #Iterate every 2 characters 2gram and caliculate the frequency of the 2gram\n",
        "    for x in range(len(name)-1):\n",
        "        ind = (ord(name[x])-ord('a'))*26 + (ord(name[x+1])-ord('a'))\n",
        "        arr[ind] += 1\n",
        "    return arr"
      ],
      "execution_count": 0,
      "outputs": []
    },
    {
      "cell_type": "code",
      "metadata": {
        "id": "CD353uDwDPS-",
        "colab_type": "code",
        "colab": {}
      },
      "source": [
        "name_map = np.vectorize(convert_name, otypes=[np.ndarray])\n",
        "Xlist = name_map(df_clean['FirstName'])\n",
        "X = np.array(Xlist.tolist())\n",
        "y = df_clean['Gender']"
      ],
      "execution_count": 0,
      "outputs": []
    },
    {
      "cell_type": "code",
      "metadata": {
        "id": "iImKd-wUDPTA",
        "colab_type": "code",
        "outputId": "d21adf9a-5159-4117-fe3a-38d2e4dcce2b",
        "colab": {}
      },
      "source": [
        "from sklearn.ensemble import RandomForestClassifier\n",
        "for x in range(1):\n",
        "    Xtr, Xte, ytr, yte = train_test_split(X, y, test_size=0.33)\n",
        "    clf = RandomForestClassifier(n_estimators=100, min_samples_split=2)\n",
        "    clf.fit(Xtr, ytr)\n",
        "    print(np.mean(clf.predict(Xte) == yte))"
      ],
      "execution_count": 0,
      "outputs": [
        {
          "output_type": "stream",
          "text": [
            "0.9493670886075949\n"
          ],
          "name": "stdout"
        }
      ]
    },
    {
      "cell_type": "code",
      "metadata": {
        "id": "YFMtu4phDPTC",
        "colab_type": "code",
        "colab": {}
      },
      "source": [
        "def assignGender(text):\n",
        "    xs = df_clean['FirstName']\n",
        "    ys = y\n",
        "    pred = clf.predict(X)\n",
        "    for name,Label,Predict in zip(xs,ys, pred):\n",
        "         print(name,Label,Predict)"
      ],
      "execution_count": 0,
      "outputs": []
    },
    {
      "cell_type": "code",
      "metadata": {
        "id": "GIAi4E5kDPTE",
        "colab_type": "code",
        "outputId": "cf6e0018-2d0c-42e6-ed2e-94841c414f8d",
        "colab": {}
      },
      "source": [
        "assignGender(df_clean)"
      ],
      "execution_count": 0,
      "outputs": [
        {
          "output_type": "stream",
          "text": [
            "joseph 1 1\n",
            "john 1 1\n",
            "amos 1 1\n",
            "charles 1 1\n",
            "demond 1 1\n",
            "mark 1 1\n",
            "james 1 1\n",
            "paul 1 1\n",
            "eric 1 1\n",
            "steven 1 1\n",
            "brian 1 1\n",
            "harlem 1 1\n",
            "fidencio 1 1\n",
            "cedric 1 1\n",
            "us 1 1\n",
            "jeffery 1 1\n",
            "juan 1 1\n",
            "brandon 1 1\n",
            "george 1 1\n",
            "james 1 1\n",
            "matthew 1 1\n",
            "franklin 1 1\n",
            "obel 1 1\n",
            "naim 1 1\n",
            "willie 1 1\n",
            "micah 1 1\n",
            "bartholomew 1 1\n",
            "terence 1 1\n",
            "rickey 1 1\n",
            "steven 1 1\n",
            "tyrone 1 1\n",
            "roderick 1 1\n",
            "kimberly 0 0\n",
            "mark 1 1\n",
            "kwame 1 1\n",
            "jaime 1 1\n",
            "tedderick 1 1\n",
            "john 1 1\n",
            "joseph 1 1\n",
            "albert 1 1\n",
            "areli 1 1\n",
            "travis 1 1\n",
            "cortne 1 1\n",
            "gary 1 1\n",
            "garland 1 1\n",
            "donald 1 1\n",
            "blaine 1 1\n",
            "john 1 1\n",
            "mabry 1 1\n",
            "milton 1 1\n",
            "fabian 1 1\n",
            "demontrell 1 1\n",
            "paul 1 1\n",
            "james 1 1\n",
            "armando 1 1\n",
            "hector 1 1\n",
            "erick 1 1\n",
            "john 1 1\n",
            "raul 1 1\n",
            "robert 1 1\n",
            "lejames 1 1\n",
            "paul 1 1\n",
            "melissa 0 0\n",
            "wesley 1 1\n",
            "randall 1 1\n",
            "rosendo 1 1\n",
            "juan 1 1\n",
            "kosoul 1 1\n",
            "dexter 1 1\n",
            "joseph 1 1\n",
            "christopher 1 1\n",
            "richard 1 1\n",
            "thomas 1 1\n",
            "juan 1 1\n",
            "ker'sean 1 1\n",
            "douglas 1 1\n",
            "tilon 1 1\n",
            "john 1 1\n",
            "clifton 1 1\n",
            "steven 1 1\n",
            "ramiro 1 1\n",
            "demetrius 1 1\n",
            "joe 1 1\n",
            "christopher 1 1\n",
            "stephen 1 1\n",
            "edward 1 1\n",
            "travis 1 1\n",
            "juan 1 1\n",
            "rodolfo 1 1\n",
            "moises 1 1\n",
            "justen 1 1\n",
            "humberto 1 1\n",
            "taichin 1 1\n",
            "andre 1 1\n",
            "elijah 1 1\n",
            "juan 1 1\n",
            "gerald 1 1\n",
            "anthony 1 1\n",
            "tracy 1 1\n",
            "anthony 1 1\n",
            "edgardo 1 1\n",
            "juan 1 1\n",
            "damon 1 1\n",
            "guy 1 1\n",
            "william 1 1\n",
            "tomas 1 1\n",
            "walter 1 1\n",
            "marcus 1 1\n",
            "john 1 1\n",
            "patrick 1 1\n",
            "david 1 1\n",
            "billy 1 1\n",
            "ray 1 1\n",
            "danny 1 1\n",
            "randy 1 1\n",
            "abel 1 1\n",
            "clinton 1 1\n",
            "tarus 1 1\n",
            "pete 1 1\n",
            "robert 1 1\n",
            "joseph 1 1\n",
            "ronald 1 1\n",
            "ronald 1 1\n",
            "irving 1 1\n",
            "perry 1 1\n",
            "geronimo 1 1\n",
            "john 1 1\n",
            "robert 1 1\n",
            "perry 1 1\n",
            "linda 0 1\n",
            "robert 1 1\n",
            "ivan 1 1\n",
            "william 1 1\n",
            "obie 1 1\n",
            "alvin 1 1\n",
            "jedidiah 1 1\n",
            "rigoberto 1 1\n",
            "gilmar 1 1\n",
            "robert 1 1\n",
            "kerry 1 1\n",
            "jamaal 1 1\n",
            "daniel 1 1\n",
            "quintin 1 1\n",
            "bill 1 1\n",
            "travis 1 1\n",
            "william 1 1\n",
            "bernardo 1 1\n",
            "anibal 1 1\n",
            "larry 1 1\n",
            "joe 1 1\n",
            "troy 1 1\n",
            "charles 1 1\n",
            "juan 1 1\n",
            "faryion 1 1\n",
            "anthony 1 1\n",
            "louis 1 1\n",
            "britt 1 1\n",
            "richard 1 1\n",
            "john 1 1\n",
            "ruben 1 1\n",
            "charles 1 1\n",
            "joel 1 1\n",
            "david 1 1\n",
            "charles 1 1\n",
            "john 1 1\n",
            "felix 1 1\n",
            "ignacio 1 1\n",
            "arthur 1 1\n",
            "anthony 1 1\n",
            "julius 1 1\n",
            "ruben 1 1\n",
            "rodney 1 1\n",
            "allen 1 1\n",
            "chuong 1 1\n",
            "larry 1 1\n",
            "brittany 0 0\n",
            "jeffery 1 1\n",
            "reinaldo 1 1\n",
            "ramiro 1 1\n",
            "carlos 1 1\n",
            "carlos 1 1\n",
            "eric 1 1\n",
            "howard 1 1\n",
            "darlie 0 0\n",
            "paul 1 1\n",
            "jorge 1 1\n",
            "garcia 1 1\n",
            "anthony 1 1\n",
            "victor 1 1\n",
            "joseph 1 1\n",
            "pablo 1 1\n",
            "robert 1 1\n",
            "larry 1 1\n",
            "michael 1 1\n",
            "scott 1 1\n",
            "erica 0 0\n",
            "henry 1 1\n",
            "billy 1 1\n",
            "arthur 1 1\n",
            "charles 1 1\n",
            "gerald 1 1\n",
            "james 1 1\n",
            "jose 1 1\n",
            "tony 1 1\n",
            "robert 1 1\n",
            "david 1 1\n",
            "rick 1 1\n",
            "george 1 1\n",
            "eugene 1 1\n",
            "william 1 1\n",
            "brian 1 1\n",
            "robert 1 1\n",
            "daryl 1 1\n",
            "shelton 1 1\n",
            "steven 1 1\n",
            "brent 1 1\n",
            "carl 1 1\n",
            "mark 1 1\n",
            "billie 1 1\n",
            "robert 1 1\n",
            "warren 1 1\n",
            "steven 1 1\n",
            "syed 1 1\n",
            "emanuel 1 1\n",
            "michael 1 1\n",
            "kenneth 1 1\n",
            "nelson 1 1\n",
            "david 1 1\n",
            "willie 1 1\n",
            "pedro 1 1\n",
            "raymond 1 1\n",
            "arthur 1 1\n",
            "bobby 1 1\n",
            "cesar 1 1\n",
            "arturo 1 1\n",
            "clarence 1 1\n",
            "harvey 1 1\n",
            "raymond 1 1\n"
          ],
          "name": "stdout"
        }
      ]
    },
    {
      "cell_type": "markdown",
      "metadata": {
        "id": "qGP24xYnDPTG",
        "colab_type": "text"
      },
      "source": [
        "You can see that the success rate is very high and the algorithm succeeds in predicting the candidate's gender by his first name."
      ]
    }
  ]
}